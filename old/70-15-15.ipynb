{
 "cells": [
  {
   "cell_type": "code",
   "execution_count": null,
   "id": "985ab031",
   "metadata": {
    "id": "ftE4Brd6p0DU",
    "papermill": {
     "duration": 0.011619,
     "end_time": "2025-06-08T16:10:25.858127",
     "exception": false,
     "start_time": "2025-06-08T16:10:25.846508",
     "status": "completed"
    },
    "tags": []
   },
   "outputs": [],
   "source": []
  },
  {
   "cell_type": "code",
   "execution_count": 1,
   "id": "acfa5e74",
   "metadata": {
    "execution": {
     "iopub.execute_input": "2025-06-08T16:10:25.879880Z",
     "iopub.status.busy": "2025-06-08T16:10:25.879613Z",
     "iopub.status.idle": "2025-06-08T16:10:33.499616Z",
     "shell.execute_reply": "2025-06-08T16:10:33.498740Z"
    },
    "id": "ceFTc-N7O8tL",
    "papermill": {
     "duration": 7.632434,
     "end_time": "2025-06-08T16:10:33.500922",
     "exception": false,
     "start_time": "2025-06-08T16:10:25.868488",
     "status": "completed"
    },
    "tags": []
   },
   "outputs": [
    {
     "name": "stdout",
     "output_type": "stream",
     "text": [
      "Requirement already satisfied: scikit-learn in /usr/local/lib/python3.11/dist-packages (1.2.2)\r\n",
      "Collecting scikit-learn\r\n",
      "  Downloading scikit_learn-1.7.0-cp311-cp311-manylinux_2_17_x86_64.manylinux2014_x86_64.whl.metadata (17 kB)\r\n",
      "Requirement already satisfied: numpy>=1.22.0 in /usr/local/lib/python3.11/dist-packages (from scikit-learn) (1.26.4)\r\n",
      "Requirement already satisfied: scipy>=1.8.0 in /usr/local/lib/python3.11/dist-packages (from scikit-learn) (1.15.2)\r\n",
      "Requirement already satisfied: joblib>=1.2.0 in /usr/local/lib/python3.11/dist-packages (from scikit-learn) (1.5.0)\r\n",
      "Requirement already satisfied: threadpoolctl>=3.1.0 in /usr/local/lib/python3.11/dist-packages (from scikit-learn) (3.6.0)\r\n",
      "Requirement already satisfied: mkl_fft in /usr/local/lib/python3.11/dist-packages (from numpy>=1.22.0->scikit-learn) (1.3.8)\r\n",
      "Requirement already satisfied: mkl_random in /usr/local/lib/python3.11/dist-packages (from numpy>=1.22.0->scikit-learn) (1.2.4)\r\n",
      "Requirement already satisfied: mkl_umath in /usr/local/lib/python3.11/dist-packages (from numpy>=1.22.0->scikit-learn) (0.1.1)\r\n",
      "Requirement already satisfied: mkl in /usr/local/lib/python3.11/dist-packages (from numpy>=1.22.0->scikit-learn) (2025.1.0)\r\n",
      "Requirement already satisfied: tbb4py in /usr/local/lib/python3.11/dist-packages (from numpy>=1.22.0->scikit-learn) (2022.1.0)\r\n",
      "Requirement already satisfied: mkl-service in /usr/local/lib/python3.11/dist-packages (from numpy>=1.22.0->scikit-learn) (2.4.1)\r\n",
      "Requirement already satisfied: intel-openmp<2026,>=2024 in /usr/local/lib/python3.11/dist-packages (from mkl->numpy>=1.22.0->scikit-learn) (2024.2.0)\r\n",
      "Requirement already satisfied: tbb==2022.* in /usr/local/lib/python3.11/dist-packages (from mkl->numpy>=1.22.0->scikit-learn) (2022.1.0)\r\n",
      "Requirement already satisfied: tcmlib==1.* in /usr/local/lib/python3.11/dist-packages (from tbb==2022.*->mkl->numpy>=1.22.0->scikit-learn) (1.3.0)\r\n",
      "Requirement already satisfied: intel-cmplr-lib-rt in /usr/local/lib/python3.11/dist-packages (from mkl_umath->numpy>=1.22.0->scikit-learn) (2024.2.0)\r\n",
      "Requirement already satisfied: intel-cmplr-lib-ur==2024.2.0 in /usr/local/lib/python3.11/dist-packages (from intel-openmp<2026,>=2024->mkl->numpy>=1.22.0->scikit-learn) (2024.2.0)\r\n",
      "Downloading scikit_learn-1.7.0-cp311-cp311-manylinux_2_17_x86_64.manylinux2014_x86_64.whl (12.9 MB)\r\n",
      "\u001b[2K   \u001b[90m━━━━━━━━━━━━━━━━━━━━━━━━━━━━━━━━━━━━━━━━\u001b[0m \u001b[32m12.9/12.9 MB\u001b[0m \u001b[31m96.8 MB/s\u001b[0m eta \u001b[36m0:00:00\u001b[0m\r\n",
      "\u001b[?25hInstalling collected packages: scikit-learn\r\n",
      "  Attempting uninstall: scikit-learn\r\n",
      "    Found existing installation: scikit-learn 1.2.2\r\n",
      "    Uninstalling scikit-learn-1.2.2:\r\n",
      "      Successfully uninstalled scikit-learn-1.2.2\r\n",
      "\u001b[31mERROR: pip's dependency resolver does not currently take into account all the packages that are installed. This behaviour is the source of the following dependency conflicts.\r\n",
      "category-encoders 2.7.0 requires scikit-learn<1.6.0,>=1.0.0, but you have scikit-learn 1.7.0 which is incompatible.\r\n",
      "cesium 0.12.4 requires numpy<3.0,>=2.0, but you have numpy 1.26.4 which is incompatible.\r\n",
      "sklearn-compat 0.1.3 requires scikit-learn<1.7,>=1.2, but you have scikit-learn 1.7.0 which is incompatible.\u001b[0m\u001b[31m\r\n",
      "\u001b[0mSuccessfully installed scikit-learn-1.7.0\r\n",
      "Note: you may need to restart the kernel to use updated packages.\n"
     ]
    }
   ],
   "source": [
    "pip install --upgrade scikit-learn\n"
   ]
  },
  {
   "cell_type": "code",
   "execution_count": 2,
   "id": "3d2ab203",
   "metadata": {
    "execution": {
     "iopub.execute_input": "2025-06-08T16:10:33.524193Z",
     "iopub.status.busy": "2025-06-08T16:10:33.523671Z",
     "iopub.status.idle": "2025-06-08T16:10:39.402482Z",
     "shell.execute_reply": "2025-06-08T16:10:39.401402Z"
    },
    "papermill": {
     "duration": 5.891692,
     "end_time": "2025-06-08T16:10:39.403830",
     "exception": false,
     "start_time": "2025-06-08T16:10:33.512138",
     "status": "completed"
    },
    "tags": []
   },
   "outputs": [
    {
     "name": "stdout",
     "output_type": "stream",
     "text": [
      "Requirement already satisfied: scikit-learn in /usr/local/lib/python3.11/dist-packages (1.7.0)\r\n",
      "Requirement already satisfied: imbalanced-learn in /usr/local/lib/python3.11/dist-packages (0.13.0)\r\n",
      "Requirement already satisfied: numpy>=1.22.0 in /usr/local/lib/python3.11/dist-packages (from scikit-learn) (1.26.4)\r\n",
      "Requirement already satisfied: scipy>=1.8.0 in /usr/local/lib/python3.11/dist-packages (from scikit-learn) (1.15.2)\r\n",
      "Requirement already satisfied: joblib>=1.2.0 in /usr/local/lib/python3.11/dist-packages (from scikit-learn) (1.5.0)\r\n",
      "Requirement already satisfied: threadpoolctl>=3.1.0 in /usr/local/lib/python3.11/dist-packages (from scikit-learn) (3.6.0)\r\n",
      "Requirement already satisfied: sklearn-compat<1,>=0.1 in /usr/local/lib/python3.11/dist-packages (from imbalanced-learn) (0.1.3)\r\n",
      "Requirement already satisfied: mkl_fft in /usr/local/lib/python3.11/dist-packages (from numpy>=1.22.0->scikit-learn) (1.3.8)\r\n",
      "Requirement already satisfied: mkl_random in /usr/local/lib/python3.11/dist-packages (from numpy>=1.22.0->scikit-learn) (1.2.4)\r\n",
      "Requirement already satisfied: mkl_umath in /usr/local/lib/python3.11/dist-packages (from numpy>=1.22.0->scikit-learn) (0.1.1)\r\n",
      "Requirement already satisfied: mkl in /usr/local/lib/python3.11/dist-packages (from numpy>=1.22.0->scikit-learn) (2025.1.0)\r\n",
      "Requirement already satisfied: tbb4py in /usr/local/lib/python3.11/dist-packages (from numpy>=1.22.0->scikit-learn) (2022.1.0)\r\n",
      "Requirement already satisfied: mkl-service in /usr/local/lib/python3.11/dist-packages (from numpy>=1.22.0->scikit-learn) (2.4.1)\r\n",
      "Collecting scikit-learn\r\n",
      "  Downloading scikit_learn-1.6.1-cp311-cp311-manylinux_2_17_x86_64.manylinux2014_x86_64.whl.metadata (18 kB)\r\n",
      "Requirement already satisfied: intel-openmp<2026,>=2024 in /usr/local/lib/python3.11/dist-packages (from mkl->numpy>=1.22.0->scikit-learn) (2024.2.0)\r\n",
      "Requirement already satisfied: tbb==2022.* in /usr/local/lib/python3.11/dist-packages (from mkl->numpy>=1.22.0->scikit-learn) (2022.1.0)\r\n",
      "Requirement already satisfied: tcmlib==1.* in /usr/local/lib/python3.11/dist-packages (from tbb==2022.*->mkl->numpy>=1.22.0->scikit-learn) (1.3.0)\r\n",
      "Requirement already satisfied: intel-cmplr-lib-rt in /usr/local/lib/python3.11/dist-packages (from mkl_umath->numpy>=1.22.0->scikit-learn) (2024.2.0)\r\n",
      "Requirement already satisfied: intel-cmplr-lib-ur==2024.2.0 in /usr/local/lib/python3.11/dist-packages (from intel-openmp<2026,>=2024->mkl->numpy>=1.22.0->scikit-learn) (2024.2.0)\r\n",
      "Downloading scikit_learn-1.6.1-cp311-cp311-manylinux_2_17_x86_64.manylinux2014_x86_64.whl (13.5 MB)\r\n",
      "\u001b[2K   \u001b[90m━━━━━━━━━━━━━━━━━━━━━━━━━━━━━━━━━━━━━━━━\u001b[0m \u001b[32m13.5/13.5 MB\u001b[0m \u001b[31m102.2 MB/s\u001b[0m eta \u001b[36m0:00:00\u001b[0m\r\n",
      "\u001b[?25hInstalling collected packages: scikit-learn\r\n",
      "  Attempting uninstall: scikit-learn\r\n",
      "    Found existing installation: scikit-learn 1.7.0\r\n",
      "    Uninstalling scikit-learn-1.7.0:\r\n",
      "      Successfully uninstalled scikit-learn-1.7.0\r\n",
      "\u001b[31mERROR: pip's dependency resolver does not currently take into account all the packages that are installed. This behaviour is the source of the following dependency conflicts.\r\n",
      "category-encoders 2.7.0 requires scikit-learn<1.6.0,>=1.0.0, but you have scikit-learn 1.6.1 which is incompatible.\r\n",
      "cesium 0.12.4 requires numpy<3.0,>=2.0, but you have numpy 1.26.4 which is incompatible.\u001b[0m\u001b[31m\r\n",
      "\u001b[0mSuccessfully installed scikit-learn-1.6.1\r\n",
      "Note: you may need to restart the kernel to use updated packages.\n"
     ]
    }
   ],
   "source": [
    "pip install -U scikit-learn imbalanced-learn\n"
   ]
  },
  {
   "cell_type": "code",
   "execution_count": 3,
   "id": "d74c2199",
   "metadata": {
    "execution": {
     "iopub.execute_input": "2025-06-08T16:10:39.429218Z",
     "iopub.status.busy": "2025-06-08T16:10:39.428931Z",
     "iopub.status.idle": "2025-06-08T16:10:43.544391Z",
     "shell.execute_reply": "2025-06-08T16:10:43.543514Z"
    },
    "id": "ruQKuoXXrdZn",
    "papermill": {
     "duration": 4.129488,
     "end_time": "2025-06-08T16:10:43.545895",
     "exception": false,
     "start_time": "2025-06-08T16:10:39.416407",
     "status": "completed"
    },
    "tags": []
   },
   "outputs": [],
   "source": [
    "import pandas as pd\n",
    "from sklearn.model_selection import train_test_split\n",
    "from imblearn.under_sampling import RandomUnderSampler\n",
    "\n",
    "# 1. Load dataset\n",
    "df = pd.read_csv(\"/kaggle/input/work-dataset/ready_fraud_detection_dataset.csv\")\n",
    "\n",
    "# 2. Create numeric label\n",
    "df['label'] = df['fraudulent'].map({'f': 0, 't': 1})\n",
    "\n",
    "# 3. Drop any rows with missing full_text (just in case)\n",
    "df = df.dropna(subset=['full_text'])\n",
    "\n",
    "# 4. Train-test split (70:30)\n",
    "X = df['full_text']\n",
    "y = df['label']\n",
    "\n",
    "test_size = 0.15\n",
    "val_size = 0.15\n",
    "train_size = 0.70\n",
    "X_temp, X_test, y_temp, y_test = train_test_split(X, y, test_size=test_size, stratify=y, random_state=42)\n",
    "X_train, X_val, y_train, y_val = train_test_split(X_temp, y_temp, test_size=val_size/(train_size + val_size), stratify=y_temp, random_state=42)\n",
    "\n"
   ]
  },
  {
   "cell_type": "code",
   "execution_count": 4,
   "id": "559e80e8",
   "metadata": {
    "execution": {
     "iopub.execute_input": "2025-06-08T16:10:43.570556Z",
     "iopub.status.busy": "2025-06-08T16:10:43.570194Z",
     "iopub.status.idle": "2025-06-08T16:10:43.588880Z",
     "shell.execute_reply": "2025-06-08T16:10:43.588273Z"
    },
    "id": "Pox27fyPr9eh",
    "outputId": "c943edf6-9f7b-4435-a4fd-b3cd7485627b",
    "papermill": {
     "duration": 0.032101,
     "end_time": "2025-06-08T16:10:43.589922",
     "exception": false,
     "start_time": "2025-06-08T16:10:43.557821",
     "status": "completed"
    },
    "tags": []
   },
   "outputs": [
    {
     "data": {
      "text/html": [
       "<div>\n",
       "<style scoped>\n",
       "    .dataframe tbody tr th:only-of-type {\n",
       "        vertical-align: middle;\n",
       "    }\n",
       "\n",
       "    .dataframe tbody tr th {\n",
       "        vertical-align: top;\n",
       "    }\n",
       "\n",
       "    .dataframe thead th {\n",
       "        text-align: right;\n",
       "    }\n",
       "</style>\n",
       "<table border=\"1\" class=\"dataframe\">\n",
       "  <thead>\n",
       "    <tr style=\"text-align: right;\">\n",
       "      <th></th>\n",
       "      <th>full_text</th>\n",
       "      <th>fraudulent</th>\n",
       "      <th>label</th>\n",
       "    </tr>\n",
       "  </thead>\n",
       "  <tbody>\n",
       "    <tr>\n",
       "      <th>0</th>\n",
       "      <td>marketing intern were food52 and weve created ...</td>\n",
       "      <td>f</td>\n",
       "      <td>0</td>\n",
       "    </tr>\n",
       "    <tr>\n",
       "      <th>1</th>\n",
       "      <td>customer service cloud video production 90 sec...</td>\n",
       "      <td>f</td>\n",
       "      <td>0</td>\n",
       "    </tr>\n",
       "    <tr>\n",
       "      <th>2</th>\n",
       "      <td>commissioning machinery assistant cma valor se...</td>\n",
       "      <td>f</td>\n",
       "      <td>0</td>\n",
       "    </tr>\n",
       "    <tr>\n",
       "      <th>3</th>\n",
       "      <td>account executive washington dc our passion fo...</td>\n",
       "      <td>f</td>\n",
       "      <td>0</td>\n",
       "    </tr>\n",
       "    <tr>\n",
       "      <th>4</th>\n",
       "      <td>bill review manager spotsource solutions llc i...</td>\n",
       "      <td>f</td>\n",
       "      <td>0</td>\n",
       "    </tr>\n",
       "    <tr>\n",
       "      <th>...</th>\n",
       "      <td>...</td>\n",
       "      <td>...</td>\n",
       "      <td>...</td>\n",
       "    </tr>\n",
       "    <tr>\n",
       "      <th>17875</th>\n",
       "      <td>account director distribution vend is looking ...</td>\n",
       "      <td>f</td>\n",
       "      <td>0</td>\n",
       "    </tr>\n",
       "    <tr>\n",
       "      <th>17876</th>\n",
       "      <td>payroll accountant weblinc is the ecommerce pl...</td>\n",
       "      <td>f</td>\n",
       "      <td>0</td>\n",
       "    </tr>\n",
       "    <tr>\n",
       "      <th>17877</th>\n",
       "      <td>project cost control staff engineer cost contr...</td>\n",
       "      <td>f</td>\n",
       "      <td>0</td>\n",
       "    </tr>\n",
       "    <tr>\n",
       "      <th>17878</th>\n",
       "      <td>graphic designer nemsia studios is looking for...</td>\n",
       "      <td>f</td>\n",
       "      <td>0</td>\n",
       "    </tr>\n",
       "    <tr>\n",
       "      <th>17879</th>\n",
       "      <td>web application developers vend is looking for...</td>\n",
       "      <td>f</td>\n",
       "      <td>0</td>\n",
       "    </tr>\n",
       "  </tbody>\n",
       "</table>\n",
       "<p>17880 rows × 3 columns</p>\n",
       "</div>"
      ],
      "text/plain": [
       "                                               full_text fraudulent  label\n",
       "0      marketing intern were food52 and weve created ...          f      0\n",
       "1      customer service cloud video production 90 sec...          f      0\n",
       "2      commissioning machinery assistant cma valor se...          f      0\n",
       "3      account executive washington dc our passion fo...          f      0\n",
       "4      bill review manager spotsource solutions llc i...          f      0\n",
       "...                                                  ...        ...    ...\n",
       "17875  account director distribution vend is looking ...          f      0\n",
       "17876  payroll accountant weblinc is the ecommerce pl...          f      0\n",
       "17877  project cost control staff engineer cost contr...          f      0\n",
       "17878  graphic designer nemsia studios is looking for...          f      0\n",
       "17879  web application developers vend is looking for...          f      0\n",
       "\n",
       "[17880 rows x 3 columns]"
      ]
     },
     "execution_count": 4,
     "metadata": {},
     "output_type": "execute_result"
    }
   ],
   "source": [
    "df"
   ]
  },
  {
   "cell_type": "code",
   "execution_count": 5,
   "id": "fc606fc1",
   "metadata": {
    "execution": {
     "iopub.execute_input": "2025-06-08T16:10:43.614296Z",
     "iopub.status.busy": "2025-06-08T16:10:43.614108Z",
     "iopub.status.idle": "2025-06-08T16:10:43.632660Z",
     "shell.execute_reply": "2025-06-08T16:10:43.631730Z"
    },
    "id": "WtR_2x-lsA4p",
    "outputId": "232c386e-c4a9-4d5d-e4f1-21a7bfa5cb69",
    "papermill": {
     "duration": 0.031858,
     "end_time": "2025-06-08T16:10:43.633674",
     "exception": false,
     "start_time": "2025-06-08T16:10:43.601816",
     "status": "completed"
    },
    "tags": []
   },
   "outputs": [
    {
     "name": "stdout",
     "output_type": "stream",
     "text": [
      "DEBUGGING CHECKS\n",
      "Total rows in original df: 17880\n",
      "NaNs in full_text: 0\n",
      "Class distribution in full dataset:\n",
      " label\n",
      "0    17014\n",
      "1      866\n",
      "Name: count, dtype: int64\n",
      "Size of X_train: 12516\n",
      "Size of y_train: 12516\n",
      "Size of X_test: 2682\n",
      "Size of y_test: 2682\n",
      "Size of X_val: 2682\n",
      "Size of y_val: 2682\n",
      "NaNs in X_train: 0\n",
      "NaNs in y_train: 0\n",
      "Empty string entries in X_train: 0\n"
     ]
    }
   ],
   "source": [
    "# Debugging Block\n",
    "\n",
    "print(\"DEBUGGING CHECKS\")\n",
    "print(\"Total rows in original df:\", len(df))\n",
    "print(\"NaNs in full_text:\", df['full_text'].isna().sum())\n",
    "print(\"Class distribution in full dataset:\\n\", df['label'].value_counts())\n",
    "print(\"Size of X_train:\", len(X_train))\n",
    "print(\"Size of y_train:\", len(y_train))\n",
    "print(\"Size of X_test:\", len(X_test))\n",
    "print(\"Size of y_test:\", len(y_test))\n",
    "print(\"Size of X_val:\", len(X_val))\n",
    "print(\"Size of y_val:\", len(y_val))\n",
    "\n",
    "# Check for NaNs in training data\n",
    "print(\"NaNs in X_train:\", X_train.isna().sum())\n",
    "print(\"NaNs in y_train:\", y_train.isna().sum())\n",
    "\n",
    "# Optional: Check if X_train has any empty strings\n",
    "empty_text_count = (X_train.str.strip() == \"\").sum()\n",
    "print(\"Empty string entries in X_train:\", empty_text_count)\n",
    "\n",
    "# Sanity check: X_train must not be empty\n",
    "assert len(X_train) > 0, \"X_train is EMPTY!\"\n",
    "assert X_train.isna().sum() == 0, \"X_train contains NaNs!\""
   ]
  },
  {
   "cell_type": "code",
   "execution_count": null,
   "id": "215f33c2",
   "metadata": {
    "id": "oPDF10cMLWQP",
    "papermill": {
     "duration": 0.011934,
     "end_time": "2025-06-08T16:10:43.657337",
     "exception": false,
     "start_time": "2025-06-08T16:10:43.645403",
     "status": "completed"
    },
    "tags": []
   },
   "outputs": [],
   "source": []
  },
  {
   "cell_type": "code",
   "execution_count": 6,
   "id": "c870a83e",
   "metadata": {
    "execution": {
     "iopub.execute_input": "2025-06-08T16:10:43.683281Z",
     "iopub.status.busy": "2025-06-08T16:10:43.683100Z",
     "iopub.status.idle": "2025-06-08T16:10:43.686477Z",
     "shell.execute_reply": "2025-06-08T16:10:43.685809Z"
    },
    "id": "iwRdZuieNDwq",
    "papermill": {
     "duration": 0.016712,
     "end_time": "2025-06-08T16:10:43.687540",
     "exception": false,
     "start_time": "2025-06-08T16:10:43.670828",
     "status": "completed"
    },
    "tags": []
   },
   "outputs": [],
   "source": [
    "# pip install transformers scikit-learn imbalanced-learn\n",
    "# from transformers import BertTokenizer, BertModel\n",
    "# import torch\n",
    "# import numpy as np\n",
    "# from tqdm import tqdm\n",
    "\n",
    "# # Load BERT tokenizer and model (uncased base)\n",
    "# tokenizer = BertTokenizer.from_pretrained('bert-base-uncased')\n",
    "# bert = BertModel.from_pretrained('bert-base-uncased')\n",
    "# bert.eval()  # No training\n",
    "\n",
    "# # Function to get BERT embeddings (CLS token)\n",
    "# def get_bert_embeddings(texts, max_len=128):\n",
    "#     embeddings = []\n",
    "#     with torch.no_grad():\n",
    "#         for text in tqdm(texts):\n",
    "#             inputs = tokenizer(text, padding='max_length', truncation=True,\n",
    "#                                max_length=max_len, return_tensors='pt')\n",
    "#             outputs = bert(**inputs)\n",
    "#             cls_embedding = outputs.last_hidden_state[0][0]  # CLS token\n",
    "#             embeddings.append(cls_embedding.numpy())\n",
    "#     return np.array(embeddings)\n",
    "\n",
    "# # Apply to your train/val/test sets\n",
    "# X_train_embed = get_bert_embeddings(X_train)\n",
    "# X_val_embed = get_bert_embeddings(X_val)\n",
    "# X_test_embed = get_bert_embeddings(X_test)\n"
   ]
  },
  {
   "cell_type": "code",
   "execution_count": 7,
   "id": "1e48bdbe",
   "metadata": {
    "execution": {
     "iopub.execute_input": "2025-06-08T16:10:43.712169Z",
     "iopub.status.busy": "2025-06-08T16:10:43.711960Z",
     "iopub.status.idle": "2025-06-08T16:10:43.725934Z",
     "shell.execute_reply": "2025-06-08T16:10:43.725178Z"
    },
    "id": "3eXPyXudtoey",
    "papermill": {
     "duration": 0.027696,
     "end_time": "2025-06-08T16:10:43.727071",
     "exception": false,
     "start_time": "2025-06-08T16:10:43.699375",
     "status": "completed"
    },
    "tags": []
   },
   "outputs": [],
   "source": [
    "#  5. Convert X_train to DataFrame (required by RandomUnderSampler)\n",
    "X_train_df = pd.DataFrame({'text': X_train.values})\n",
    "\n",
    "# Check the length before resampling\n",
    "assert len(X_train_df) > 0, \"X_train is empty!\"\n",
    "\n",
    "# 6. Apply Random Undersampling\n",
    "rus = RandomUnderSampler(random_state=42)\n",
    "X_rus, y_rus = rus.fit_resample(X_train_df, y_train)\n",
    "\n",
    "# 7. Manual Oversampling (repeat minority class)\n",
    "df_rus = pd.DataFrame({'text': X_rus['text'], 'label': y_rus})\n",
    "minority = df_rus[df_rus['label'] == 1]\n",
    "majority = df_rus[df_rus['label'] == 0]\n",
    "minority_oversampled = minority.sample(n=len(majority), replace=True, random_state=42)\n",
    "\n",
    "# 8. Combine and shuffle the balanced data\n",
    "df_balanced = pd.concat([majority, minority_oversampled]).sample(frac=1, random_state=42)\n",
    "\n",
    "# Final balanced train data\n",
    "X_train_balanced = df_balanced['text'].tolist()\n",
    "y_train_balanced = df_balanced['label'].tolist()"
   ]
  },
  {
   "cell_type": "code",
   "execution_count": 8,
   "id": "6e2774ef",
   "metadata": {
    "execution": {
     "iopub.execute_input": "2025-06-08T16:10:43.751636Z",
     "iopub.status.busy": "2025-06-08T16:10:43.751430Z",
     "iopub.status.idle": "2025-06-08T16:10:43.755667Z",
     "shell.execute_reply": "2025-06-08T16:10:43.754997Z"
    },
    "id": "jeY7w4mZtqBM",
    "outputId": "3644ffa4-1389-4de7-b967-a8dff9254c00",
    "papermill": {
     "duration": 0.017587,
     "end_time": "2025-06-08T16:10:43.756726",
     "exception": false,
     "start_time": "2025-06-08T16:10:43.739139",
     "status": "completed"
    },
    "tags": []
   },
   "outputs": [
    {
     "data": {
      "text/plain": [
       "1212"
      ]
     },
     "execution_count": 8,
     "metadata": {},
     "output_type": "execute_result"
    }
   ],
   "source": [
    "len(X_train_balanced)"
   ]
  },
  {
   "cell_type": "code",
   "execution_count": 9,
   "id": "eef2556d",
   "metadata": {
    "execution": {
     "iopub.execute_input": "2025-06-08T16:10:43.781324Z",
     "iopub.status.busy": "2025-06-08T16:10:43.781113Z",
     "iopub.status.idle": "2025-06-08T16:10:43.784461Z",
     "shell.execute_reply": "2025-06-08T16:10:43.783719Z"
    },
    "id": "jHhGeBYxsB-b",
    "papermill": {
     "duration": 0.016754,
     "end_time": "2025-06-08T16:10:43.785495",
     "exception": false,
     "start_time": "2025-06-08T16:10:43.768741",
     "status": "completed"
    },
    "tags": []
   },
   "outputs": [],
   "source": [
    "# from sklearn.feature_extraction.text import TfidfVectorizer\n",
    "# from imblearn.over_sampling import SMOTE\n",
    "# import pandas as pd\n",
    "\n",
    "# # 5. Convert X_train to DataFrame (required for vectorization)\n",
    "# X_train_series = pd.Series(X_train)  # ensure it's a Series\n",
    "\n",
    "# # 6. Vectorize text data\n",
    "# vectorizer = TfidfVectorizer()\n",
    "# X_train_vectorized = vectorizer.fit_transform(X_train_series)\n",
    "\n",
    "# # 7. Apply SMOTE\n",
    "# smote = SMOTE(random_state=42)\n",
    "# X_smote, y_smote = smote.fit_resample(X_train_vectorized, y_train)\n",
    "\n",
    "# # 8. (Optional) Convert back to text if needed (not recommended, but possible via vector inversion)\n",
    "\n",
    "# # 9. Final balanced train data (for ML models that accept vectors)\n",
    "# X_train_balanced = X_smote\n",
    "# y_train_balanced = y_smote\n"
   ]
  },
  {
   "cell_type": "code",
   "execution_count": 10,
   "id": "7d2e703e",
   "metadata": {
    "execution": {
     "iopub.execute_input": "2025-06-08T16:10:43.810383Z",
     "iopub.status.busy": "2025-06-08T16:10:43.809885Z",
     "iopub.status.idle": "2025-06-08T16:10:43.817534Z",
     "shell.execute_reply": "2025-06-08T16:10:43.816814Z"
    },
    "id": "asxaur_csb9q",
    "outputId": "88fcf205-19af-410c-ee5d-2a1829f5364a",
    "papermill": {
     "duration": 0.02154,
     "end_time": "2025-06-08T16:10:43.818862",
     "exception": false,
     "start_time": "2025-06-08T16:10:43.797322",
     "status": "completed"
    },
    "tags": []
   },
   "outputs": [
    {
     "data": {
      "text/html": [
       "<div>\n",
       "<style scoped>\n",
       "    .dataframe tbody tr th:only-of-type {\n",
       "        vertical-align: middle;\n",
       "    }\n",
       "\n",
       "    .dataframe tbody tr th {\n",
       "        vertical-align: top;\n",
       "    }\n",
       "\n",
       "    .dataframe thead th {\n",
       "        text-align: right;\n",
       "    }\n",
       "</style>\n",
       "<table border=\"1\" class=\"dataframe\">\n",
       "  <thead>\n",
       "    <tr style=\"text-align: right;\">\n",
       "      <th></th>\n",
       "      <th>text</th>\n",
       "      <th>label</th>\n",
       "    </tr>\n",
       "  </thead>\n",
       "  <tbody>\n",
       "    <tr>\n",
       "      <th>9266</th>\n",
       "      <td>data entry admin preparation of monthly invoic...</td>\n",
       "      <td>1</td>\n",
       "    </tr>\n",
       "    <tr>\n",
       "      <th>9113</th>\n",
       "      <td>student positions parttime and fulltime studen...</td>\n",
       "      <td>1</td>\n",
       "    </tr>\n",
       "    <tr>\n",
       "      <th>11677</th>\n",
       "      <td>english teacher abroad we help teachers get sa...</td>\n",
       "      <td>0</td>\n",
       "    </tr>\n",
       "    <tr>\n",
       "      <th>601</th>\n",
       "      <td>customer service agent customer service reps n...</td>\n",
       "      <td>1</td>\n",
       "    </tr>\n",
       "    <tr>\n",
       "      <th>6257</th>\n",
       "      <td>client services and traffic manager web agency...</td>\n",
       "      <td>0</td>\n",
       "    </tr>\n",
       "    <tr>\n",
       "      <th>...</th>\n",
       "      <td>...</td>\n",
       "      <td>...</td>\n",
       "    </tr>\n",
       "    <tr>\n",
       "      <th>4192</th>\n",
       "      <td>data entryadministrative assistant health cata...</td>\n",
       "      <td>1</td>\n",
       "    </tr>\n",
       "    <tr>\n",
       "      <th>10425</th>\n",
       "      <td>customer service specialist we are a specialty...</td>\n",
       "      <td>1</td>\n",
       "    </tr>\n",
       "    <tr>\n",
       "      <th>10218</th>\n",
       "      <td>payroll data coordinator positions earn 100200...</td>\n",
       "      <td>1</td>\n",
       "    </tr>\n",
       "    <tr>\n",
       "      <th>569</th>\n",
       "      <td>mobile developerback end aptitude staffing sol...</td>\n",
       "      <td>1</td>\n",
       "    </tr>\n",
       "    <tr>\n",
       "      <th>8</th>\n",
       "      <td>data entry adminclerical positions work from h...</td>\n",
       "      <td>1</td>\n",
       "    </tr>\n",
       "  </tbody>\n",
       "</table>\n",
       "<p>1212 rows × 2 columns</p>\n",
       "</div>"
      ],
      "text/plain": [
       "                                                    text  label\n",
       "9266   data entry admin preparation of monthly invoic...      1\n",
       "9113   student positions parttime and fulltime studen...      1\n",
       "11677  english teacher abroad we help teachers get sa...      0\n",
       "601    customer service agent customer service reps n...      1\n",
       "6257   client services and traffic manager web agency...      0\n",
       "...                                                  ...    ...\n",
       "4192   data entryadministrative assistant health cata...      1\n",
       "10425  customer service specialist we are a specialty...      1\n",
       "10218  payroll data coordinator positions earn 100200...      1\n",
       "569    mobile developerback end aptitude staffing sol...      1\n",
       "8      data entry adminclerical positions work from h...      1\n",
       "\n",
       "[1212 rows x 2 columns]"
      ]
     },
     "execution_count": 10,
     "metadata": {},
     "output_type": "execute_result"
    }
   ],
   "source": [
    "df_balanced"
   ]
  },
  {
   "cell_type": "code",
   "execution_count": 11,
   "id": "b8aec494",
   "metadata": {
    "execution": {
     "iopub.execute_input": "2025-06-08T16:10:43.844869Z",
     "iopub.status.busy": "2025-06-08T16:10:43.844654Z",
     "iopub.status.idle": "2025-06-08T16:10:44.053504Z",
     "shell.execute_reply": "2025-06-08T16:10:44.052816Z"
    },
    "id": "yZrJ_9kTsluG",
    "outputId": "afa3de27-0907-414f-9b27-c36b11a89373",
    "papermill": {
     "duration": 0.222726,
     "end_time": "2025-06-08T16:10:44.054646",
     "exception": false,
     "start_time": "2025-06-08T16:10:43.831920",
     "status": "completed"
    },
    "tags": []
   },
   "outputs": [
    {
     "name": "stdout",
     "output_type": "stream",
     "text": [
      "Balanced training set label counts: Counter({1: 606, 0: 606})\n"
     ]
    },
    {
     "data": {
      "image/png": "[encoded data removed]",
      "text/plain": [
       "<Figure size 600x400 with 1 Axes>"
      ]
     },
     "metadata": {},
     "output_type": "display_data"
    }
   ],
   "source": [
    "import matplotlib.pyplot as plt\n",
    "from collections import Counter\n",
    "\n",
    "# Print label distribution\n",
    "print(\"Balanced training set label counts:\", Counter(y_train_balanced))\n",
    "\n",
    "# Create a histogram\n",
    "plt.figure(figsize=(6, 4))\n",
    "plt.hist(y_train_balanced, bins=2, rwidth=0.6, color='skyblue')\n",
    "plt.xticks([0, 1], ['Not Fraudulent (0)', 'Fraudulent (1)'])\n",
    "plt.title(\"Balanced Class Distribution (Train Set)\")\n",
    "plt.xlabel(\"Class\")\n",
    "plt.ylabel(\"Count\")\n",
    "plt.grid(axis='y', linestyle='--', alpha=0.7)\n",
    "plt.tight_layout()\n",
    "plt.show()"
   ]
  },
  {
   "cell_type": "code",
   "execution_count": 12,
   "id": "6a5f2b25",
   "metadata": {
    "execution": {
     "iopub.execute_input": "2025-06-08T16:10:44.081301Z",
     "iopub.status.busy": "2025-06-08T16:10:44.080679Z",
     "iopub.status.idle": "2025-06-08T16:11:43.331863Z",
     "shell.execute_reply": "2025-06-08T16:11:43.330988Z"
    },
    "id": "rc3fnhYgs0YY",
    "outputId": "21597339-2eb5-4217-e25f-d89e97f52393",
    "papermill": {
     "duration": 59.265779,
     "end_time": "2025-06-08T16:11:43.333341",
     "exception": false,
     "start_time": "2025-06-08T16:10:44.067562",
     "status": "completed"
    },
    "tags": []
   },
   "outputs": [
    {
     "data": {
      "application/vnd.jupyter.widget-view+json": {
       "model_id": "652296b48f984ae3adc531aebbad3177",
       "version_major": 2,
       "version_minor": 0
      },
      "text/plain": [
       "tokenizer_config.json:   0%|          | 0.00/48.0 [00:00<?, ?B/s]"
      ]
     },
     "metadata": {},
     "output_type": "display_data"
    },
    {
     "data": {
      "application/vnd.jupyter.widget-view+json": {
       "model_id": "b2e11bee3ba94175b0767180d6914770",
       "version_major": 2,
       "version_minor": 0
      },
      "text/plain": [
       "vocab.txt:   0%|          | 0.00/232k [00:00<?, ?B/s]"
      ]
     },
     "metadata": {},
     "output_type": "display_data"
    },
    {
     "data": {
      "application/vnd.jupyter.widget-view+json": {
       "model_id": "2e3fcba761c149a28a6aa4a42d6fabf2",
       "version_major": 2,
       "version_minor": 0
      },
      "text/plain": [
       "tokenizer.json:   0%|          | 0.00/466k [00:00<?, ?B/s]"
      ]
     },
     "metadata": {},
     "output_type": "display_data"
    },
    {
     "data": {
      "application/vnd.jupyter.widget-view+json": {
       "model_id": "6c14fddaa4bd446db6f8397a10f5d6fc",
       "version_major": 2,
       "version_minor": 0
      },
      "text/plain": [
       "config.json:   0%|          | 0.00/570 [00:00<?, ?B/s]"
      ]
     },
     "metadata": {},
     "output_type": "display_data"
    }
   ],
   "source": [
    "from transformers import BertTokenizer\n",
    "\n",
    "# Load pre-trained BERT tokenizer\n",
    "tokenizer = BertTokenizer.from_pretrained('bert-base-uncased')\n",
    "\n",
    "# Tokenize balanced training texts\n",
    "train_encodings = tokenizer(\n",
    "    X_train_balanced,\n",
    "    padding='max_length', # ensures same length for all\n",
    "    truncation=True,\n",
    "    max_length=512,\n",
    "    return_tensors='pt'\n",
    ")\n",
    "\n",
    "# Tokenize original unbalanced test texts\n",
    "test_encodings = tokenizer(\n",
    "    list(X_test),\n",
    "    padding='max_length',\n",
    "    truncation=True,\n",
    "    max_length=512,\n",
    "    return_tensors='pt'\n",
    ")\n",
    "\n",
    "# Tokenize original unbalanced val texts\n",
    "val_encodings = tokenizer(\n",
    "    list(X_val),\n",
    "    padding='max_length',\n",
    "    truncation=True,\n",
    "    max_length=512,\n",
    "    return_tensors='pt'\n",
    ")"
   ]
  },
  {
   "cell_type": "code",
   "execution_count": 13,
   "id": "89c33602",
   "metadata": {
    "execution": {
     "iopub.execute_input": "2025-06-08T16:11:43.404366Z",
     "iopub.status.busy": "2025-06-08T16:11:43.403832Z",
     "iopub.status.idle": "2025-06-08T16:11:43.422201Z",
     "shell.execute_reply": "2025-06-08T16:11:43.421401Z"
    },
    "id": "k99a01oCs4aE",
    "outputId": "833b6a33-8447-4040-c87c-877066fa1af7",
    "papermill": {
     "duration": 0.076191,
     "end_time": "2025-06-08T16:11:43.423317",
     "exception": false,
     "start_time": "2025-06-08T16:11:43.347126",
     "status": "completed"
    },
    "tags": []
   },
   "outputs": [
    {
     "name": "stdout",
     "output_type": "stream",
     "text": [
      "Input IDs: tensor([  101,  2188,  2241, 26854,  5939, 18136,  2102,  2850,  2696,  4443,\n",
      "        26706,  4460,  2800,  2057,  2031,  2195, 16556,  2800,  1999,  2023,\n",
      "         2181,  7414,  6694,  8889, 17788,  8889,  8889,  2566,  2733,  2057,\n",
      "         2024,  6224,  2069,  7481,  2969, 18938, 21967,  2111,  2007,  1037,\n",
      "         4792,  2000,  2147,  1999,  1996,  2188, 22868,  1998,  2951,  4443,\n",
      "         2492,  2013,  1996,  7216,  1997,  2037,  2219,  5014,  1996,  6871,\n",
      "        17362,  2323,  2022,  2012,  2560,  2324,  2086,  2214,  2007,  4274,\n",
      "         3229,  2053,  3325,  2003,  2734,  2174,  1996,  2206,  4813,  2024,\n",
      "        16166,  3937,  3274,  1998, 22868,  4813,  3754,  2000,  6297,  1998,\n",
      "         6140, 15981,  3754,  2000,  3582,  7826,  2035,  2017,  2342,  2003,\n",
      "         3229,  2000,  1996,  4274,  1998,  2017,  2064,  5589,  2023,  2003,\n",
      "         2019,  4443,  2504,  2597,  1998,  2057,  3749,  2440,  3784,  2731,\n",
      "         2017,  2079,  2025,  2342,  2151,  2569,  4813,  2000,  2131,  2318,\n",
      "         7796,  2004,  2172,  2004,  2017,  2064,  2013,  1996,  7216,  1997,\n",
      "         2115,  2188, 22868,  1998,  2725,  2951,  4443,  3143,  2731,  3024,\n",
      "         2077,  2017,  2707,  2551,  1998,  2049,  3733,  2000,  2707,  2123,\n",
      "         2102,  2292,  2023,  4495,  3413,  2017,  2011,  4460,  2024,  2145,\n",
      "         2800,  2131,  2318,  2157,  2085,  6611,  2012, 10373,  2278,  2683,\n",
      "         2497,  2629,  2094,  2620,  2050, 16086,  2546, 29097, 17914,  4783,\n",
      "        17134, 14141,  2692,  2475, 16020,  2629,  2094, 17465,  2475,  2278,\n",
      "         2692, 22610,  2497,  2683,  2475,  3676,  2575,  2581,  2683,  2278,\n",
      "        24594,  2575, 20952,  6679,  2581,  2278, 10790, 24594, 25746, 26337,\n",
      "         2497, 22275,  2549,   102,     0,     0,     0,     0,     0,     0,\n",
      "            0,     0,     0,     0,     0,     0,     0,     0,     0,     0,\n",
      "            0,     0,     0,     0,     0,     0,     0,     0,     0,     0,\n",
      "            0,     0,     0,     0,     0,     0,     0,     0,     0,     0,\n",
      "            0,     0,     0,     0,     0,     0,     0,     0,     0,     0,\n",
      "            0,     0,     0,     0,     0,     0,     0,     0,     0,     0,\n",
      "            0,     0,     0,     0,     0,     0,     0,     0,     0,     0,\n",
      "            0,     0,     0,     0,     0,     0,     0,     0,     0,     0,\n",
      "            0,     0,     0,     0,     0,     0,     0,     0,     0,     0,\n",
      "            0,     0,     0,     0,     0,     0,     0,     0,     0,     0,\n",
      "            0,     0,     0,     0,     0,     0,     0,     0,     0,     0,\n",
      "            0,     0,     0,     0,     0,     0,     0,     0,     0,     0,\n",
      "            0,     0,     0,     0,     0,     0,     0,     0,     0,     0,\n",
      "            0,     0,     0,     0,     0,     0,     0,     0,     0,     0,\n",
      "            0,     0,     0,     0,     0,     0,     0,     0,     0,     0,\n",
      "            0,     0,     0,     0,     0,     0,     0,     0,     0,     0,\n",
      "            0,     0,     0,     0,     0,     0,     0,     0,     0,     0,\n",
      "            0,     0,     0,     0,     0,     0,     0,     0,     0,     0,\n",
      "            0,     0,     0,     0,     0,     0,     0,     0,     0,     0,\n",
      "            0,     0,     0,     0,     0,     0,     0,     0,     0,     0,\n",
      "            0,     0,     0,     0,     0,     0,     0,     0,     0,     0,\n",
      "            0,     0,     0,     0,     0,     0,     0,     0,     0,     0,\n",
      "            0,     0,     0,     0,     0,     0,     0,     0,     0,     0,\n",
      "            0,     0,     0,     0,     0,     0,     0,     0,     0,     0,\n",
      "            0,     0,     0,     0,     0,     0,     0,     0,     0,     0,\n",
      "            0,     0,     0,     0,     0,     0,     0,     0,     0,     0,\n",
      "            0,     0,     0,     0,     0,     0,     0,     0,     0,     0,\n",
      "            0,     0,     0,     0,     0,     0,     0,     0,     0,     0,\n",
      "            0,     0,     0,     0,     0,     0,     0,     0,     0,     0,\n",
      "            0,     0])\n",
      "Attention Mask: tensor([1, 1, 1, 1, 1, 1, 1, 1, 1, 1, 1, 1, 1, 1, 1, 1, 1, 1, 1, 1, 1, 1, 1, 1,\n",
      "        1, 1, 1, 1, 1, 1, 1, 1, 1, 1, 1, 1, 1, 1, 1, 1, 1, 1, 1, 1, 1, 1, 1, 1,\n",
      "        1, 1, 1, 1, 1, 1, 1, 1, 1, 1, 1, 1, 1, 1, 1, 1, 1, 1, 1, 1, 1, 1, 1, 1,\n",
      "        1, 1, 1, 1, 1, 1, 1, 1, 1, 1, 1, 1, 1, 1, 1, 1, 1, 1, 1, 1, 1, 1, 1, 1,\n",
      "        1, 1, 1, 1, 1, 1, 1, 1, 1, 1, 1, 1, 1, 1, 1, 1, 1, 1, 1, 1, 1, 1, 1, 1,\n",
      "        1, 1, 1, 1, 1, 1, 1, 1, 1, 1, 1, 1, 1, 1, 1, 1, 1, 1, 1, 1, 1, 1, 1, 1,\n",
      "        1, 1, 1, 1, 1, 1, 1, 1, 1, 1, 1, 1, 1, 1, 1, 1, 1, 1, 1, 1, 1, 1, 1, 1,\n",
      "        1, 1, 1, 1, 1, 1, 1, 1, 1, 1, 1, 1, 1, 1, 1, 1, 1, 1, 1, 1, 1, 1, 1, 1,\n",
      "        1, 1, 1, 1, 1, 1, 1, 1, 1, 1, 1, 1, 1, 1, 1, 1, 1, 1, 1, 1, 1, 1, 1, 1,\n",
      "        1, 1, 1, 1, 1, 1, 1, 1, 0, 0, 0, 0, 0, 0, 0, 0, 0, 0, 0, 0, 0, 0, 0, 0,\n",
      "        0, 0, 0, 0, 0, 0, 0, 0, 0, 0, 0, 0, 0, 0, 0, 0, 0, 0, 0, 0, 0, 0, 0, 0,\n",
      "        0, 0, 0, 0, 0, 0, 0, 0, 0, 0, 0, 0, 0, 0, 0, 0, 0, 0, 0, 0, 0, 0, 0, 0,\n",
      "        0, 0, 0, 0, 0, 0, 0, 0, 0, 0, 0, 0, 0, 0, 0, 0, 0, 0, 0, 0, 0, 0, 0, 0,\n",
      "        0, 0, 0, 0, 0, 0, 0, 0, 0, 0, 0, 0, 0, 0, 0, 0, 0, 0, 0, 0, 0, 0, 0, 0,\n",
      "        0, 0, 0, 0, 0, 0, 0, 0, 0, 0, 0, 0, 0, 0, 0, 0, 0, 0, 0, 0, 0, 0, 0, 0,\n",
      "        0, 0, 0, 0, 0, 0, 0, 0, 0, 0, 0, 0, 0, 0, 0, 0, 0, 0, 0, 0, 0, 0, 0, 0,\n",
      "        0, 0, 0, 0, 0, 0, 0, 0, 0, 0, 0, 0, 0, 0, 0, 0, 0, 0, 0, 0, 0, 0, 0, 0,\n",
      "        0, 0, 0, 0, 0, 0, 0, 0, 0, 0, 0, 0, 0, 0, 0, 0, 0, 0, 0, 0, 0, 0, 0, 0,\n",
      "        0, 0, 0, 0, 0, 0, 0, 0, 0, 0, 0, 0, 0, 0, 0, 0, 0, 0, 0, 0, 0, 0, 0, 0,\n",
      "        0, 0, 0, 0, 0, 0, 0, 0, 0, 0, 0, 0, 0, 0, 0, 0, 0, 0, 0, 0, 0, 0, 0, 0,\n",
      "        0, 0, 0, 0, 0, 0, 0, 0, 0, 0, 0, 0, 0, 0, 0, 0, 0, 0, 0, 0, 0, 0, 0, 0,\n",
      "        0, 0, 0, 0, 0, 0, 0, 0])\n",
      "Decoded Text:\n",
      " home based payroll typistdata entry clerks positions available we have several openings available in this area earning 100000250000 per week we are seeking only honest selfmotivated people with a desire to work in the home typing and data entry field from the comfort of their own homes the preferred applicants should be at least 18 years old with internet access no experience is needed however the following skills are desirable basic computer and typing skills ability to spell and print neatly ability to follow directions all you need is access to the internet and you can participate this is an entry level position and we offer full online training you do not need any special skills to get started earn as much as you can from the comfort of your home typing and doing data entry complete training provided before you start working and its easy to start dont let this opportunity pass you by positions are still available get started right now apply at emailc9b5d8a60f3d80be13dd02ffe5d212c047b92ba679c296dfae7c102952fbb534\n"
     ]
    }
   ],
   "source": [
    "# Sample index to inspect\n",
    "sample_idx = 5\n",
    "\n",
    "# Show token IDs\n",
    "print(\"Input IDs:\", train_encodings['input_ids'][sample_idx])\n",
    "\n",
    "# Show attention mask\n",
    "print(\"Attention Mask:\", train_encodings['attention_mask'][sample_idx])\n",
    "\n",
    "# Decode tokens back to text for readability\n",
    "decoded_text = tokenizer.decode(train_encodings['input_ids'][sample_idx], skip_special_tokens=True)\n",
    "print(\"Decoded Text:\\n\", decoded_text)"
   ]
  },
  {
   "cell_type": "code",
   "execution_count": 14,
   "id": "38d23b17",
   "metadata": {
    "execution": {
     "iopub.execute_input": "2025-06-08T16:11:43.450019Z",
     "iopub.status.busy": "2025-06-08T16:11:43.449798Z",
     "iopub.status.idle": "2025-06-08T16:11:43.453652Z",
     "shell.execute_reply": "2025-06-08T16:11:43.452960Z"
    },
    "id": "M7jqo6LquFrs",
    "outputId": "d73acf01-bd90-47af-e243-1d5b748e492a",
    "papermill": {
     "duration": 0.018397,
     "end_time": "2025-06-08T16:11:43.454783",
     "exception": false,
     "start_time": "2025-06-08T16:11:43.436386",
     "status": "completed"
    },
    "tags": []
   },
   "outputs": [
    {
     "name": "stdout",
     "output_type": "stream",
     "text": [
      "Length of encodings: 1212\n",
      "Length of labels: 1212\n"
     ]
    }
   ],
   "source": [
    "print(f\"Length of encodings: {len(train_encodings['input_ids'])}\")\n",
    "print(f\"Length of labels: {len(y_train_balanced)}\")"
   ]
  },
  {
   "cell_type": "code",
   "execution_count": 15,
   "id": "d38cc264",
   "metadata": {
    "execution": {
     "iopub.execute_input": "2025-06-08T16:11:43.481351Z",
     "iopub.status.busy": "2025-06-08T16:11:43.481143Z",
     "iopub.status.idle": "2025-06-08T16:11:56.522652Z",
     "shell.execute_reply": "2025-06-08T16:11:56.522087Z"
    },
    "id": "xAwW7cHXuFnA",
    "papermill": {
     "duration": 13.056072,
     "end_time": "2025-06-08T16:11:56.523906",
     "exception": false,
     "start_time": "2025-06-08T16:11:43.467834",
     "status": "completed"
    },
    "tags": []
   },
   "outputs": [
    {
     "name": "stderr",
     "output_type": "stream",
     "text": [
      "2025-06-08 16:11:45.403102: E external/local_xla/xla/stream_executor/cuda/cuda_fft.cc:477] Unable to register cuFFT factory: Attempting to register factory for plugin cuFFT when one has already been registered\n",
      "WARNING: All log messages before absl::InitializeLog() is called are written to STDERR\n",
      "E0000 00:00:1749399105.577417      19 cuda_dnn.cc:8310] Unable to register cuDNN factory: Attempting to register factory for plugin cuDNN when one has already been registered\n",
      "E0000 00:00:1749399105.629360      19 cuda_blas.cc:1418] Unable to register cuBLAS factory: Attempting to register factory for plugin cuBLAS when one has already been registered\n"
     ]
    }
   ],
   "source": [
    "import torch\n",
    "import torch.nn as nn\n",
    "from torch.utils.data import Dataset, DataLoader\n",
    "from transformers import BertTokenizer, BertModel\n",
    "from torch.optim import Adam\n",
    "from sklearn.metrics import accuracy_score, precision_score, recall_score, f1_score, confusion_matrix\n",
    "import pandas as pd\n",
    "\n",
    "class TextDataset(Dataset):\n",
    "    def __init__(self, encodings, labels):\n",
    "        self.encodings = encodings\n",
    "        self.labels = labels\n",
    "\n",
    "    def __len__(self):\n",
    "        return len(self.labels)\n",
    "\n",
    "    def __getitem__(self, idx):\n",
    "        item = {key: val[idx] for key, val in self.encodings.items()}\n",
    "        if isinstance(self.labels, (list, torch.Tensor)):\n",
    "            item['labels'] = torch.tensor(self.labels[idx], dtype=torch.long)\n",
    "        else:\n",
    "            item['labels'] = torch.tensor(self.labels.iloc[idx], dtype=torch.long)\n",
    "        return item"
   ]
  },
  {
   "cell_type": "code",
   "execution_count": 16,
   "id": "dc870d01",
   "metadata": {
    "execution": {
     "iopub.execute_input": "2025-06-08T16:11:56.551703Z",
     "iopub.status.busy": "2025-06-08T16:11:56.551274Z",
     "iopub.status.idle": "2025-06-08T16:11:56.563945Z",
     "shell.execute_reply": "2025-06-08T16:11:56.563382Z"
    },
    "id": "EBwQ-DIDuFkZ",
    "papermill": {
     "duration": 0.027753,
     "end_time": "2025-06-08T16:11:56.565046",
     "exception": false,
     "start_time": "2025-06-08T16:11:56.537293",
     "status": "completed"
    },
    "tags": []
   },
   "outputs": [],
   "source": [
    "import torch\n",
    "import torch.nn as nn\n",
    "from transformers import BertModel\n",
    "\n",
    "class BERTCNNClassifier(nn.Module):\n",
    "    def __init__(self, bert_model_name='bert-base-uncased', num_classes=2):\n",
    "        super(BERTCNNClassifier, self).__init__()\n",
    "        self.bert = BertModel.from_pretrained(bert_model_name)\n",
    "\n",
    "        self.conv1 = nn.Conv1d(in_channels=768, out_channels=256, kernel_size=3, padding=1)\n",
    "        self.relu = nn.ReLU()\n",
    "        self.pool1 = nn.MaxPool1d(kernel_size=2)\n",
    "\n",
    "        self.conv2 = nn.Conv1d(in_channels=256, out_channels=128, kernel_size=3, padding=1)\n",
    "        self.pool2 = nn.MaxPool1d(kernel_size=2)\n",
    "\n",
    "        self.dropout = nn.Dropout(0.3)\n",
    "\n",
    "        # Calculate flattened size after conv and pooling\n",
    "        with torch.no_grad():\n",
    "            dummy_input = torch.zeros(1, 768, 512)  # batch=1, channels=768, seq_len=512\n",
    "            x = self.relu(self.conv1(dummy_input))\n",
    "            x = self.pool1(x)\n",
    "            x = self.relu(self.conv2(x))\n",
    "            x = self.pool2(x)\n",
    "            self.flattened_size = x.numel()  # total number of features\n",
    "\n",
    "        self.fc = nn.Linear(self.flattened_size, num_classes)\n",
    "\n",
    "    def forward(self, input_ids, attention_mask):\n",
    "        x = self.bert(input_ids=input_ids, attention_mask=attention_mask).last_hidden_state\n",
    "        x = x.permute(0, 2, 1)  # (batch, channels, seq_len)\n",
    "\n",
    "        x = self.relu(self.conv1(x))\n",
    "        x = self.pool1(x)\n",
    "\n",
    "        x = self.relu(self.conv2(x))\n",
    "        x = self.pool2(x)\n",
    "\n",
    "        x = torch.flatten(x, start_dim=1)  # flatten except batch dim\n",
    "\n",
    "        x = self.dropout(x)\n",
    "        return self.fc(x)\n",
    "\n",
    "\n",
    "\n",
    "\n",
    "class BERTLSTMClassifier(nn.Module):\n",
    "    def __init__(self, bert_model_name='bert-base-uncased', hidden_size=256, num_classes=2, num_layers=1, bidirectional=True):\n",
    "        super(BERTLSTMClassifier, self).__init__()\n",
    "        self.bert = BertModel.from_pretrained(bert_model_name)\n",
    "        self.lstm = nn.LSTM(input_size=768, hidden_size=hidden_size, num_layers=num_layers,\n",
    "                            batch_first=True, bidirectional=bidirectional)\n",
    "        self.dropout = nn.Dropout(0.3)\n",
    "        self.fc = nn.Linear(hidden_size * 2 if bidirectional else hidden_size, num_classes)\n",
    "\n",
    "    def forward(self, input_ids, attention_mask):\n",
    "        x = self.bert(input_ids=input_ids, attention_mask=attention_mask).last_hidden_state\n",
    "        x, _ = self.lstm(x)\n",
    "        x = self.dropout(x[:, -1, :])\n",
    "        return self.fc(x)\n",
    "\n",
    "\n",
    "class BERTCNNLSTMClassifier(nn.Module):\n",
    "    def __init__(self, bert_model_name='bert-base-uncased', num_classes=2,\n",
    "                 cnn_out_channels1=256, cnn_out_channels2=128,\n",
    "                 lstm_hidden_size=128, num_layers=1, bidirectional=True):\n",
    "        super(BERTCNNLSTMClassifier, self).__init__()\n",
    "        self.bert = BertModel.from_pretrained(bert_model_name)\n",
    "\n",
    "        # First conv block\n",
    "        self.conv1 = nn.Conv1d(in_channels=768, out_channels=cnn_out_channels1, kernel_size=3, padding=1)\n",
    "        self.relu = nn.ReLU()\n",
    "        self.pool1 = nn.MaxPool1d(kernel_size=2)\n",
    "\n",
    "        # Second conv block\n",
    "        self.conv2 = nn.Conv1d(in_channels=cnn_out_channels1, out_channels=cnn_out_channels2, kernel_size=3, padding=1)\n",
    "        self.pool2 = nn.MaxPool1d(kernel_size=2)\n",
    "\n",
    "        self.lstm = nn.LSTM(input_size=cnn_out_channels2, hidden_size=lstm_hidden_size, num_layers=num_layers,\n",
    "                            batch_first=True, bidirectional=bidirectional)\n",
    "        self.dropout = nn.Dropout(0.3)\n",
    "        self.fc = nn.Linear(lstm_hidden_size * 2 if bidirectional else lstm_hidden_size, num_classes)\n",
    "\n",
    "    def forward(self, input_ids, attention_mask):\n",
    "        x = self.bert(input_ids=input_ids, attention_mask=attention_mask).last_hidden_state\n",
    "\n",
    "        x = x.permute(0, 2, 1)  # (batch, channels, seq_len)\n",
    "\n",
    "        x = self.relu(self.conv1(x))\n",
    "        x = self.pool1(x)\n",
    "\n",
    "        x = self.relu(self.conv2(x))\n",
    "        x = self.pool2(x)\n",
    "\n",
    "        x = x.permute(0, 2, 1)  # back to (batch, seq_len, channels) for LSTM\n",
    "\n",
    "        x, _ = self.lstm(x)\n",
    "        x = self.dropout(x[:, -1, :])\n",
    "        return self.fc(x)\n",
    "\n"
   ]
  },
  {
   "cell_type": "code",
   "execution_count": 17,
   "id": "1a77abc6",
   "metadata": {
    "execution": {
     "iopub.execute_input": "2025-06-08T16:11:56.591841Z",
     "iopub.status.busy": "2025-06-08T16:11:56.591446Z",
     "iopub.status.idle": "2025-06-08T16:11:56.595240Z",
     "shell.execute_reply": "2025-06-08T16:11:56.594700Z"
    },
    "id": "oI6TOqJ9uWMO",
    "papermill": {
     "duration": 0.018454,
     "end_time": "2025-06-08T16:11:56.596291",
     "exception": false,
     "start_time": "2025-06-08T16:11:56.577837",
     "status": "completed"
    },
    "tags": []
   },
   "outputs": [],
   "source": [
    "train_dataset = TextDataset(train_encodings, y_train_balanced)\n",
    "val_dataset = TextDataset(val_encodings, y_val)\n",
    "test_dataset = TextDataset(test_encodings, y_test)\n",
    "\n",
    "train_loader = DataLoader(train_dataset, batch_size=16, shuffle=True)\n",
    "val_loader = DataLoader(val_dataset, batch_size=16)\n",
    "test_loader = DataLoader(test_dataset, batch_size=16)"
   ]
  },
  {
   "cell_type": "code",
   "execution_count": 18,
   "id": "9cd75f1e",
   "metadata": {
    "execution": {
     "iopub.execute_input": "2025-06-08T16:11:56.623087Z",
     "iopub.status.busy": "2025-06-08T16:11:56.622873Z",
     "iopub.status.idle": "2025-06-08T16:11:56.632711Z",
     "shell.execute_reply": "2025-06-08T16:11:56.632204Z"
    },
    "id": "JgKfSap7uhYL",
    "papermill": {
     "duration": 0.02427,
     "end_time": "2025-06-08T16:11:56.633633",
     "exception": false,
     "start_time": "2025-06-08T16:11:56.609363",
     "status": "completed"
    },
    "tags": []
   },
   "outputs": [],
   "source": [
    "import torch\n",
    "import torch.nn as nn\n",
    "from sklearn.metrics import accuracy_score, precision_score, recall_score, f1_score\n",
    "import matplotlib.pyplot as plt\n",
    "\n",
    "def train_model_with_val_earlystopping(model, train_loader, val_loader, criterion, optimizer, device,\n",
    "                                       num_epochs=10, patience=3, max_batches_per_epoch=None, plot_losses=True):\n",
    "    model.to(device)\n",
    "    best_val_loss = float('inf')\n",
    "    patience_counter = 0\n",
    "    history = []\n",
    "\n",
    "    for epoch in range(num_epochs):\n",
    "        model.train()\n",
    "        train_loss = 0.0\n",
    "        all_preds_train, all_labels_train = [], []\n",
    "\n",
    "        for i, batch in enumerate(train_loader):\n",
    "            if max_batches_per_epoch and i >= max_batches_per_epoch:\n",
    "                break\n",
    "\n",
    "            optimizer.zero_grad()\n",
    "            input_ids = batch['input_ids'].to(device)\n",
    "            attention_mask = batch['attention_mask'].to(device)\n",
    "            labels = batch['labels'].to(device)\n",
    "\n",
    "            outputs = model(input_ids, attention_mask)\n",
    "            if isinstance(outputs, tuple):\n",
    "                outputs = outputs[0]\n",
    "\n",
    "            loss = criterion(outputs, labels)\n",
    "            loss.backward()\n",
    "            optimizer.step()\n",
    "\n",
    "            train_loss += loss.item()\n",
    "            preds = torch.argmax(outputs, dim=1).detach().cpu().numpy()\n",
    "            all_preds_train.extend(preds)\n",
    "            all_labels_train.extend(labels.detach().cpu().numpy())\n",
    "\n",
    "        avg_train_loss = train_loss / (i + 1)\n",
    "        train_acc = accuracy_score(all_labels_train, all_preds_train)\n",
    "\n",
    "        # Validation\n",
    "        model.eval()\n",
    "        val_loss = 0.0\n",
    "        all_preds_val, all_labels_val = [], []\n",
    "        with torch.no_grad():\n",
    "            for batch in val_loader:\n",
    "                input_ids = batch['input_ids'].to(device)\n",
    "                attention_mask = batch['attention_mask'].to(device)\n",
    "                labels = batch['labels'].to(device)\n",
    "\n",
    "                outputs = model(input_ids, attention_mask)\n",
    "                if isinstance(outputs, tuple):\n",
    "                    outputs = outputs[0]\n",
    "\n",
    "                loss = criterion(outputs, labels)\n",
    "                val_loss += loss.item()\n",
    "\n",
    "                preds = torch.argmax(outputs, dim=1).cpu().numpy()\n",
    "                all_preds_val.extend(preds)\n",
    "                all_labels_val.extend(labels.cpu().numpy())\n",
    "\n",
    "        avg_val_loss = val_loss / len(val_loader)\n",
    "        val_acc = accuracy_score(all_labels_val, all_preds_val)\n",
    "        val_f1 = f1_score(all_labels_val, all_preds_val, average='macro')\n",
    "        val_prec = precision_score(all_labels_val, all_preds_val, average='macro')\n",
    "        val_rec = recall_score(all_labels_val, all_preds_val, average='macro')\n",
    "\n",
    "        print(f\"Epoch {epoch+1}/{num_epochs} | Train Loss: {avg_train_loss:.4f} | Val Loss: {avg_val_loss:.4f} | \"\n",
    "              f\"Train Acc: {train_acc:.4f} | Val Acc: {val_acc:.4f} | Val F1: {val_f1:.4f}\")\n",
    "\n",
    "        history.append({\n",
    "            'epoch': epoch + 1,\n",
    "            'train_loss': avg_train_loss,\n",
    "            'train_acc': train_acc,\n",
    "            'val_loss': avg_val_loss,\n",
    "            'val_acc': val_acc,\n",
    "            'val_precision': val_prec,\n",
    "            'val_recall': val_rec,\n",
    "            'val_f1': val_f1\n",
    "        })\n",
    "\n",
    "        # Early stopping\n",
    "        if avg_val_loss < best_val_loss:\n",
    "            best_val_loss = avg_val_loss\n",
    "            patience_counter = 0\n",
    "            torch.save(model.state_dict(), 'best_model.pth')\n",
    "        else:\n",
    "            patience_counter += 1\n",
    "            if patience_counter >= patience:\n",
    "                print(f\"Early stopping at epoch {epoch+1}\")\n",
    "                break\n",
    "\n",
    "    return history\n"
   ]
  },
  {
   "cell_type": "code",
   "execution_count": null,
   "id": "ba382648",
   "metadata": {
    "id": "8y5EZhjd24HC",
    "papermill": {
     "duration": 0.013488,
     "end_time": "2025-06-08T16:11:56.659830",
     "exception": false,
     "start_time": "2025-06-08T16:11:56.646342",
     "status": "completed"
    },
    "tags": []
   },
   "outputs": [],
   "source": []
  },
  {
   "cell_type": "markdown",
   "id": "140b047f",
   "metadata": {
    "id": "XsNCgGKY29G7",
    "papermill": {
     "duration": 0.012795,
     "end_time": "2025-06-08T16:11:56.685423",
     "exception": false,
     "start_time": "2025-06-08T16:11:56.672628",
     "status": "completed"
    },
    "tags": []
   },
   "source": [
    "## CNN"
   ]
  },
  {
   "cell_type": "code",
   "execution_count": 19,
   "id": "c0b16a28",
   "metadata": {
    "execution": {
     "iopub.execute_input": "2025-06-08T16:11:56.712473Z",
     "iopub.status.busy": "2025-06-08T16:11:56.712259Z",
     "iopub.status.idle": "2025-06-08T16:32:22.817157Z",
     "shell.execute_reply": "2025-06-08T16:32:22.816017Z"
    },
    "id": "D6iLWTY_vM8A",
    "outputId": "51bf648b-c64f-4198-a2cc-9c60e2b7fa99",
    "papermill": {
     "duration": 1226.136196,
     "end_time": "2025-06-08T16:32:22.834566",
     "exception": false,
     "start_time": "2025-06-08T16:11:56.698370",
     "status": "completed"
    },
    "tags": []
   },
   "outputs": [
    {
     "data": {
      "application/vnd.jupyter.widget-view+json": {
       "model_id": "80323a479f6044288e58b84d5ff025d4",
       "version_major": 2,
       "version_minor": 0
      },
      "text/plain": [
       "model.safetensors:   0%|          | 0.00/440M [00:00<?, ?B/s]"
      ]
     },
     "metadata": {},
     "output_type": "display_data"
    },
    {
     "name": "stdout",
     "output_type": "stream",
     "text": [
      "Epoch 1/10 | Train Loss: 0.6009 | Val Loss: 0.6819 | Train Acc: 0.6914 | Val Acc: 0.5597 | Val F1: 0.4362\n",
      "Epoch 2/10 | Train Loss: 0.3346 | Val Loss: 0.1613 | Train Acc: 0.8705 | Val Acc: 0.9355 | Val F1: 0.7483\n",
      "Epoch 3/10 | Train Loss: 0.1435 | Val Loss: 0.1116 | Train Acc: 0.9497 | Val Acc: 0.9530 | Val F1: 0.7869\n",
      "Epoch 4/10 | Train Loss: 0.0605 | Val Loss: 0.2057 | Train Acc: 0.9843 | Val Acc: 0.9306 | Val F1: 0.7566\n",
      "Epoch 5/10 | Train Loss: 0.0252 | Val Loss: 0.3474 | Train Acc: 0.9942 | Val Acc: 0.9012 | Val F1: 0.7104\n",
      "Epoch 6/10 | Train Loss: 0.0136 | Val Loss: 0.3425 | Train Acc: 0.9983 | Val Acc: 0.9165 | Val F1: 0.7368\n",
      "Early stopping at epoch 6\n"
     ]
    }
   ],
   "source": [
    "device = torch.device(\"cuda\" if torch.cuda.is_available() else \"cpu\")\n",
    "\n",
    "criterion = nn.CrossEntropyLoss()\n",
    "\n",
    "# Initialize your model, e.g., BERTCNNClassifier\n",
    "cnn_model = BERTCNNClassifier(num_classes=2)\n",
    "cnn_model.to(device)\n",
    "\n",
    "optimizer = torch.optim.Adam(cnn_model.parameters(), lr=2e-5)\n",
    "\n",
    "# Train with early stopping and validation monitoring\n",
    "history_cnn = train_model_with_val_earlystopping(\n",
    "    cnn_model, train_loader, val_loader, criterion, optimizer, device,\n",
    "    num_epochs=10, patience=3\n",
    ")"
   ]
  },
  {
   "cell_type": "code",
   "execution_count": 20,
   "id": "b612db15",
   "metadata": {
    "execution": {
     "iopub.execute_input": "2025-06-08T16:32:22.864397Z",
     "iopub.status.busy": "2025-06-08T16:32:22.864125Z",
     "iopub.status.idle": "2025-06-08T16:32:22.876097Z",
     "shell.execute_reply": "2025-06-08T16:32:22.875472Z"
    },
    "id": "-rpNrwHKvTsz",
    "outputId": "37ecd4cd-f4df-4fac-8b27-d1f731320675",
    "papermill": {
     "duration": 0.027908,
     "end_time": "2025-06-08T16:32:22.877190",
     "exception": false,
     "start_time": "2025-06-08T16:32:22.849282",
     "status": "completed"
    },
    "tags": []
   },
   "outputs": [
    {
     "data": {
      "text/html": [
       "<div>\n",
       "<style scoped>\n",
       "    .dataframe tbody tr th:only-of-type {\n",
       "        vertical-align: middle;\n",
       "    }\n",
       "\n",
       "    .dataframe tbody tr th {\n",
       "        vertical-align: top;\n",
       "    }\n",
       "\n",
       "    .dataframe thead th {\n",
       "        text-align: right;\n",
       "    }\n",
       "</style>\n",
       "<table border=\"1\" class=\"dataframe\">\n",
       "  <thead>\n",
       "    <tr style=\"text-align: right;\">\n",
       "      <th></th>\n",
       "      <th>epoch</th>\n",
       "      <th>train_loss</th>\n",
       "      <th>train_acc</th>\n",
       "      <th>val_loss</th>\n",
       "      <th>val_acc</th>\n",
       "      <th>val_precision</th>\n",
       "      <th>val_recall</th>\n",
       "      <th>val_f1</th>\n",
       "    </tr>\n",
       "  </thead>\n",
       "  <tbody>\n",
       "    <tr>\n",
       "      <th>0</th>\n",
       "      <td>1</td>\n",
       "      <td>0.600860</td>\n",
       "      <td>0.691419</td>\n",
       "      <td>0.681943</td>\n",
       "      <td>0.559657</td>\n",
       "      <td>0.544890</td>\n",
       "      <td>0.743061</td>\n",
       "      <td>0.436208</td>\n",
       "    </tr>\n",
       "    <tr>\n",
       "      <th>1</th>\n",
       "      <td>2</td>\n",
       "      <td>0.334571</td>\n",
       "      <td>0.870462</td>\n",
       "      <td>0.161323</td>\n",
       "      <td>0.935496</td>\n",
       "      <td>0.698472</td>\n",
       "      <td>0.849298</td>\n",
       "      <td>0.748265</td>\n",
       "    </tr>\n",
       "    <tr>\n",
       "      <th>2</th>\n",
       "      <td>3</td>\n",
       "      <td>0.143538</td>\n",
       "      <td>0.949670</td>\n",
       "      <td>0.111625</td>\n",
       "      <td>0.953020</td>\n",
       "      <td>0.748229</td>\n",
       "      <td>0.843905</td>\n",
       "      <td>0.786888</td>\n",
       "    </tr>\n",
       "    <tr>\n",
       "      <th>3</th>\n",
       "      <td>4</td>\n",
       "      <td>0.060503</td>\n",
       "      <td>0.984323</td>\n",
       "      <td>0.205699</td>\n",
       "      <td>0.930649</td>\n",
       "      <td>0.697368</td>\n",
       "      <td>0.905154</td>\n",
       "      <td>0.756574</td>\n",
       "    </tr>\n",
       "    <tr>\n",
       "      <th>4</th>\n",
       "      <td>5</td>\n",
       "      <td>0.025242</td>\n",
       "      <td>0.994224</td>\n",
       "      <td>0.347424</td>\n",
       "      <td>0.901193</td>\n",
       "      <td>0.657833</td>\n",
       "      <td>0.911578</td>\n",
       "      <td>0.710355</td>\n",
       "    </tr>\n",
       "    <tr>\n",
       "      <th>5</th>\n",
       "      <td>6</td>\n",
       "      <td>0.013576</td>\n",
       "      <td>0.998350</td>\n",
       "      <td>0.342462</td>\n",
       "      <td>0.916480</td>\n",
       "      <td>0.678141</td>\n",
       "      <td>0.923261</td>\n",
       "      <td>0.736790</td>\n",
       "    </tr>\n",
       "  </tbody>\n",
       "</table>\n",
       "</div>"
      ],
      "text/plain": [
       "   epoch  train_loss  train_acc  val_loss   val_acc  val_precision  \\\n",
       "0      1    0.600860   0.691419  0.681943  0.559657       0.544890   \n",
       "1      2    0.334571   0.870462  0.161323  0.935496       0.698472   \n",
       "2      3    0.143538   0.949670  0.111625  0.953020       0.748229   \n",
       "3      4    0.060503   0.984323  0.205699  0.930649       0.697368   \n",
       "4      5    0.025242   0.994224  0.347424  0.901193       0.657833   \n",
       "5      6    0.013576   0.998350  0.342462  0.916480       0.678141   \n",
       "\n",
       "   val_recall    val_f1  \n",
       "0    0.743061  0.436208  \n",
       "1    0.849298  0.748265  \n",
       "2    0.843905  0.786888  \n",
       "3    0.905154  0.756574  \n",
       "4    0.911578  0.710355  \n",
       "5    0.923261  0.736790  "
      ]
     },
     "execution_count": 20,
     "metadata": {},
     "output_type": "execute_result"
    }
   ],
   "source": [
    "training_cnn = pd.DataFrame(history_cnn)\n",
    "training_cnn"
   ]
  },
  {
   "cell_type": "code",
   "execution_count": 21,
   "id": "f4d1a680",
   "metadata": {
    "execution": {
     "iopub.execute_input": "2025-06-08T16:32:22.907034Z",
     "iopub.status.busy": "2025-06-08T16:32:22.906811Z",
     "iopub.status.idle": "2025-06-08T16:32:22.913460Z",
     "shell.execute_reply": "2025-06-08T16:32:22.912930Z"
    },
    "id": "pACmboTntoZ-",
    "papermill": {
     "duration": 0.022092,
     "end_time": "2025-06-08T16:32:22.914482",
     "exception": false,
     "start_time": "2025-06-08T16:32:22.892390",
     "status": "completed"
    },
    "tags": []
   },
   "outputs": [],
   "source": [
    "import matplotlib.pyplot as plt\n",
    "\n",
    "def plot_training_metrics(df):\n",
    "    # Plot 1: Train vs Validation Loss\n",
    "    plt.figure(figsize=(5, 3))\n",
    "    plt.plot(df['epoch'], df['train_loss'], label='Train Loss', marker='o')\n",
    "    plt.plot(df['epoch'], df['val_loss'], label='Validation Loss', marker='o')\n",
    "    plt.xlabel(\"Epoch\")\n",
    "    plt.ylabel(\"Loss\")\n",
    "    plt.title(\"Train vs Validation Loss per Epoch\")\n",
    "    plt.legend()\n",
    "    plt.grid(True)\n",
    "    plt.tight_layout()\n",
    "    plt.show()\n",
    "\n",
    "    # Plot 2: Validation Metrics\n",
    "    plt.figure(figsize=(5, 3))\n",
    "    plt.plot(df['epoch'], df['val_acc'], label='Validation Accuracy', marker='o')\n",
    "    plt.plot(df['epoch'], df['val_precision'], label='Precision', marker='o')\n",
    "    plt.plot(df['epoch'], df['val_recall'], label='Recall', marker='o')\n",
    "    plt.plot(df['epoch'], df['val_f1'], label='F1 Score', marker='o')\n",
    "    plt.xlabel(\"Epoch\")\n",
    "    plt.ylabel(\"Score\")\n",
    "    plt.title(\"Validation Metrics per Epoch\")\n",
    "    plt.legend()\n",
    "    plt.grid(True)\n",
    "    plt.tight_layout()\n",
    "    plt.show()\n",
    "\n",
    "    # Plot 3: Train Accuracy vs Validation Accuracy\n",
    "    plt.figure(figsize=(5, 3))\n",
    "    plt.plot(df['epoch'], df['train_acc'], label='Train Accuracy', marker='o')\n",
    "    plt.plot(df['epoch'], df['val_acc'], label='Validation Accuracy', marker='o')\n",
    "    plt.xlabel(\"Epoch\")\n",
    "    plt.ylabel(\"Accuracy\")\n",
    "    plt.title(\"Train vs Validation Accuracy per Epoch\")\n",
    "    plt.legend()\n",
    "    plt.grid(True)\n",
    "    plt.tight_layout()\n",
    "    plt.show()\n"
   ]
  },
  {
   "cell_type": "code",
   "execution_count": 22,
   "id": "74a2c437",
   "metadata": {
    "execution": {
     "iopub.execute_input": "2025-06-08T16:32:22.942844Z",
     "iopub.status.busy": "2025-06-08T16:32:22.942588Z",
     "iopub.status.idle": "2025-06-08T16:32:23.494916Z",
     "shell.execute_reply": "2025-06-08T16:32:23.494182Z"
    },
    "id": "3a5VDvMF1rN8",
    "outputId": "057a037a-7e6e-4b1c-dfb7-f326465addb0",
    "papermill": {
     "duration": 0.567588,
     "end_time": "2025-06-08T16:32:23.496001",
     "exception": false,
     "start_time": "2025-06-08T16:32:22.928413",
     "status": "completed"
    },
    "tags": []
   },
   "outputs": [
    {
     "data": {
      "image/png": "[encoded data removed]",
      "text/plain": [
       "<Figure size 500x300 with 1 Axes>"
      ]
     },
     "metadata": {},
     "output_type": "display_data"
    },
    {
     "data": {
      "image/png": "[encoded data removed]",
      "text/plain": [
       "<Figure size 500x300 with 1 Axes>"
      ]
     },
     "metadata": {},
     "output_type": "display_data"
    },
    {
     "data": {
      "image/png": "[encoded data removed]",
      "text/plain": [
       "<Figure size 500x300 with 1 Axes>"
      ]
     },
     "metadata": {},
     "output_type": "display_data"
    }
   ],
   "source": [
    "plot_training_metrics(training_cnn)"
   ]
  },
  {
   "cell_type": "code",
   "execution_count": 23,
   "id": "2b2326ef",
   "metadata": {
    "execution": {
     "iopub.execute_input": "2025-06-08T16:32:23.528594Z",
     "iopub.status.busy": "2025-06-08T16:32:23.528399Z",
     "iopub.status.idle": "2025-06-08T16:32:23.818977Z",
     "shell.execute_reply": "2025-06-08T16:32:23.818157Z"
    },
    "id": "Fkm06wDj2qlU",
    "papermill": {
     "duration": 0.308209,
     "end_time": "2025-06-08T16:32:23.820811",
     "exception": false,
     "start_time": "2025-06-08T16:32:23.512602",
     "status": "completed"
    },
    "tags": []
   },
   "outputs": [],
   "source": [
    "import pandas as pd\n",
    "import seaborn as sns\n",
    "import matplotlib.pyplot as plt\n",
    "from sklearn.metrics import (\n",
    "    accuracy_score, precision_score, recall_score, f1_score,\n",
    "    confusion_matrix, classification_report\n",
    ")\n",
    "\n",
    "def evaluate_model(model, dataloader, device, class_names=None, print_metrics=True, plot_cm=True):\n",
    "    model.eval()\n",
    "    all_preds = []\n",
    "    all_labels = []\n",
    "\n",
    "    with torch.no_grad():\n",
    "        for batch in dataloader:\n",
    "            input_ids = batch['input_ids'].to(device)\n",
    "            attention_mask = batch['attention_mask'].to(device)\n",
    "            labels = batch['labels'].to(device)\n",
    "\n",
    "            outputs = model(input_ids, attention_mask)\n",
    "            preds = torch.argmax(outputs, dim=1)\n",
    "\n",
    "            all_preds.extend(preds.cpu().numpy())\n",
    "            all_labels.extend(labels.cpu().numpy())\n",
    "\n",
    "    # Compute metrics\n",
    "    acc = accuracy_score(all_labels, all_preds)\n",
    "    prec = precision_score(all_labels, all_preds, average='macro')\n",
    "    rec = recall_score(all_labels, all_preds, average='macro')\n",
    "    f1 = f1_score(all_labels, all_preds, average='macro')\n",
    "    cm = confusion_matrix(all_labels, all_preds)\n",
    "    report = classification_report(all_labels, all_preds, target_names=class_names, digits=4)\n",
    "\n",
    "    # Create a dataframe with metrics\n",
    "    metrics_df = pd.DataFrame({\n",
    "        'Accuracy': [acc],\n",
    "        'Precision': [prec],\n",
    "        'Recall': [rec],\n",
    "        'F1-score': [f1]\n",
    "    })\n",
    "\n",
    "    if print_metrics:\n",
    "        print(f\"\\nTest Evaluation:\")\n",
    "        print(metrics_df.to_string(index=False))\n",
    "        print(f\"\\nConfusion Matrix:\\n{cm}\")\n",
    "        print(f\"\\nClassification Report:\\n{report}\")\n",
    "\n",
    "    if plot_cm:\n",
    "        plt.figure(figsize=(6, 5))\n",
    "        sns.heatmap(cm, annot=True, fmt=\"d\", cmap=\"Blues\",\n",
    "                    xticklabels=class_names, yticklabels=class_names)\n",
    "        plt.xlabel(\"Predicted\")\n",
    "        plt.ylabel(\"True\")\n",
    "        plt.title(\"Confusion Matrix\")\n",
    "        plt.tight_layout()\n",
    "        plt.show()\n",
    "\n",
    "    return metrics_df, cm, report\n",
    "\n"
   ]
  },
  {
   "cell_type": "code",
   "execution_count": 24,
   "id": "9066c9ec",
   "metadata": {
    "execution": {
     "iopub.execute_input": "2025-06-08T16:32:23.855094Z",
     "iopub.status.busy": "2025-06-08T16:32:23.854621Z",
     "iopub.status.idle": "2025-06-08T16:33:48.760142Z",
     "shell.execute_reply": "2025-06-08T16:33:48.759275Z"
    },
    "id": "FKu4PX6E3lP3",
    "outputId": "dd2b3fa3-da4a-40a6-f451-0d0fd32d50e5",
    "papermill": {
     "duration": 84.940948,
     "end_time": "2025-06-08T16:33:48.778190",
     "exception": false,
     "start_time": "2025-06-08T16:32:23.837242",
     "status": "completed"
    },
    "tags": []
   },
   "outputs": [
    {
     "name": "stdout",
     "output_type": "stream",
     "text": [
      "\n",
      "Test Evaluation:\n",
      " Accuracy  Precision   Recall  F1-score\n",
      " 0.923565   0.690679 0.937934  0.752859\n",
      "\n",
      "Confusion Matrix:\n",
      "[[2353  199]\n",
      " [   6  124]]\n",
      "\n",
      "Classification Report:\n",
      "              precision    recall  f1-score   support\n",
      "\n",
      "         Neg     0.9975    0.9220    0.9583      2552\n",
      "         Pos     0.3839    0.9538    0.5475       130\n",
      "\n",
      "    accuracy                         0.9236      2682\n",
      "   macro avg     0.6907    0.9379    0.7529      2682\n",
      "weighted avg     0.9677    0.9236    0.9383      2682\n",
      "\n"
     ]
    },
    {
     "data": {
      "image/png": "[encoded data removed]",
      "text/plain": [
       "<Figure size 600x500 with 2 Axes>"
      ]
     },
     "metadata": {},
     "output_type": "display_data"
    }
   ],
   "source": [
    "test_cnn, cm_cnn, cf_report_cnn= evaluate_model(cnn_model, test_loader, device, class_names=['Neg', 'Pos'])"
   ]
  },
  {
   "cell_type": "code",
   "execution_count": 25,
   "id": "35e3ef1b",
   "metadata": {
    "execution": {
     "iopub.execute_input": "2025-06-08T16:33:48.810100Z",
     "iopub.status.busy": "2025-06-08T16:33:48.809853Z",
     "iopub.status.idle": "2025-06-08T16:33:48.813649Z",
     "shell.execute_reply": "2025-06-08T16:33:48.812939Z"
    },
    "id": "UudQCzS1e4xq",
    "outputId": "98b51f86-55df-4300-d356-087cb5d21169",
    "papermill": {
     "duration": 0.021019,
     "end_time": "2025-06-08T16:33:48.814838",
     "exception": false,
     "start_time": "2025-06-08T16:33:48.793819",
     "status": "completed"
    },
    "tags": []
   },
   "outputs": [
    {
     "name": "stdout",
     "output_type": "stream",
     "text": [
      "              precision    recall  f1-score   support\n",
      "\n",
      "         Neg     0.9975    0.9220    0.9583      2552\n",
      "         Pos     0.3839    0.9538    0.5475       130\n",
      "\n",
      "    accuracy                         0.9236      2682\n",
      "   macro avg     0.6907    0.9379    0.7529      2682\n",
      "weighted avg     0.9677    0.9236    0.9383      2682\n",
      "\n"
     ]
    }
   ],
   "source": [
    "print(cf_report_cnn)"
   ]
  },
  {
   "cell_type": "markdown",
   "id": "47179b8c",
   "metadata": {
    "id": "XL33zOah4SDO",
    "papermill": {
     "duration": 0.015462,
     "end_time": "2025-06-08T16:33:48.845950",
     "exception": false,
     "start_time": "2025-06-08T16:33:48.830488",
     "status": "completed"
    },
    "tags": []
   },
   "source": [
    "## LSTM"
   ]
  },
  {
   "cell_type": "code",
   "execution_count": 26,
   "id": "10675066",
   "metadata": {
    "execution": {
     "iopub.execute_input": "2025-06-08T16:33:48.878720Z",
     "iopub.status.busy": "2025-06-08T16:33:48.878319Z",
     "iopub.status.idle": "2025-06-08T16:54:42.072661Z",
     "shell.execute_reply": "2025-06-08T16:54:42.071786Z"
    },
    "id": "jTEt_ipU348E",
    "outputId": "a612734c-b76b-4bd8-f88c-7dfcd7fb230c",
    "papermill": {
     "duration": 1253.230593,
     "end_time": "2025-06-08T16:54:42.092147",
     "exception": false,
     "start_time": "2025-06-08T16:33:48.861554",
     "status": "completed"
    },
    "tags": []
   },
   "outputs": [
    {
     "name": "stdout",
     "output_type": "stream",
     "text": [
      "Epoch 1/10 | Train Loss: 0.5910 | Val Loss: 0.3292 | Train Acc: 0.6815 | Val Acc: 0.8863 | Val F1: 0.6530\n",
      "Epoch 2/10 | Train Loss: 0.3090 | Val Loss: 0.2986 | Train Acc: 0.8812 | Val Acc: 0.8814 | Val F1: 0.6715\n",
      "Epoch 3/10 | Train Loss: 0.1621 | Val Loss: 0.2221 | Train Acc: 0.9455 | Val Acc: 0.9128 | Val F1: 0.7139\n",
      "Epoch 4/10 | Train Loss: 0.0792 | Val Loss: 0.2487 | Train Acc: 0.9728 | Val Acc: 0.9139 | Val F1: 0.7259\n",
      "Epoch 5/10 | Train Loss: 0.0324 | Val Loss: 0.2510 | Train Acc: 0.9934 | Val Acc: 0.9262 | Val F1: 0.7431\n",
      "Epoch 6/10 | Train Loss: 0.0329 | Val Loss: 0.2980 | Train Acc: 0.9901 | Val Acc: 0.9150 | Val F1: 0.7257\n",
      "Early stopping at epoch 6\n"
     ]
    }
   ],
   "source": [
    "# Initialize your model, e.g., BERTLSTMClassifier\n",
    "lstm_model = BERTLSTMClassifier(num_classes=2)\n",
    "lstm_model.to(device)\n",
    "\n",
    "optimizer = torch.optim.Adam(lstm_model.parameters(), lr=2e-5)\n",
    "\n",
    "# Train with early stopping and validation monitoring\n",
    "history_lstm = train_model_with_val_earlystopping(\n",
    "    lstm_model, train_loader, val_loader, criterion, optimizer, device,\n",
    "    num_epochs=10, patience=3\n",
    ")"
   ]
  },
  {
   "cell_type": "code",
   "execution_count": 27,
   "id": "3a6552f7",
   "metadata": {
    "execution": {
     "iopub.execute_input": "2025-06-08T16:54:42.125897Z",
     "iopub.status.busy": "2025-06-08T16:54:42.125321Z",
     "iopub.status.idle": "2025-06-08T16:54:42.140308Z",
     "shell.execute_reply": "2025-06-08T16:54:42.139686Z"
    },
    "id": "yNFiGq8Y42p-",
    "outputId": "7f222d3e-1688-4b70-ac38-4de0eb53ca9e",
    "papermill": {
     "duration": 0.032927,
     "end_time": "2025-06-08T16:54:42.141341",
     "exception": false,
     "start_time": "2025-06-08T16:54:42.108414",
     "status": "completed"
    },
    "tags": []
   },
   "outputs": [
    {
     "data": {
      "text/html": [
       "<div>\n",
       "<style scoped>\n",
       "    .dataframe tbody tr th:only-of-type {\n",
       "        vertical-align: middle;\n",
       "    }\n",
       "\n",
       "    .dataframe tbody tr th {\n",
       "        vertical-align: top;\n",
       "    }\n",
       "\n",
       "    .dataframe thead th {\n",
       "        text-align: right;\n",
       "    }\n",
       "</style>\n",
       "<table border=\"1\" class=\"dataframe\">\n",
       "  <thead>\n",
       "    <tr style=\"text-align: right;\">\n",
       "      <th></th>\n",
       "      <th>epoch</th>\n",
       "      <th>train_loss</th>\n",
       "      <th>train_acc</th>\n",
       "      <th>val_loss</th>\n",
       "      <th>val_acc</th>\n",
       "      <th>val_precision</th>\n",
       "      <th>val_recall</th>\n",
       "      <th>val_f1</th>\n",
       "    </tr>\n",
       "  </thead>\n",
       "  <tbody>\n",
       "    <tr>\n",
       "      <th>0</th>\n",
       "      <td>1</td>\n",
       "      <td>0.590979</td>\n",
       "      <td>0.681518</td>\n",
       "      <td>0.329247</td>\n",
       "      <td>0.886279</td>\n",
       "      <td>0.617260</td>\n",
       "      <td>0.790584</td>\n",
       "      <td>0.653021</td>\n",
       "    </tr>\n",
       "    <tr>\n",
       "      <th>1</th>\n",
       "      <td>2</td>\n",
       "      <td>0.309015</td>\n",
       "      <td>0.881188</td>\n",
       "      <td>0.298628</td>\n",
       "      <td>0.881432</td>\n",
       "      <td>0.630406</td>\n",
       "      <td>0.864691</td>\n",
       "      <td>0.671514</td>\n",
       "    </tr>\n",
       "    <tr>\n",
       "      <th>2</th>\n",
       "      <td>3</td>\n",
       "      <td>0.162080</td>\n",
       "      <td>0.945545</td>\n",
       "      <td>0.222065</td>\n",
       "      <td>0.912752</td>\n",
       "      <td>0.662650</td>\n",
       "      <td>0.866548</td>\n",
       "      <td>0.713878</td>\n",
       "    </tr>\n",
       "    <tr>\n",
       "      <th>3</th>\n",
       "      <td>4</td>\n",
       "      <td>0.079163</td>\n",
       "      <td>0.972772</td>\n",
       "      <td>0.248658</td>\n",
       "      <td>0.913870</td>\n",
       "      <td>0.670526</td>\n",
       "      <td>0.899988</td>\n",
       "      <td>0.725901</td>\n",
       "    </tr>\n",
       "    <tr>\n",
       "      <th>4</th>\n",
       "      <td>5</td>\n",
       "      <td>0.032424</td>\n",
       "      <td>0.993399</td>\n",
       "      <td>0.251015</td>\n",
       "      <td>0.926174</td>\n",
       "      <td>0.686795</td>\n",
       "      <td>0.888202</td>\n",
       "      <td>0.743142</td>\n",
       "    </tr>\n",
       "    <tr>\n",
       "      <th>5</th>\n",
       "      <td>6</td>\n",
       "      <td>0.032926</td>\n",
       "      <td>0.990099</td>\n",
       "      <td>0.297953</td>\n",
       "      <td>0.914989</td>\n",
       "      <td>0.670778</td>\n",
       "      <td>0.893275</td>\n",
       "      <td>0.725681</td>\n",
       "    </tr>\n",
       "  </tbody>\n",
       "</table>\n",
       "</div>"
      ],
      "text/plain": [
       "   epoch  train_loss  train_acc  val_loss   val_acc  val_precision  \\\n",
       "0      1    0.590979   0.681518  0.329247  0.886279       0.617260   \n",
       "1      2    0.309015   0.881188  0.298628  0.881432       0.630406   \n",
       "2      3    0.162080   0.945545  0.222065  0.912752       0.662650   \n",
       "3      4    0.079163   0.972772  0.248658  0.913870       0.670526   \n",
       "4      5    0.032424   0.993399  0.251015  0.926174       0.686795   \n",
       "5      6    0.032926   0.990099  0.297953  0.914989       0.670778   \n",
       "\n",
       "   val_recall    val_f1  \n",
       "0    0.790584  0.653021  \n",
       "1    0.864691  0.671514  \n",
       "2    0.866548  0.713878  \n",
       "3    0.899988  0.725901  \n",
       "4    0.888202  0.743142  \n",
       "5    0.893275  0.725681  "
      ]
     },
     "execution_count": 27,
     "metadata": {},
     "output_type": "execute_result"
    }
   ],
   "source": [
    "training_lstm = pd.DataFrame(history_lstm)\n",
    "training_lstm"
   ]
  },
  {
   "cell_type": "code",
   "execution_count": 28,
   "id": "0beb3272",
   "metadata": {
    "execution": {
     "iopub.execute_input": "2025-06-08T16:54:42.175023Z",
     "iopub.status.busy": "2025-06-08T16:54:42.174433Z",
     "iopub.status.idle": "2025-06-08T16:54:42.755394Z",
     "shell.execute_reply": "2025-06-08T16:54:42.754535Z"
    },
    "id": "a-g_CMma90Fs",
    "outputId": "f2218cda-ce1b-4ecf-f9bb-531fbc329848",
    "papermill": {
     "duration": 0.599114,
     "end_time": "2025-06-08T16:54:42.756551",
     "exception": false,
     "start_time": "2025-06-08T16:54:42.157437",
     "status": "completed"
    },
    "tags": []
   },
   "outputs": [
    {
     "data": {
      "image/png": "[encoded data removed]",
      "text/plain": [
       "<Figure size 500x300 with 1 Axes>"
      ]
     },
     "metadata": {},
     "output_type": "display_data"
    },
    {
     "data": {
      "image/png": "[encoded data removed]",
      "text/plain": [
       "<Figure size 500x300 with 1 Axes>"
      ]
     },
     "metadata": {},
     "output_type": "display_data"
    },
    {
     "data": {
      "image/png": "[encoded data removed]",
      "text/plain": [
       "<Figure size 500x300 with 1 Axes>"
      ]
     },
     "metadata": {},
     "output_type": "display_data"
    }
   ],
   "source": [
    "plot_training_metrics(training_lstm)"
   ]
  },
  {
   "cell_type": "code",
   "execution_count": 29,
   "id": "9e2aad2b",
   "metadata": {
    "execution": {
     "iopub.execute_input": "2025-06-08T16:54:42.796645Z",
     "iopub.status.busy": "2025-06-08T16:54:42.796116Z",
     "iopub.status.idle": "2025-06-08T16:56:08.024663Z",
     "shell.execute_reply": "2025-06-08T16:56:08.023809Z"
    },
    "id": "WKunqMgC96V8",
    "outputId": "c1f51b8b-f2b4-4a23-c29f-15f150d7502c",
    "papermill": {
     "duration": 85.267748,
     "end_time": "2025-06-08T16:56:08.044241",
     "exception": false,
     "start_time": "2025-06-08T16:54:42.776493",
     "status": "completed"
    },
    "tags": []
   },
   "outputs": [
    {
     "name": "stdout",
     "output_type": "stream",
     "text": [
      "\n",
      "Test Evaluation:\n",
      " Accuracy  Precision   Recall  F1-score\n",
      " 0.926174   0.687408 0.891853  0.744261\n",
      "\n",
      "Confusion Matrix:\n",
      "[[2373  179]\n",
      " [  19  111]]\n",
      "\n",
      "Classification Report:\n",
      "              precision    recall  f1-score   support\n",
      "\n",
      "         Neg     0.9921    0.9299    0.9600      2552\n",
      "         Pos     0.3828    0.8538    0.5286       130\n",
      "\n",
      "    accuracy                         0.9262      2682\n",
      "   macro avg     0.6874    0.8919    0.7443      2682\n",
      "weighted avg     0.9625    0.9262    0.9390      2682\n",
      "\n"
     ]
    },
    {
     "data": {
      "image/png": "[encoded data removed]",
      "text/plain": [
       "<Figure size 600x500 with 2 Axes>"
      ]
     },
     "metadata": {},
     "output_type": "display_data"
    }
   ],
   "source": [
    "test_lstm, cm_lstm,cf_report_lstm = evaluate_model(lstm_model, test_loader, device, class_names=['Neg', 'Pos'])"
   ]
  },
  {
   "cell_type": "code",
   "execution_count": 30,
   "id": "a0040f0c",
   "metadata": {
    "execution": {
     "iopub.execute_input": "2025-06-08T16:56:08.081795Z",
     "iopub.status.busy": "2025-06-08T16:56:08.081570Z",
     "iopub.status.idle": "2025-06-08T16:56:08.085455Z",
     "shell.execute_reply": "2025-06-08T16:56:08.084669Z"
    },
    "id": "Brz-YztnfRoZ",
    "outputId": "2d56a4c9-f1cb-4688-dd0f-ed6cb8b47466",
    "papermill": {
     "duration": 0.024355,
     "end_time": "2025-06-08T16:56:08.086501",
     "exception": false,
     "start_time": "2025-06-08T16:56:08.062146",
     "status": "completed"
    },
    "tags": []
   },
   "outputs": [
    {
     "name": "stdout",
     "output_type": "stream",
     "text": [
      "              precision    recall  f1-score   support\n",
      "\n",
      "         Neg     0.9921    0.9299    0.9600      2552\n",
      "         Pos     0.3828    0.8538    0.5286       130\n",
      "\n",
      "    accuracy                         0.9262      2682\n",
      "   macro avg     0.6874    0.8919    0.7443      2682\n",
      "weighted avg     0.9625    0.9262    0.9390      2682\n",
      "\n"
     ]
    }
   ],
   "source": [
    "print(cf_report_lstm)"
   ]
  },
  {
   "cell_type": "markdown",
   "id": "f43a7bff",
   "metadata": {
    "id": "rDxUFyobEkkQ",
    "papermill": {
     "duration": 0.017796,
     "end_time": "2025-06-08T16:56:08.122436",
     "exception": false,
     "start_time": "2025-06-08T16:56:08.104640",
     "status": "completed"
    },
    "tags": []
   },
   "source": [
    "## CNN-LSTM"
   ]
  },
  {
   "cell_type": "code",
   "execution_count": 31,
   "id": "40aa421e",
   "metadata": {
    "execution": {
     "iopub.execute_input": "2025-06-08T16:56:08.158997Z",
     "iopub.status.busy": "2025-06-08T16:56:08.158732Z",
     "iopub.status.idle": "2025-06-08T17:20:12.074172Z",
     "shell.execute_reply": "2025-06-08T17:20:12.073301Z"
    },
    "id": "MsCx_tVk-Qh1",
    "outputId": "c7332ba8-f1af-49ad-bc10-980e2b7e2f72",
    "papermill": {
     "duration": 1443.953875,
     "end_time": "2025-06-08T17:20:12.094328",
     "exception": false,
     "start_time": "2025-06-08T16:56:08.140453",
     "status": "completed"
    },
    "tags": []
   },
   "outputs": [
    {
     "name": "stdout",
     "output_type": "stream",
     "text": [
      "Epoch 1/10 | Train Loss: 0.6527 | Val Loss: 0.4882 | Train Acc: 0.6477 | Val Acc: 0.7685 | Val F1: 0.5480\n",
      "Epoch 2/10 | Train Loss: 0.4511 | Val Loss: 0.2332 | Train Acc: 0.8234 | Val Acc: 0.9251 | Val F1: 0.7201\n",
      "Epoch 3/10 | Train Loss: 0.2377 | Val Loss: 0.2353 | Train Acc: 0.9266 | Val Acc: 0.9150 | Val F1: 0.7279\n",
      "Epoch 4/10 | Train Loss: 0.1428 | Val Loss: 0.1404 | Train Acc: 0.9604 | Val Acc: 0.9500 | Val F1: 0.7896\n",
      "Epoch 5/10 | Train Loss: 0.0889 | Val Loss: 0.2210 | Train Acc: 0.9736 | Val Acc: 0.9292 | Val F1: 0.7468\n",
      "Epoch 6/10 | Train Loss: 0.0489 | Val Loss: 0.1730 | Train Acc: 0.9901 | Val Acc: 0.9534 | Val F1: 0.8010\n",
      "Epoch 7/10 | Train Loss: 0.0527 | Val Loss: 0.1971 | Train Acc: 0.9860 | Val Acc: 0.9441 | Val F1: 0.7823\n",
      "Early stopping at epoch 7\n"
     ]
    }
   ],
   "source": [
    "# Initialize your model, e.g., BERTCNNLSTMClassifier\n",
    "cnnlstm_model = BERTCNNLSTMClassifier(num_classes=2)\n",
    "cnnlstm_model.to(device)\n",
    "\n",
    "optimizer = torch.optim.Adam(cnnlstm_model.parameters(), lr=2e-5)\n",
    "\n",
    "# Train with early stopping and validation monitoring\n",
    "history_cnnlstm = train_model_with_val_earlystopping(\n",
    "    cnnlstm_model, train_loader, val_loader, criterion, optimizer, device,\n",
    "    num_epochs=10, patience=3\n",
    ")"
   ]
  },
  {
   "cell_type": "code",
   "execution_count": 32,
   "id": "63d2889b",
   "metadata": {
    "execution": {
     "iopub.execute_input": "2025-06-08T17:20:12.131606Z",
     "iopub.status.busy": "2025-06-08T17:20:12.131403Z",
     "iopub.status.idle": "2025-06-08T17:20:12.141791Z",
     "shell.execute_reply": "2025-06-08T17:20:12.141188Z"
    },
    "id": "x_2st-EQ-2tD",
    "outputId": "a8820705-a43a-417d-f47b-ef43e1630d57",
    "papermill": {
     "duration": 0.030054,
     "end_time": "2025-06-08T17:20:12.142829",
     "exception": false,
     "start_time": "2025-06-08T17:20:12.112775",
     "status": "completed"
    },
    "tags": []
   },
   "outputs": [
    {
     "data": {
      "text/html": [
       "<div>\n",
       "<style scoped>\n",
       "    .dataframe tbody tr th:only-of-type {\n",
       "        vertical-align: middle;\n",
       "    }\n",
       "\n",
       "    .dataframe tbody tr th {\n",
       "        vertical-align: top;\n",
       "    }\n",
       "\n",
       "    .dataframe thead th {\n",
       "        text-align: right;\n",
       "    }\n",
       "</style>\n",
       "<table border=\"1\" class=\"dataframe\">\n",
       "  <thead>\n",
       "    <tr style=\"text-align: right;\">\n",
       "      <th></th>\n",
       "      <th>epoch</th>\n",
       "      <th>train_loss</th>\n",
       "      <th>train_acc</th>\n",
       "      <th>val_loss</th>\n",
       "      <th>val_acc</th>\n",
       "      <th>val_precision</th>\n",
       "      <th>val_recall</th>\n",
       "      <th>val_f1</th>\n",
       "    </tr>\n",
       "  </thead>\n",
       "  <tbody>\n",
       "    <tr>\n",
       "      <th>0</th>\n",
       "      <td>1</td>\n",
       "      <td>0.652709</td>\n",
       "      <td>0.647690</td>\n",
       "      <td>0.488197</td>\n",
       "      <td>0.768456</td>\n",
       "      <td>0.560233</td>\n",
       "      <td>0.746922</td>\n",
       "      <td>0.548026</td>\n",
       "    </tr>\n",
       "    <tr>\n",
       "      <th>1</th>\n",
       "      <td>2</td>\n",
       "      <td>0.451116</td>\n",
       "      <td>0.823432</td>\n",
       "      <td>0.233151</td>\n",
       "      <td>0.925056</td>\n",
       "      <td>0.673305</td>\n",
       "      <td>0.825561</td>\n",
       "      <td>0.720117</td>\n",
       "    </tr>\n",
       "    <tr>\n",
       "      <th>2</th>\n",
       "      <td>3</td>\n",
       "      <td>0.237733</td>\n",
       "      <td>0.926568</td>\n",
       "      <td>0.235309</td>\n",
       "      <td>0.914989</td>\n",
       "      <td>0.672119</td>\n",
       "      <td>0.900576</td>\n",
       "      <td>0.727855</td>\n",
       "    </tr>\n",
       "    <tr>\n",
       "      <th>3</th>\n",
       "      <td>4</td>\n",
       "      <td>0.142844</td>\n",
       "      <td>0.960396</td>\n",
       "      <td>0.140421</td>\n",
       "      <td>0.950037</td>\n",
       "      <td>0.739777</td>\n",
       "      <td>0.875190</td>\n",
       "      <td>0.789605</td>\n",
       "    </tr>\n",
       "    <tr>\n",
       "      <th>4</th>\n",
       "      <td>5</td>\n",
       "      <td>0.088950</td>\n",
       "      <td>0.973597</td>\n",
       "      <td>0.220999</td>\n",
       "      <td>0.929157</td>\n",
       "      <td>0.691080</td>\n",
       "      <td>0.882469</td>\n",
       "      <td>0.746849</td>\n",
       "    </tr>\n",
       "    <tr>\n",
       "      <th>5</th>\n",
       "      <td>6</td>\n",
       "      <td>0.048872</td>\n",
       "      <td>0.990099</td>\n",
       "      <td>0.173010</td>\n",
       "      <td>0.953393</td>\n",
       "      <td>0.751051</td>\n",
       "      <td>0.884254</td>\n",
       "      <td>0.801005</td>\n",
       "    </tr>\n",
       "    <tr>\n",
       "      <th>6</th>\n",
       "      <td>7</td>\n",
       "      <td>0.052682</td>\n",
       "      <td>0.985974</td>\n",
       "      <td>0.197057</td>\n",
       "      <td>0.944072</td>\n",
       "      <td>0.725072</td>\n",
       "      <td>0.897607</td>\n",
       "      <td>0.782279</td>\n",
       "    </tr>\n",
       "  </tbody>\n",
       "</table>\n",
       "</div>"
      ],
      "text/plain": [
       "   epoch  train_loss  train_acc  val_loss   val_acc  val_precision  \\\n",
       "0      1    0.652709   0.647690  0.488197  0.768456       0.560233   \n",
       "1      2    0.451116   0.823432  0.233151  0.925056       0.673305   \n",
       "2      3    0.237733   0.926568  0.235309  0.914989       0.672119   \n",
       "3      4    0.142844   0.960396  0.140421  0.950037       0.739777   \n",
       "4      5    0.088950   0.973597  0.220999  0.929157       0.691080   \n",
       "5      6    0.048872   0.990099  0.173010  0.953393       0.751051   \n",
       "6      7    0.052682   0.985974  0.197057  0.944072       0.725072   \n",
       "\n",
       "   val_recall    val_f1  \n",
       "0    0.746922  0.548026  \n",
       "1    0.825561  0.720117  \n",
       "2    0.900576  0.727855  \n",
       "3    0.875190  0.789605  \n",
       "4    0.882469  0.746849  \n",
       "5    0.884254  0.801005  \n",
       "6    0.897607  0.782279  "
      ]
     },
     "execution_count": 32,
     "metadata": {},
     "output_type": "execute_result"
    }
   ],
   "source": [
    "training_cnnlstm = pd.DataFrame(history_cnnlstm)\n",
    "training_cnnlstm"
   ]
  },
  {
   "cell_type": "code",
   "execution_count": 33,
   "id": "d5765ad8",
   "metadata": {
    "execution": {
     "iopub.execute_input": "2025-06-08T17:20:12.180422Z",
     "iopub.status.busy": "2025-06-08T17:20:12.180213Z",
     "iopub.status.idle": "2025-06-08T17:20:12.729781Z",
     "shell.execute_reply": "2025-06-08T17:20:12.728996Z"
    },
    "id": "l8zLGmw-EcKe",
    "outputId": "fbbc52dd-5268-4b90-8936-21a672b334a8",
    "papermill": {
     "duration": 0.569742,
     "end_time": "2025-06-08T17:20:12.730900",
     "exception": false,
     "start_time": "2025-06-08T17:20:12.161158",
     "status": "completed"
    },
    "tags": []
   },
   "outputs": [
    {
     "data": {
      "image/png": "[encoded data removed]",
      "text/plain": [
       "<Figure size 500x300 with 1 Axes>"
      ]
     },
     "metadata": {},
     "output_type": "display_data"
    },
    {
     "data": {
      "image/png": "[encoded data removed]",
      "text/plain": [
       "<Figure size 500x300 with 1 Axes>"
      ]
     },
     "metadata": {},
     "output_type": "display_data"
    },
    {
     "data": {
      "image/png": "[encoded data removed]",
      "text/plain": [
       "<Figure size 500x300 with 1 Axes>"
      ]
     },
     "metadata": {},
     "output_type": "display_data"
    }
   ],
   "source": [
    "plot_training_metrics(training_cnnlstm)"
   ]
  },
  {
   "cell_type": "code",
   "execution_count": 34,
   "id": "484d5449",
   "metadata": {
    "execution": {
     "iopub.execute_input": "2025-06-08T17:20:12.774090Z",
     "iopub.status.busy": "2025-06-08T17:20:12.773660Z",
     "iopub.status.idle": "2025-06-08T17:21:37.646435Z",
     "shell.execute_reply": "2025-06-08T17:21:37.645710Z"
    },
    "id": "J_oLwS74EhnS",
    "outputId": "f3768c26-c8f8-4693-cfae-b4d5c1852be7",
    "papermill": {
     "duration": 84.91902,
     "end_time": "2025-06-08T17:21:37.671456",
     "exception": false,
     "start_time": "2025-06-08T17:20:12.752436",
     "status": "completed"
    },
    "tags": []
   },
   "outputs": [
    {
     "name": "stdout",
     "output_type": "stream",
     "text": [
      "\n",
      "Test Evaluation:\n",
      " Accuracy  Precision   Recall  F1-score\n",
      " 0.956749   0.762952 0.904268  0.815846\n",
      "\n",
      "Confusion Matrix:\n",
      "[[2456   96]\n",
      " [  20  110]]\n",
      "\n",
      "Classification Report:\n",
      "              precision    recall  f1-score   support\n",
      "\n",
      "         Neg     0.9919    0.9624    0.9769      2552\n",
      "         Pos     0.5340    0.8462    0.6548       130\n",
      "\n",
      "    accuracy                         0.9567      2682\n",
      "   macro avg     0.7630    0.9043    0.8158      2682\n",
      "weighted avg     0.9697    0.9567    0.9613      2682\n",
      "\n"
     ]
    },
    {
     "data": {
      "image/png": "[encoded data removed]",
      "text/plain": [
       "<Figure size 600x500 with 2 Axes>"
      ]
     },
     "metadata": {},
     "output_type": "display_data"
    }
   ],
   "source": [
    "test_cnnlstm, cm_cnnlstm,cf_report_cnnlstm = evaluate_model(cnnlstm_model, test_loader, device, class_names=['Neg', 'Pos'])"
   ]
  },
  {
   "cell_type": "code",
   "execution_count": 35,
   "id": "39c1a2e4",
   "metadata": {
    "execution": {
     "iopub.execute_input": "2025-06-08T17:21:37.730404Z",
     "iopub.status.busy": "2025-06-08T17:21:37.729726Z",
     "iopub.status.idle": "2025-06-08T17:21:37.735355Z",
     "shell.execute_reply": "2025-06-08T17:21:37.734552Z"
    },
    "id": "O8ppGik7fYLS",
    "outputId": "5111804f-e727-4760-f23e-3177cd3794a7",
    "papermill": {
     "duration": 0.037871,
     "end_time": "2025-06-08T17:21:37.737113",
     "exception": false,
     "start_time": "2025-06-08T17:21:37.699242",
     "status": "completed"
    },
    "tags": []
   },
   "outputs": [
    {
     "name": "stdout",
     "output_type": "stream",
     "text": [
      "              precision    recall  f1-score   support\n",
      "\n",
      "         Neg     0.9919    0.9624    0.9769      2552\n",
      "         Pos     0.5340    0.8462    0.6548       130\n",
      "\n",
      "    accuracy                         0.9567      2682\n",
      "   macro avg     0.7630    0.9043    0.8158      2682\n",
      "weighted avg     0.9697    0.9567    0.9613      2682\n",
      "\n"
     ]
    }
   ],
   "source": [
    "print(cf_report_cnnlstm)"
   ]
  },
  {
   "cell_type": "code",
   "execution_count": 36,
   "id": "af7ae030",
   "metadata": {
    "execution": {
     "iopub.execute_input": "2025-06-08T17:21:37.782421Z",
     "iopub.status.busy": "2025-06-08T17:21:37.782211Z",
     "iopub.status.idle": "2025-06-08T17:21:37.792999Z",
     "shell.execute_reply": "2025-06-08T17:21:37.792214Z"
    },
    "id": "X1kRpkghHi4X",
    "outputId": "93c2ca71-5f51-4a91-cd62-a1b155d53cd8",
    "papermill": {
     "duration": 0.032874,
     "end_time": "2025-06-08T17:21:37.794173",
     "exception": false,
     "start_time": "2025-06-08T17:21:37.761299",
     "status": "completed"
    },
    "tags": []
   },
   "outputs": [
    {
     "data": {
      "text/html": [
       "<div>\n",
       "<style scoped>\n",
       "    .dataframe tbody tr th:only-of-type {\n",
       "        vertical-align: middle;\n",
       "    }\n",
       "\n",
       "    .dataframe tbody tr th {\n",
       "        vertical-align: top;\n",
       "    }\n",
       "\n",
       "    .dataframe thead th {\n",
       "        text-align: right;\n",
       "    }\n",
       "</style>\n",
       "<table border=\"1\" class=\"dataframe\">\n",
       "  <thead>\n",
       "    <tr style=\"text-align: right;\">\n",
       "      <th></th>\n",
       "      <th>Accuracy</th>\n",
       "      <th>Precision</th>\n",
       "      <th>Recall</th>\n",
       "      <th>F1-score</th>\n",
       "      <th>model</th>\n",
       "    </tr>\n",
       "  </thead>\n",
       "  <tbody>\n",
       "    <tr>\n",
       "      <th>0</th>\n",
       "      <td>0.923565</td>\n",
       "      <td>0.690679</td>\n",
       "      <td>0.937934</td>\n",
       "      <td>0.752859</td>\n",
       "      <td>CNN</td>\n",
       "    </tr>\n",
       "    <tr>\n",
       "      <th>1</th>\n",
       "      <td>0.926174</td>\n",
       "      <td>0.687408</td>\n",
       "      <td>0.891853</td>\n",
       "      <td>0.744261</td>\n",
       "      <td>LSTM</td>\n",
       "    </tr>\n",
       "    <tr>\n",
       "      <th>2</th>\n",
       "      <td>0.956749</td>\n",
       "      <td>0.762952</td>\n",
       "      <td>0.904268</td>\n",
       "      <td>0.815846</td>\n",
       "      <td>CNN-LSTM</td>\n",
       "    </tr>\n",
       "  </tbody>\n",
       "</table>\n",
       "</div>"
      ],
      "text/plain": [
       "   Accuracy  Precision    Recall  F1-score     model\n",
       "0  0.923565   0.690679  0.937934  0.752859       CNN\n",
       "1  0.926174   0.687408  0.891853  0.744261      LSTM\n",
       "2  0.956749   0.762952  0.904268  0.815846  CNN-LSTM"
      ]
     },
     "execution_count": 36,
     "metadata": {},
     "output_type": "execute_result"
    }
   ],
   "source": [
    "# Assign model names to each DataFrame\n",
    "test_cnn['model'] = 'CNN'\n",
    "test_lstm['model'] = 'LSTM'\n",
    "test_cnnlstm['model'] = 'CNN-LSTM'\n",
    "\n",
    "# Concatenate and reset index\n",
    "stat = pd.concat([test_cnn, test_lstm, test_cnnlstm], axis=0).reset_index(drop=True)\n",
    "stat"
   ]
  },
  {
   "cell_type": "code",
   "execution_count": 37,
   "id": "7d35160d",
   "metadata": {
    "execution": {
     "iopub.execute_input": "2025-06-08T17:21:37.836092Z",
     "iopub.status.busy": "2025-06-08T17:21:37.835867Z",
     "iopub.status.idle": "2025-06-08T17:21:38.046735Z",
     "shell.execute_reply": "2025-06-08T17:21:38.046009Z"
    },
    "id": "td_ezA50Hlmf",
    "outputId": "64967147-7dff-4e4b-cd9a-9e4f37ae4c88",
    "papermill": {
     "duration": 0.23346,
     "end_time": "2025-06-08T17:21:38.048103",
     "exception": false,
     "start_time": "2025-06-08T17:21:37.814643",
     "status": "completed"
    },
    "tags": []
   },
   "outputs": [
    {
     "name": "stderr",
     "output_type": "stream",
     "text": [
      "/usr/local/lib/python3.11/dist-packages/seaborn/_oldcore.py:1119: FutureWarning: use_inf_as_na option is deprecated and will be removed in a future version. Convert inf values to NaN before operating instead.\n",
      "  with pd.option_context('mode.use_inf_as_na', True):\n",
      "/usr/local/lib/python3.11/dist-packages/seaborn/_oldcore.py:1119: FutureWarning: use_inf_as_na option is deprecated and will be removed in a future version. Convert inf values to NaN before operating instead.\n",
      "  with pd.option_context('mode.use_inf_as_na', True):\n",
      "/usr/local/lib/python3.11/dist-packages/seaborn/_oldcore.py:1075: FutureWarning: When grouping with a length-1 list-like, you will need to pass a length-1 tuple to get_group in a future version of pandas. Pass `(name,)` instead of `name` to silence this warning.\n",
      "  data_subset = grouped_data.get_group(pd_key)\n",
      "/usr/local/lib/python3.11/dist-packages/seaborn/_oldcore.py:1075: FutureWarning: When grouping with a length-1 list-like, you will need to pass a length-1 tuple to get_group in a future version of pandas. Pass `(name,)` instead of `name` to silence this warning.\n",
      "  data_subset = grouped_data.get_group(pd_key)\n",
      "/usr/local/lib/python3.11/dist-packages/seaborn/_oldcore.py:1075: FutureWarning: When grouping with a length-1 list-like, you will need to pass a length-1 tuple to get_group in a future version of pandas. Pass `(name,)` instead of `name` to silence this warning.\n",
      "  data_subset = grouped_data.get_group(pd_key)\n"
     ]
    },
    {
     "data": {
      "image/png": "[encoded data removed]",
      "text/plain": [
       "<Figure size 500x400 with 1 Axes>"
      ]
     },
     "metadata": {},
     "output_type": "display_data"
    }
   ],
   "source": [
    "stat_melted = stat.melt(id_vars='model',\n",
    "                        value_vars=['Accuracy', 'Precision', 'Recall', 'F1-score'],\n",
    "                        var_name='Metric',\n",
    "                        value_name='Score')\n",
    "\n",
    "# Plot line chart\n",
    "plt.figure(figsize=(5, 4))\n",
    "sns.lineplot(data=stat_melted, x='Metric', y='Score', hue='model', marker='o')\n",
    "plt.title(\"Model Comparison Across Evaluation Metrics (Line Plot)\")\n",
    "plt.ylabel(\"Score\")\n",
    "plt.xlabel(\"Metric\")\n",
    "plt.ylim(0, 1)\n",
    "plt.grid(True)\n",
    "plt.legend(title=\"Model\")\n",
    "plt.tight_layout()\n",
    "plt.show()"
   ]
  },
  {
   "cell_type": "code",
   "execution_count": null,
   "id": "0fd05dff",
   "metadata": {
    "id": "n2aZCJXwHLeD",
    "papermill": {
     "duration": 0.022095,
     "end_time": "2025-06-08T17:21:38.093238",
     "exception": false,
     "start_time": "2025-06-08T17:21:38.071143",
     "status": "completed"
    },
    "tags": []
   },
   "outputs": [],
   "source": []
  },
  {
   "cell_type": "code",
   "execution_count": null,
   "id": "461f8f3a",
   "metadata": {
    "papermill": {
     "duration": 0.022447,
     "end_time": "2025-06-08T17:21:38.137818",
     "exception": false,
     "start_time": "2025-06-08T17:21:38.115371",
     "status": "completed"
    },
    "tags": []
   },
   "outputs": [],
   "source": []
  }
 ],
 "metadata": {
  "accelerator": "GPU",
  "colab": {
   "gpuType": "T4",
   "provenance": []
  },
  "kaggle": {
   "accelerator": "nvidiaTeslaT4",
   "dataSources": [
    {
     "datasetId": 7616628,
     "sourceId": 12098630,
     "sourceType": "datasetVersion"
    }
   ],
   "dockerImageVersionId": 31041,
   "isGpuEnabled": true,
   "isInternetEnabled": true,
   "language": "python",
   "sourceType": "notebook"
  },
  "kernelspec": {
   "display_name": "Python 3",
   "language": "python",
   "name": "python3"
  },
  "language_info": {
   "codemirror_mode": {
    "name": "ipython",
    "version": 3
   },
   "file_extension": ".py",
   "mimetype": "text/x-python",
   "name": "python",
   "nbconvert_exporter": "python",
   "pygments_lexer": "ipython3",
   "version": "3.11.11"
  },
  "papermill": {
   "default_parameters": {},
   "duration": 4279.895311,
   "end_time": "2025-06-08T17:21:41.669250",
   "environment_variables": {},
   "exception": null,
   "input_path": "__notebook__.ipynb",
   "output_path": "__notebook__.ipynb",
   "parameters": {},
   "start_time": "2025-06-08T16:10:21.773939",
   "version": "2.6.0"
  },
  "widgets": {
   "application/vnd.jupyter.widget-state+json": {
    "state": {
     "0af6db2ab2894a39b45f32f3decb9100": {
      "model_module": "@jupyter-widgets/controls",
      "model_module_version": "2.0.0",
      "model_name": "FloatProgressModel",
      "state": {
       "_dom_classes": [],
       "_model_module": "@jupyter-widgets/controls",
       "_model_module_version": "2.0.0",
       "_model_name": "FloatProgressModel",
       "_view_count": null,
       "_view_module": "@jupyter-widgets/controls",
       "_view_module_version": "2.0.0",
       "_view_name": "ProgressView",
       "bar_style": "success",
       "description": "",
       "description_allow_html": false,
       "layout": "IPY_MODEL_9c4dcff1b0724e2b9f241b0fdba54975",
       "max": 466062.0,
       "min": 0.0,
       "orientation": "horizontal",
       "style": "IPY_MODEL_5e4982b6a4514264bbd5b9c71042ccb1",
       "tabbable": null,
       "tooltip": null,
       "value": 466062.0
      }
     },
     "0bddf1d3ee594763b5ed0322fd011017": {
      "model_module": "@jupyter-widgets/controls",
      "model_module_version": "2.0.0",
      "model_name": "FloatProgressModel",
      "state": {
       "_dom_classes": [],
       "_model_module": "@jupyter-widgets/controls",
       "_model_module_version": "2.0.0",
       "_model_name": "FloatProgressModel",
       "_view_count": null,
       "_view_module": "@jupyter-widgets/controls",
       "_view_module_version": "2.0.0",
       "_view_name": "ProgressView",
       "bar_style": "success",
       "description": "",
       "description_allow_html": false,
       "layout": "IPY_MODEL_66c2743a62324b5cae3501f9c4eaf212",
       "max": 48.0,
       "min": 0.0,
       "orientation": "horizontal",
       "style": "IPY_MODEL_e90969209f3d4433aae883519d23960f",
       "tabbable": null,
       "tooltip": null,
       "value": 48.0
      }
     },
     "0ec6ec16533745d98361e0d0d08be144": {
      "model_module": "@jupyter-widgets/controls",
      "model_module_version": "2.0.0",
      "model_name": "FloatProgressModel",
      "state": {
       "_dom_classes": [],
       "_model_module": "@jupyter-widgets/controls",
       "_model_module_version": "2.0.0",
       "_model_name": "FloatProgressModel",
       "_view_count": null,
       "_view_module": "@jupyter-widgets/controls",
       "_view_module_version": "2.0.0",
       "_view_name": "ProgressView",
       "bar_style": "success",
       "description": "",
       "description_allow_html": false,
       "layout": "IPY_MODEL_907be33150fa42deb965f64902e0be5e",
       "max": 570.0,
       "min": 0.0,
       "orientation": "horizontal",
       "style": "IPY_MODEL_4be6e21eda4e4db98f7ea21821f3f263",
       "tabbable": null,
       "tooltip": null,
       "value": 570.0
      }
     },
     "0ecb9244c0324c45b86c161fc7365fb5": {
      "model_module": "@jupyter-widgets/base",
      "model_module_version": "2.0.0",
      "model_name": "LayoutModel",
      "state": {
       "_model_module": "@jupyter-widgets/base",
       "_model_module_version": "2.0.0",
       "_model_name": "LayoutModel",
       "_view_count": null,
       "_view_module": "@jupyter-widgets/base",
       "_view_module_version": "2.0.0",
       "_view_name": "LayoutView",
       "align_content": null,
       "align_items": null,
       "align_self": null,
       "border_bottom": null,
       "border_left": null,
       "border_right": null,
       "border_top": null,
       "bottom": null,
       "display": null,
       "flex": null,
       "flex_flow": null,
       "grid_area": null,
       "grid_auto_columns": null,
       "grid_auto_flow": null,
       "grid_auto_rows": null,
       "grid_column": null,
       "grid_gap": null,
       "grid_row": null,
       "grid_template_areas": null,
       "grid_template_columns": null,
       "grid_template_rows": null,
       "height": null,
       "justify_content": null,
       "justify_items": null,
       "left": null,
       "margin": null,
       "max_height": null,
       "max_width": null,
       "min_height": null,
       "min_width": null,
       "object_fit": null,
       "object_position": null,
       "order": null,
       "overflow": null,
       "padding": null,
       "right": null,
       "top": null,
       "visibility": null,
       "width": null
      }
     },
     "10c41d1d133c4b499ee6754b14835947": {
      "model_module": "@jupyter-widgets/controls",
      "model_module_version": "2.0.0",
      "model_name": "HTMLModel",
      "state": {
       "_dom_classes": [],
       "_model_module": "@jupyter-widgets/controls",
       "_model_module_version": "2.0.0",
       "_model_name": "HTMLModel",
       "_view_count": null,
       "_view_module": "@jupyter-widgets/controls",
       "_view_module_version": "2.0.0",
       "_view_name": "HTMLView",
       "description": "",
       "description_allow_html": false,
       "layout": "IPY_MODEL_0ecb9244c0324c45b86c161fc7365fb5",
       "placeholder": "​",
       "style": "IPY_MODEL_f85ee868ff9345cfb08f5521aa4643d4",
       "tabbable": null,
       "tooltip": null,
       "value": "tokenizer_config.json: 100%"
      }
     },
     "128e67da7ee345a0b19bdee60fd24e40": {
      "model_module": "@jupyter-widgets/base",
      "model_module_version": "2.0.0",
      "model_name": "LayoutModel",
      "state": {
       "_model_module": "@jupyter-widgets/base",
       "_model_module_version": "2.0.0",
       "_model_name": "LayoutModel",
       "_view_count": null,
       "_view_module": "@jupyter-widgets/base",
       "_view_module_version": "2.0.0",
       "_view_name": "LayoutView",
       "align_content": null,
       "align_items": null,
       "align_self": null,
       "border_bottom": null,
       "border_left": null,
       "border_right": null,
       "border_top": null,
       "bottom": null,
       "display": null,
       "flex": null,
       "flex_flow": null,
       "grid_area": null,
       "grid_auto_columns": null,
       "grid_auto_flow": null,
       "grid_auto_rows": null,
       "grid_column": null,
       "grid_gap": null,
       "grid_row": null,
       "grid_template_areas": null,
       "grid_template_columns": null,
       "grid_template_rows": null,
       "height": null,
       "justify_content": null,
       "justify_items": null,
       "left": null,
       "margin": null,
       "max_height": null,
       "max_width": null,
       "min_height": null,
       "min_width": null,
       "object_fit": null,
       "object_position": null,
       "order": null,
       "overflow": null,
       "padding": null,
       "right": null,
       "top": null,
       "visibility": null,
       "width": null
      }
     },
     "19e2e939ea234176ad9776f5a8f18ec3": {
      "model_module": "@jupyter-widgets/controls",
      "model_module_version": "2.0.0",
      "model_name": "FloatProgressModel",
      "state": {
       "_dom_classes": [],
       "_model_module": "@jupyter-widgets/controls",
       "_model_module_version": "2.0.0",
       "_model_name": "FloatProgressModel",
       "_view_count": null,
       "_view_module": "@jupyter-widgets/controls",
       "_view_module_version": "2.0.0",
       "_view_name": "ProgressView",
       "bar_style": "success",
       "description": "",
       "description_allow_html": false,
       "layout": "IPY_MODEL_7e9a2d77638847daa628605d8c4ec8d5",
       "max": 231508.0,
       "min": 0.0,
       "orientation": "horizontal",
       "style": "IPY_MODEL_1cfc11403cb244068b04169ab64358ca",
       "tabbable": null,
       "tooltip": null,
       "value": 231508.0
      }
     },
     "1cfc11403cb244068b04169ab64358ca": {
      "model_module": "@jupyter-widgets/controls",
      "model_module_version": "2.0.0",
      "model_name": "ProgressStyleModel",
      "state": {
       "_model_module": "@jupyter-widgets/controls",
       "_model_module_version": "2.0.0",
       "_model_name": "ProgressStyleModel",
       "_view_count": null,
       "_view_module": "@jupyter-widgets/base",
       "_view_module_version": "2.0.0",
       "_view_name": "StyleView",
       "bar_color": null,
       "description_width": ""
      }
     },
     "1d934acc72c04a57833c50df41a6221c": {
      "model_module": "@jupyter-widgets/base",
      "model_module_version": "2.0.0",
      "model_name": "LayoutModel",
      "state": {
       "_model_module": "@jupyter-widgets/base",
       "_model_module_version": "2.0.0",
       "_model_name": "LayoutModel",
       "_view_count": null,
       "_view_module": "@jupyter-widgets/base",
       "_view_module_version": "2.0.0",
       "_view_name": "LayoutView",
       "align_content": null,
       "align_items": null,
       "align_self": null,
       "border_bottom": null,
       "border_left": null,
       "border_right": null,
       "border_top": null,
       "bottom": null,
       "display": null,
       "flex": null,
       "flex_flow": null,
       "grid_area": null,
       "grid_auto_columns": null,
       "grid_auto_flow": null,
       "grid_auto_rows": null,
       "grid_column": null,
       "grid_gap": null,
       "grid_row": null,
       "grid_template_areas": null,
       "grid_template_columns": null,
       "grid_template_rows": null,
       "height": null,
       "justify_content": null,
       "justify_items": null,
       "left": null,
       "margin": null,
       "max_height": null,
       "max_width": null,
       "min_height": null,
       "min_width": null,
       "object_fit": null,
       "object_position": null,
       "order": null,
       "overflow": null,
       "padding": null,
       "right": null,
       "top": null,
       "visibility": null,
       "width": null
      }
     },
     "29ba6c29124b4c02933f99c0278b0020": {
      "model_module": "@jupyter-widgets/controls",
      "model_module_version": "2.0.0",
      "model_name": "HTMLStyleModel",
      "state": {
       "_model_module": "@jupyter-widgets/controls",
       "_model_module_version": "2.0.0",
       "_model_name": "HTMLStyleModel",
       "_view_count": null,
       "_view_module": "@jupyter-widgets/base",
       "_view_module_version": "2.0.0",
       "_view_name": "StyleView",
       "background": null,
       "description_width": "",
       "font_size": null,
       "text_color": null
      }
     },
     "2b89eaf60fb94a9b962adf7097542bbd": {
      "model_module": "@jupyter-widgets/controls",
      "model_module_version": "2.0.0",
      "model_name": "HTMLStyleModel",
      "state": {
       "_model_module": "@jupyter-widgets/controls",
       "_model_module_version": "2.0.0",
       "_model_name": "HTMLStyleModel",
       "_view_count": null,
       "_view_module": "@jupyter-widgets/base",
       "_view_module_version": "2.0.0",
       "_view_name": "StyleView",
       "background": null,
       "description_width": "",
       "font_size": null,
       "text_color": null
      }
     },
     "2e3fcba761c149a28a6aa4a42d6fabf2": {
      "model_module": "@jupyter-widgets/controls",
      "model_module_version": "2.0.0",
      "model_name": "HBoxModel",
      "state": {
       "_dom_classes": [],
       "_model_module": "@jupyter-widgets/controls",
       "_model_module_version": "2.0.0",
       "_model_name": "HBoxModel",
       "_view_count": null,
       "_view_module": "@jupyter-widgets/controls",
       "_view_module_version": "2.0.0",
       "_view_name": "HBoxView",
       "box_style": "",
       "children": [
        "IPY_MODEL_6a87d719f8924fcd8ef91dd922a7f619",
        "IPY_MODEL_0af6db2ab2894a39b45f32f3decb9100",
        "IPY_MODEL_5a5ef07a1f3641b990650683910857d0"
       ],
       "layout": "IPY_MODEL_31ea1cce9b8b4823bae3b2c224a8e867",
       "tabbable": null,
       "tooltip": null
      }
     },
     "31ea1cce9b8b4823bae3b2c224a8e867": {
      "model_module": "@jupyter-widgets/base",
      "model_module_version": "2.0.0",
      "model_name": "LayoutModel",
      "state": {
       "_model_module": "@jupyter-widgets/base",
       "_model_module_version": "2.0.0",
       "_model_name": "LayoutModel",
       "_view_count": null,
       "_view_module": "@jupyter-widgets/base",
       "_view_module_version": "2.0.0",
       "_view_name": "LayoutView",
       "align_content": null,
       "align_items": null,
       "align_self": null,
       "border_bottom": null,
       "border_left": null,
       "border_right": null,
       "border_top": null,
       "bottom": null,
       "display": null,
       "flex": null,
       "flex_flow": null,
       "grid_area": null,
       "grid_auto_columns": null,
       "grid_auto_flow": null,
       "grid_auto_rows": null,
       "grid_column": null,
       "grid_gap": null,
       "grid_row": null,
       "grid_template_areas": null,
       "grid_template_columns": null,
       "grid_template_rows": null,
       "height": null,
       "justify_content": null,
       "justify_items": null,
       "left": null,
       "margin": null,
       "max_height": null,
       "max_width": null,
       "min_height": null,
       "min_width": null,
       "object_fit": null,
       "object_position": null,
       "order": null,
       "overflow": null,
       "padding": null,
       "right": null,
       "top": null,
       "visibility": null,
       "width": null
      }
     },
     "3aaa5b9847934e64865e71ec263e35cc": {
      "model_module": "@jupyter-widgets/base",
      "model_module_version": "2.0.0",
      "model_name": "LayoutModel",
      "state": {
       "_model_module": "@jupyter-widgets/base",
       "_model_module_version": "2.0.0",
       "_model_name": "LayoutModel",
       "_view_count": null,
       "_view_module": "@jupyter-widgets/base",
       "_view_module_version": "2.0.0",
       "_view_name": "LayoutView",
       "align_content": null,
       "align_items": null,
       "align_self": null,
       "border_bottom": null,
       "border_left": null,
       "border_right": null,
       "border_top": null,
       "bottom": null,
       "display": null,
       "flex": null,
       "flex_flow": null,
       "grid_area": null,
       "grid_auto_columns": null,
       "grid_auto_flow": null,
       "grid_auto_rows": null,
       "grid_column": null,
       "grid_gap": null,
       "grid_row": null,
       "grid_template_areas": null,
       "grid_template_columns": null,
       "grid_template_rows": null,
       "height": null,
       "justify_content": null,
       "justify_items": null,
       "left": null,
       "margin": null,
       "max_height": null,
       "max_width": null,
       "min_height": null,
       "min_width": null,
       "object_fit": null,
       "object_position": null,
       "order": null,
       "overflow": null,
       "padding": null,
       "right": null,
       "top": null,
       "visibility": null,
       "width": null
      }
     },
     "4790b0518afa4a939a1cef4d99f98c2f": {
      "model_module": "@jupyter-widgets/base",
      "model_module_version": "2.0.0",
      "model_name": "LayoutModel",
      "state": {
       "_model_module": "@jupyter-widgets/base",
       "_model_module_version": "2.0.0",
       "_model_name": "LayoutModel",
       "_view_count": null,
       "_view_module": "@jupyter-widgets/base",
       "_view_module_version": "2.0.0",
       "_view_name": "LayoutView",
       "align_content": null,
       "align_items": null,
       "align_self": null,
       "border_bottom": null,
       "border_left": null,
       "border_right": null,
       "border_top": null,
       "bottom": null,
       "display": null,
       "flex": null,
       "flex_flow": null,
       "grid_area": null,
       "grid_auto_columns": null,
       "grid_auto_flow": null,
       "grid_auto_rows": null,
       "grid_column": null,
       "grid_gap": null,
       "grid_row": null,
       "grid_template_areas": null,
       "grid_template_columns": null,
       "grid_template_rows": null,
       "height": null,
       "justify_content": null,
       "justify_items": null,
       "left": null,
       "margin": null,
       "max_height": null,
       "max_width": null,
       "min_height": null,
       "min_width": null,
       "object_fit": null,
       "object_position": null,
       "order": null,
       "overflow": null,
       "padding": null,
       "right": null,
       "top": null,
       "visibility": null,
       "width": null
      }
     },
     "4be6e21eda4e4db98f7ea21821f3f263": {
      "model_module": "@jupyter-widgets/controls",
      "model_module_version": "2.0.0",
      "model_name": "ProgressStyleModel",
      "state": {
       "_model_module": "@jupyter-widgets/controls",
       "_model_module_version": "2.0.0",
       "_model_name": "ProgressStyleModel",
       "_view_count": null,
       "_view_module": "@jupyter-widgets/base",
       "_view_module_version": "2.0.0",
       "_view_name": "StyleView",
       "bar_color": null,
       "description_width": ""
      }
     },
     "56f5bf07694d45b29175359e9dc7607b": {
      "model_module": "@jupyter-widgets/controls",
      "model_module_version": "2.0.0",
      "model_name": "HTMLModel",
      "state": {
       "_dom_classes": [],
       "_model_module": "@jupyter-widgets/controls",
       "_model_module_version": "2.0.0",
       "_model_name": "HTMLModel",
       "_view_count": null,
       "_view_module": "@jupyter-widgets/controls",
       "_view_module_version": "2.0.0",
       "_view_name": "HTMLView",
       "description": "",
       "description_allow_html": false,
       "layout": "IPY_MODEL_f5b12c54de9741359ea24b2d1f8f4cf9",
       "placeholder": "​",
       "style": "IPY_MODEL_dab1aeee8541425aa49278e9ce50183b",
       "tabbable": null,
       "tooltip": null,
       "value": "config.json: 100%"
      }
     },
     "5a5ef07a1f3641b990650683910857d0": {
      "model_module": "@jupyter-widgets/controls",
      "model_module_version": "2.0.0",
      "model_name": "HTMLModel",
      "state": {
       "_dom_classes": [],
       "_model_module": "@jupyter-widgets/controls",
       "_model_module_version": "2.0.0",
       "_model_name": "HTMLModel",
       "_view_count": null,
       "_view_module": "@jupyter-widgets/controls",
       "_view_module_version": "2.0.0",
       "_view_name": "HTMLView",
       "description": "",
       "description_allow_html": false,
       "layout": "IPY_MODEL_fe793679d5ab474392a6daaf0dd580dc",
       "placeholder": "​",
       "style": "IPY_MODEL_9024a4b1acf042488d4e2d4bd4a584ad",
       "tabbable": null,
       "tooltip": null,
       "value": " 466k/466k [00:00&lt;00:00, 4.82MB/s]"
      }
     },
     "5e4982b6a4514264bbd5b9c71042ccb1": {
      "model_module": "@jupyter-widgets/controls",
      "model_module_version": "2.0.0",
      "model_name": "ProgressStyleModel",
      "state": {
       "_model_module": "@jupyter-widgets/controls",
       "_model_module_version": "2.0.0",
       "_model_name": "ProgressStyleModel",
       "_view_count": null,
       "_view_module": "@jupyter-widgets/base",
       "_view_module_version": "2.0.0",
       "_view_name": "StyleView",
       "bar_color": null,
       "description_width": ""
      }
     },
     "63988de91314425d84b8c4f0331f6ebe": {
      "model_module": "@jupyter-widgets/controls",
      "model_module_version": "2.0.0",
      "model_name": "HTMLModel",
      "state": {
       "_dom_classes": [],
       "_model_module": "@jupyter-widgets/controls",
       "_model_module_version": "2.0.0",
       "_model_name": "HTMLModel",
       "_view_count": null,
       "_view_module": "@jupyter-widgets/controls",
       "_view_module_version": "2.0.0",
       "_view_name": "HTMLView",
       "description": "",
       "description_allow_html": false,
       "layout": "IPY_MODEL_128e67da7ee345a0b19bdee60fd24e40",
       "placeholder": "​",
       "style": "IPY_MODEL_962f5c44901e468ea81e44da8a5b7adb",
       "tabbable": null,
       "tooltip": null,
       "value": " 232k/232k [00:00&lt;00:00, 6.79MB/s]"
      }
     },
     "652296b48f984ae3adc531aebbad3177": {
      "model_module": "@jupyter-widgets/controls",
      "model_module_version": "2.0.0",
      "model_name": "HBoxModel",
      "state": {
       "_dom_classes": [],
       "_model_module": "@jupyter-widgets/controls",
       "_model_module_version": "2.0.0",
       "_model_name": "HBoxModel",
       "_view_count": null,
       "_view_module": "@jupyter-widgets/controls",
       "_view_module_version": "2.0.0",
       "_view_name": "HBoxView",
       "box_style": "",
       "children": [
        "IPY_MODEL_10c41d1d133c4b499ee6754b14835947",
        "IPY_MODEL_0bddf1d3ee594763b5ed0322fd011017",
        "IPY_MODEL_729ab60d9c5542f88019618bc52dffe6"
       ],
       "layout": "IPY_MODEL_ef8f63c5d7234020a9d489c0456dc7c4",
       "tabbable": null,
       "tooltip": null
      }
     },
     "66c2743a62324b5cae3501f9c4eaf212": {
      "model_module": "@jupyter-widgets/base",
      "model_module_version": "2.0.0",
      "model_name": "LayoutModel",
      "state": {
       "_model_module": "@jupyter-widgets/base",
       "_model_module_version": "2.0.0",
       "_model_name": "LayoutModel",
       "_view_count": null,
       "_view_module": "@jupyter-widgets/base",
       "_view_module_version": "2.0.0",
       "_view_name": "LayoutView",
       "align_content": null,
       "align_items": null,
       "align_self": null,
       "border_bottom": null,
       "border_left": null,
       "border_right": null,
       "border_top": null,
       "bottom": null,
       "display": null,
       "flex": null,
       "flex_flow": null,
       "grid_area": null,
       "grid_auto_columns": null,
       "grid_auto_flow": null,
       "grid_auto_rows": null,
       "grid_column": null,
       "grid_gap": null,
       "grid_row": null,
       "grid_template_areas": null,
       "grid_template_columns": null,
       "grid_template_rows": null,
       "height": null,
       "justify_content": null,
       "justify_items": null,
       "left": null,
       "margin": null,
       "max_height": null,
       "max_width": null,
       "min_height": null,
       "min_width": null,
       "object_fit": null,
       "object_position": null,
       "order": null,
       "overflow": null,
       "padding": null,
       "right": null,
       "top": null,
       "visibility": null,
       "width": null
      }
     },
     "66f4ea1cf3de43f18dcf2a50d2ddbee4": {
      "model_module": "@jupyter-widgets/controls",
      "model_module_version": "2.0.0",
      "model_name": "HTMLStyleModel",
      "state": {
       "_model_module": "@jupyter-widgets/controls",
       "_model_module_version": "2.0.0",
       "_model_name": "HTMLStyleModel",
       "_view_count": null,
       "_view_module": "@jupyter-widgets/base",
       "_view_module_version": "2.0.0",
       "_view_name": "StyleView",
       "background": null,
       "description_width": "",
       "font_size": null,
       "text_color": null
      }
     },
     "67e11c7b43fa46538175f8fd6fad1034": {
      "model_module": "@jupyter-widgets/controls",
      "model_module_version": "2.0.0",
      "model_name": "HTMLModel",
      "state": {
       "_dom_classes": [],
       "_model_module": "@jupyter-widgets/controls",
       "_model_module_version": "2.0.0",
       "_model_name": "HTMLModel",
       "_view_count": null,
       "_view_module": "@jupyter-widgets/controls",
       "_view_module_version": "2.0.0",
       "_view_name": "HTMLView",
       "description": "",
       "description_allow_html": false,
       "layout": "IPY_MODEL_732db4d120fc450590019d9963238292",
       "placeholder": "​",
       "style": "IPY_MODEL_bb483181ad59454eb01eb2468006252b",
       "tabbable": null,
       "tooltip": null,
       "value": "model.safetensors: 100%"
      }
     },
     "6961706cb6694563a82c3a229629e71d": {
      "model_module": "@jupyter-widgets/controls",
      "model_module_version": "2.0.0",
      "model_name": "HTMLModel",
      "state": {
       "_dom_classes": [],
       "_model_module": "@jupyter-widgets/controls",
       "_model_module_version": "2.0.0",
       "_model_name": "HTMLModel",
       "_view_count": null,
       "_view_module": "@jupyter-widgets/controls",
       "_view_module_version": "2.0.0",
       "_view_name": "HTMLView",
       "description": "",
       "description_allow_html": false,
       "layout": "IPY_MODEL_1d934acc72c04a57833c50df41a6221c",
       "placeholder": "​",
       "style": "IPY_MODEL_29ba6c29124b4c02933f99c0278b0020",
       "tabbable": null,
       "tooltip": null,
       "value": " 570/570 [00:00&lt;00:00, 72.1kB/s]"
      }
     },
     "6a87d719f8924fcd8ef91dd922a7f619": {
      "model_module": "@jupyter-widgets/controls",
      "model_module_version": "2.0.0",
      "model_name": "HTMLModel",
      "state": {
       "_dom_classes": [],
       "_model_module": "@jupyter-widgets/controls",
       "_model_module_version": "2.0.0",
       "_model_name": "HTMLModel",
       "_view_count": null,
       "_view_module": "@jupyter-widgets/controls",
       "_view_module_version": "2.0.0",
       "_view_name": "HTMLView",
       "description": "",
       "description_allow_html": false,
       "layout": "IPY_MODEL_739fc506ea34411ca87af2a4d854eed7",
       "placeholder": "​",
       "style": "IPY_MODEL_66f4ea1cf3de43f18dcf2a50d2ddbee4",
       "tabbable": null,
       "tooltip": null,
       "value": "tokenizer.json: 100%"
      }
     },
     "6c14fddaa4bd446db6f8397a10f5d6fc": {
      "model_module": "@jupyter-widgets/controls",
      "model_module_version": "2.0.0",
      "model_name": "HBoxModel",
      "state": {
       "_dom_classes": [],
       "_model_module": "@jupyter-widgets/controls",
       "_model_module_version": "2.0.0",
       "_model_name": "HBoxModel",
       "_view_count": null,
       "_view_module": "@jupyter-widgets/controls",
       "_view_module_version": "2.0.0",
       "_view_name": "HBoxView",
       "box_style": "",
       "children": [
        "IPY_MODEL_56f5bf07694d45b29175359e9dc7607b",
        "IPY_MODEL_0ec6ec16533745d98361e0d0d08be144",
        "IPY_MODEL_6961706cb6694563a82c3a229629e71d"
       ],
       "layout": "IPY_MODEL_f226724de65140839498c887ad703681",
       "tabbable": null,
       "tooltip": null
      }
     },
     "72649c3c8be642e9ab03a58531d33d67": {
      "model_module": "@jupyter-widgets/base",
      "model_module_version": "2.0.0",
      "model_name": "LayoutModel",
      "state": {
       "_model_module": "@jupyter-widgets/base",
       "_model_module_version": "2.0.0",
       "_model_name": "LayoutModel",
       "_view_count": null,
       "_view_module": "@jupyter-widgets/base",
       "_view_module_version": "2.0.0",
       "_view_name": "LayoutView",
       "align_content": null,
       "align_items": null,
       "align_self": null,
       "border_bottom": null,
       "border_left": null,
       "border_right": null,
       "border_top": null,
       "bottom": null,
       "display": null,
       "flex": null,
       "flex_flow": null,
       "grid_area": null,
       "grid_auto_columns": null,
       "grid_auto_flow": null,
       "grid_auto_rows": null,
       "grid_column": null,
       "grid_gap": null,
       "grid_row": null,
       "grid_template_areas": null,
       "grid_template_columns": null,
       "grid_template_rows": null,
       "height": null,
       "justify_content": null,
       "justify_items": null,
       "left": null,
       "margin": null,
       "max_height": null,
       "max_width": null,
       "min_height": null,
       "min_width": null,
       "object_fit": null,
       "object_position": null,
       "order": null,
       "overflow": null,
       "padding": null,
       "right": null,
       "top": null,
       "visibility": null,
       "width": null
      }
     },
     "729ab60d9c5542f88019618bc52dffe6": {
      "model_module": "@jupyter-widgets/controls",
      "model_module_version": "2.0.0",
      "model_name": "HTMLModel",
      "state": {
       "_dom_classes": [],
       "_model_module": "@jupyter-widgets/controls",
       "_model_module_version": "2.0.0",
       "_model_name": "HTMLModel",
       "_view_count": null,
       "_view_module": "@jupyter-widgets/controls",
       "_view_module_version": "2.0.0",
       "_view_name": "HTMLView",
       "description": "",
       "description_allow_html": false,
       "layout": "IPY_MODEL_72649c3c8be642e9ab03a58531d33d67",
       "placeholder": "​",
       "style": "IPY_MODEL_2b89eaf60fb94a9b962adf7097542bbd",
       "tabbable": null,
       "tooltip": null,
       "value": " 48.0/48.0 [00:00&lt;00:00, 5.38kB/s]"
      }
     },
     "732db4d120fc450590019d9963238292": {
      "model_module": "@jupyter-widgets/base",
      "model_module_version": "2.0.0",
      "model_name": "LayoutModel",
      "state": {
       "_model_module": "@jupyter-widgets/base",
       "_model_module_version": "2.0.0",
       "_model_name": "LayoutModel",
       "_view_count": null,
       "_view_module": "@jupyter-widgets/base",
       "_view_module_version": "2.0.0",
       "_view_name": "LayoutView",
       "align_content": null,
       "align_items": null,
       "align_self": null,
       "border_bottom": null,
       "border_left": null,
       "border_right": null,
       "border_top": null,
       "bottom": null,
       "display": null,
       "flex": null,
       "flex_flow": null,
       "grid_area": null,
       "grid_auto_columns": null,
       "grid_auto_flow": null,
       "grid_auto_rows": null,
       "grid_column": null,
       "grid_gap": null,
       "grid_row": null,
       "grid_template_areas": null,
       "grid_template_columns": null,
       "grid_template_rows": null,
       "height": null,
       "justify_content": null,
       "justify_items": null,
       "left": null,
       "margin": null,
       "max_height": null,
       "max_width": null,
       "min_height": null,
       "min_width": null,
       "object_fit": null,
       "object_position": null,
       "order": null,
       "overflow": null,
       "padding": null,
       "right": null,
       "top": null,
       "visibility": null,
       "width": null
      }
     },
     "739fc506ea34411ca87af2a4d854eed7": {
      "model_module": "@jupyter-widgets/base",
      "model_module_version": "2.0.0",
      "model_name": "LayoutModel",
      "state": {
       "_model_module": "@jupyter-widgets/base",
       "_model_module_version": "2.0.0",
       "_model_name": "LayoutModel",
       "_view_count": null,
       "_view_module": "@jupyter-widgets/base",
       "_view_module_version": "2.0.0",
       "_view_name": "LayoutView",
       "align_content": null,
       "align_items": null,
       "align_self": null,
       "border_bottom": null,
       "border_left": null,
       "border_right": null,
       "border_top": null,
       "bottom": null,
       "display": null,
       "flex": null,
       "flex_flow": null,
       "grid_area": null,
       "grid_auto_columns": null,
       "grid_auto_flow": null,
       "grid_auto_rows": null,
       "grid_column": null,
       "grid_gap": null,
       "grid_row": null,
       "grid_template_areas": null,
       "grid_template_columns": null,
       "grid_template_rows": null,
       "height": null,
       "justify_content": null,
       "justify_items": null,
       "left": null,
       "margin": null,
       "max_height": null,
       "max_width": null,
       "min_height": null,
       "min_width": null,
       "object_fit": null,
       "object_position": null,
       "order": null,
       "overflow": null,
       "padding": null,
       "right": null,
       "top": null,
       "visibility": null,
       "width": null
      }
     },
     "7e9a2d77638847daa628605d8c4ec8d5": {
      "model_module": "@jupyter-widgets/base",
      "model_module_version": "2.0.0",
      "model_name": "LayoutModel",
      "state": {
       "_model_module": "@jupyter-widgets/base",
       "_model_module_version": "2.0.0",
       "_model_name": "LayoutModel",
       "_view_count": null,
       "_view_module": "@jupyter-widgets/base",
       "_view_module_version": "2.0.0",
       "_view_name": "LayoutView",
       "align_content": null,
       "align_items": null,
       "align_self": null,
       "border_bottom": null,
       "border_left": null,
       "border_right": null,
       "border_top": null,
       "bottom": null,
       "display": null,
       "flex": null,
       "flex_flow": null,
       "grid_area": null,
       "grid_auto_columns": null,
       "grid_auto_flow": null,
       "grid_auto_rows": null,
       "grid_column": null,
       "grid_gap": null,
       "grid_row": null,
       "grid_template_areas": null,
       "grid_template_columns": null,
       "grid_template_rows": null,
       "height": null,
       "justify_content": null,
       "justify_items": null,
       "left": null,
       "margin": null,
       "max_height": null,
       "max_width": null,
       "min_height": null,
       "min_width": null,
       "object_fit": null,
       "object_position": null,
       "order": null,
       "overflow": null,
       "padding": null,
       "right": null,
       "top": null,
       "visibility": null,
       "width": null
      }
     },
     "80323a479f6044288e58b84d5ff025d4": {
      "model_module": "@jupyter-widgets/controls",
      "model_module_version": "2.0.0",
      "model_name": "HBoxModel",
      "state": {
       "_dom_classes": [],
       "_model_module": "@jupyter-widgets/controls",
       "_model_module_version": "2.0.0",
       "_model_name": "HBoxModel",
       "_view_count": null,
       "_view_module": "@jupyter-widgets/controls",
       "_view_module_version": "2.0.0",
       "_view_name": "HBoxView",
       "box_style": "",
       "children": [
        "IPY_MODEL_67e11c7b43fa46538175f8fd6fad1034",
        "IPY_MODEL_f890c71d3a6243a3ac3448e2007a3047",
        "IPY_MODEL_8cf0cdb117074fa3aa2f45f787998514"
       ],
       "layout": "IPY_MODEL_adef8978491f43adaf5df6f363ec52c7",
       "tabbable": null,
       "tooltip": null
      }
     },
     "8cf0cdb117074fa3aa2f45f787998514": {
      "model_module": "@jupyter-widgets/controls",
      "model_module_version": "2.0.0",
      "model_name": "HTMLModel",
      "state": {
       "_dom_classes": [],
       "_model_module": "@jupyter-widgets/controls",
       "_model_module_version": "2.0.0",
       "_model_name": "HTMLModel",
       "_view_count": null,
       "_view_module": "@jupyter-widgets/controls",
       "_view_module_version": "2.0.0",
       "_view_name": "HTMLView",
       "description": "",
       "description_allow_html": false,
       "layout": "IPY_MODEL_99867440b1b9479daf5336469a373836",
       "placeholder": "​",
       "style": "IPY_MODEL_fc9ea2e89f1b40b7b3447ac5e7c6841a",
       "tabbable": null,
       "tooltip": null,
       "value": " 440M/440M [00:01&lt;00:00, 385MB/s]"
      }
     },
     "9024a4b1acf042488d4e2d4bd4a584ad": {
      "model_module": "@jupyter-widgets/controls",
      "model_module_version": "2.0.0",
      "model_name": "HTMLStyleModel",
      "state": {
       "_model_module": "@jupyter-widgets/controls",
       "_model_module_version": "2.0.0",
       "_model_name": "HTMLStyleModel",
       "_view_count": null,
       "_view_module": "@jupyter-widgets/base",
       "_view_module_version": "2.0.0",
       "_view_name": "StyleView",
       "background": null,
       "description_width": "",
       "font_size": null,
       "text_color": null
      }
     },
     "907be33150fa42deb965f64902e0be5e": {
      "model_module": "@jupyter-widgets/base",
      "model_module_version": "2.0.0",
      "model_name": "LayoutModel",
      "state": {
       "_model_module": "@jupyter-widgets/base",
       "_model_module_version": "2.0.0",
       "_model_name": "LayoutModel",
       "_view_count": null,
       "_view_module": "@jupyter-widgets/base",
       "_view_module_version": "2.0.0",
       "_view_name": "LayoutView",
       "align_content": null,
       "align_items": null,
       "align_self": null,
       "border_bottom": null,
       "border_left": null,
       "border_right": null,
       "border_top": null,
       "bottom": null,
       "display": null,
       "flex": null,
       "flex_flow": null,
       "grid_area": null,
       "grid_auto_columns": null,
       "grid_auto_flow": null,
       "grid_auto_rows": null,
       "grid_column": null,
       "grid_gap": null,
       "grid_row": null,
       "grid_template_areas": null,
       "grid_template_columns": null,
       "grid_template_rows": null,
       "height": null,
       "justify_content": null,
       "justify_items": null,
       "left": null,
       "margin": null,
       "max_height": null,
       "max_width": null,
       "min_height": null,
       "min_width": null,
       "object_fit": null,
       "object_position": null,
       "order": null,
       "overflow": null,
       "padding": null,
       "right": null,
       "top": null,
       "visibility": null,
       "width": null
      }
     },
     "962f5c44901e468ea81e44da8a5b7adb": {
      "model_module": "@jupyter-widgets/controls",
      "model_module_version": "2.0.0",
      "model_name": "HTMLStyleModel",
      "state": {
       "_model_module": "@jupyter-widgets/controls",
       "_model_module_version": "2.0.0",
       "_model_name": "HTMLStyleModel",
       "_view_count": null,
       "_view_module": "@jupyter-widgets/base",
       "_view_module_version": "2.0.0",
       "_view_name": "StyleView",
       "background": null,
       "description_width": "",
       "font_size": null,
       "text_color": null
      }
     },
     "99867440b1b9479daf5336469a373836": {
      "model_module": "@jupyter-widgets/base",
      "model_module_version": "2.0.0",
      "model_name": "LayoutModel",
      "state": {
       "_model_module": "@jupyter-widgets/base",
       "_model_module_version": "2.0.0",
       "_model_name": "LayoutModel",
       "_view_count": null,
       "_view_module": "@jupyter-widgets/base",
       "_view_module_version": "2.0.0",
       "_view_name": "LayoutView",
       "align_content": null,
       "align_items": null,
       "align_self": null,
       "border_bottom": null,
       "border_left": null,
       "border_right": null,
       "border_top": null,
       "bottom": null,
       "display": null,
       "flex": null,
       "flex_flow": null,
       "grid_area": null,
       "grid_auto_columns": null,
       "grid_auto_flow": null,
       "grid_auto_rows": null,
       "grid_column": null,
       "grid_gap": null,
       "grid_row": null,
       "grid_template_areas": null,
       "grid_template_columns": null,
       "grid_template_rows": null,
       "height": null,
       "justify_content": null,
       "justify_items": null,
       "left": null,
       "margin": null,
       "max_height": null,
       "max_width": null,
       "min_height": null,
       "min_width": null,
       "object_fit": null,
       "object_position": null,
       "order": null,
       "overflow": null,
       "padding": null,
       "right": null,
       "top": null,
       "visibility": null,
       "width": null
      }
     },
     "9c4dcff1b0724e2b9f241b0fdba54975": {
      "model_module": "@jupyter-widgets/base",
      "model_module_version": "2.0.0",
      "model_name": "LayoutModel",
      "state": {
       "_model_module": "@jupyter-widgets/base",
       "_model_module_version": "2.0.0",
       "_model_name": "LayoutModel",
       "_view_count": null,
       "_view_module": "@jupyter-widgets/base",
       "_view_module_version": "2.0.0",
       "_view_name": "LayoutView",
       "align_content": null,
       "align_items": null,
       "align_self": null,
       "border_bottom": null,
       "border_left": null,
       "border_right": null,
       "border_top": null,
       "bottom": null,
       "display": null,
       "flex": null,
       "flex_flow": null,
       "grid_area": null,
       "grid_auto_columns": null,
       "grid_auto_flow": null,
       "grid_auto_rows": null,
       "grid_column": null,
       "grid_gap": null,
       "grid_row": null,
       "grid_template_areas": null,
       "grid_template_columns": null,
       "grid_template_rows": null,
       "height": null,
       "justify_content": null,
       "justify_items": null,
       "left": null,
       "margin": null,
       "max_height": null,
       "max_width": null,
       "min_height": null,
       "min_width": null,
       "object_fit": null,
       "object_position": null,
       "order": null,
       "overflow": null,
       "padding": null,
       "right": null,
       "top": null,
       "visibility": null,
       "width": null
      }
     },
     "adef8978491f43adaf5df6f363ec52c7": {
      "model_module": "@jupyter-widgets/base",
      "model_module_version": "2.0.0",
      "model_name": "LayoutModel",
      "state": {
       "_model_module": "@jupyter-widgets/base",
       "_model_module_version": "2.0.0",
       "_model_name": "LayoutModel",
       "_view_count": null,
       "_view_module": "@jupyter-widgets/base",
       "_view_module_version": "2.0.0",
       "_view_name": "LayoutView",
       "align_content": null,
       "align_items": null,
       "align_self": null,
       "border_bottom": null,
       "border_left": null,
       "border_right": null,
       "border_top": null,
       "bottom": null,
       "display": null,
       "flex": null,
       "flex_flow": null,
       "grid_area": null,
       "grid_auto_columns": null,
       "grid_auto_flow": null,
       "grid_auto_rows": null,
       "grid_column": null,
       "grid_gap": null,
       "grid_row": null,
       "grid_template_areas": null,
       "grid_template_columns": null,
       "grid_template_rows": null,
       "height": null,
       "justify_content": null,
       "justify_items": null,
       "left": null,
       "margin": null,
       "max_height": null,
       "max_width": null,
       "min_height": null,
       "min_width": null,
       "object_fit": null,
       "object_position": null,
       "order": null,
       "overflow": null,
       "padding": null,
       "right": null,
       "top": null,
       "visibility": null,
       "width": null
      }
     },
     "b2e11bee3ba94175b0767180d6914770": {
      "model_module": "@jupyter-widgets/controls",
      "model_module_version": "2.0.0",
      "model_name": "HBoxModel",
      "state": {
       "_dom_classes": [],
       "_model_module": "@jupyter-widgets/controls",
       "_model_module_version": "2.0.0",
       "_model_name": "HBoxModel",
       "_view_count": null,
       "_view_module": "@jupyter-widgets/controls",
       "_view_module_version": "2.0.0",
       "_view_name": "HBoxView",
       "box_style": "",
       "children": [
        "IPY_MODEL_d96e6bef3c5443e0b4ef0fb05b024126",
        "IPY_MODEL_19e2e939ea234176ad9776f5a8f18ec3",
        "IPY_MODEL_63988de91314425d84b8c4f0331f6ebe"
       ],
       "layout": "IPY_MODEL_3aaa5b9847934e64865e71ec263e35cc",
       "tabbable": null,
       "tooltip": null
      }
     },
     "bb483181ad59454eb01eb2468006252b": {
      "model_module": "@jupyter-widgets/controls",
      "model_module_version": "2.0.0",
      "model_name": "HTMLStyleModel",
      "state": {
       "_model_module": "@jupyter-widgets/controls",
       "_model_module_version": "2.0.0",
       "_model_name": "HTMLStyleModel",
       "_view_count": null,
       "_view_module": "@jupyter-widgets/base",
       "_view_module_version": "2.0.0",
       "_view_name": "StyleView",
       "background": null,
       "description_width": "",
       "font_size": null,
       "text_color": null
      }
     },
     "c7078c103f2f41418ca1f76f64b5332c": {
      "model_module": "@jupyter-widgets/base",
      "model_module_version": "2.0.0",
      "model_name": "LayoutModel",
      "state": {
       "_model_module": "@jupyter-widgets/base",
       "_model_module_version": "2.0.0",
       "_model_name": "LayoutModel",
       "_view_count": null,
       "_view_module": "@jupyter-widgets/base",
       "_view_module_version": "2.0.0",
       "_view_name": "LayoutView",
       "align_content": null,
       "align_items": null,
       "align_self": null,
       "border_bottom": null,
       "border_left": null,
       "border_right": null,
       "border_top": null,
       "bottom": null,
       "display": null,
       "flex": null,
       "flex_flow": null,
       "grid_area": null,
       "grid_auto_columns": null,
       "grid_auto_flow": null,
       "grid_auto_rows": null,
       "grid_column": null,
       "grid_gap": null,
       "grid_row": null,
       "grid_template_areas": null,
       "grid_template_columns": null,
       "grid_template_rows": null,
       "height": null,
       "justify_content": null,
       "justify_items": null,
       "left": null,
       "margin": null,
       "max_height": null,
       "max_width": null,
       "min_height": null,
       "min_width": null,
       "object_fit": null,
       "object_position": null,
       "order": null,
       "overflow": null,
       "padding": null,
       "right": null,
       "top": null,
       "visibility": null,
       "width": null
      }
     },
     "d96e6bef3c5443e0b4ef0fb05b024126": {
      "model_module": "@jupyter-widgets/controls",
      "model_module_version": "2.0.0",
      "model_name": "HTMLModel",
      "state": {
       "_dom_classes": [],
       "_model_module": "@jupyter-widgets/controls",
       "_model_module_version": "2.0.0",
       "_model_name": "HTMLModel",
       "_view_count": null,
       "_view_module": "@jupyter-widgets/controls",
       "_view_module_version": "2.0.0",
       "_view_name": "HTMLView",
       "description": "",
       "description_allow_html": false,
       "layout": "IPY_MODEL_4790b0518afa4a939a1cef4d99f98c2f",
       "placeholder": "​",
       "style": "IPY_MODEL_dbac9e0393b740a393912f96d78117ac",
       "tabbable": null,
       "tooltip": null,
       "value": "vocab.txt: 100%"
      }
     },
     "dab1aeee8541425aa49278e9ce50183b": {
      "model_module": "@jupyter-widgets/controls",
      "model_module_version": "2.0.0",
      "model_name": "HTMLStyleModel",
      "state": {
       "_model_module": "@jupyter-widgets/controls",
       "_model_module_version": "2.0.0",
       "_model_name": "HTMLStyleModel",
       "_view_count": null,
       "_view_module": "@jupyter-widgets/base",
       "_view_module_version": "2.0.0",
       "_view_name": "StyleView",
       "background": null,
       "description_width": "",
       "font_size": null,
       "text_color": null
      }
     },
     "dbac9e0393b740a393912f96d78117ac": {
      "model_module": "@jupyter-widgets/controls",
      "model_module_version": "2.0.0",
      "model_name": "HTMLStyleModel",
      "state": {
       "_model_module": "@jupyter-widgets/controls",
       "_model_module_version": "2.0.0",
       "_model_name": "HTMLStyleModel",
       "_view_count": null,
       "_view_module": "@jupyter-widgets/base",
       "_view_module_version": "2.0.0",
       "_view_name": "StyleView",
       "background": null,
       "description_width": "",
       "font_size": null,
       "text_color": null
      }
     },
     "e13668bcecfe43608bbbb13792c0eba1": {
      "model_module": "@jupyter-widgets/controls",
      "model_module_version": "2.0.0",
      "model_name": "ProgressStyleModel",
      "state": {
       "_model_module": "@jupyter-widgets/controls",
       "_model_module_version": "2.0.0",
       "_model_name": "ProgressStyleModel",
       "_view_count": null,
       "_view_module": "@jupyter-widgets/base",
       "_view_module_version": "2.0.0",
       "_view_name": "StyleView",
       "bar_color": null,
       "description_width": ""
      }
     },
     "e90969209f3d4433aae883519d23960f": {
      "model_module": "@jupyter-widgets/controls",
      "model_module_version": "2.0.0",
      "model_name": "ProgressStyleModel",
      "state": {
       "_model_module": "@jupyter-widgets/controls",
       "_model_module_version": "2.0.0",
       "_model_name": "ProgressStyleModel",
       "_view_count": null,
       "_view_module": "@jupyter-widgets/base",
       "_view_module_version": "2.0.0",
       "_view_name": "StyleView",
       "bar_color": null,
       "description_width": ""
      }
     },
     "ef8f63c5d7234020a9d489c0456dc7c4": {
      "model_module": "@jupyter-widgets/base",
      "model_module_version": "2.0.0",
      "model_name": "LayoutModel",
      "state": {
       "_model_module": "@jupyter-widgets/base",
       "_model_module_version": "2.0.0",
       "_model_name": "LayoutModel",
       "_view_count": null,
       "_view_module": "@jupyter-widgets/base",
       "_view_module_version": "2.0.0",
       "_view_name": "LayoutView",
       "align_content": null,
       "align_items": null,
       "align_self": null,
       "border_bottom": null,
       "border_left": null,
       "border_right": null,
       "border_top": null,
       "bottom": null,
       "display": null,
       "flex": null,
       "flex_flow": null,
       "grid_area": null,
       "grid_auto_columns": null,
       "grid_auto_flow": null,
       "grid_auto_rows": null,
       "grid_column": null,
       "grid_gap": null,
       "grid_row": null,
       "grid_template_areas": null,
       "grid_template_columns": null,
       "grid_template_rows": null,
       "height": null,
       "justify_content": null,
       "justify_items": null,
       "left": null,
       "margin": null,
       "max_height": null,
       "max_width": null,
       "min_height": null,
       "min_width": null,
       "object_fit": null,
       "object_position": null,
       "order": null,
       "overflow": null,
       "padding": null,
       "right": null,
       "top": null,
       "visibility": null,
       "width": null
      }
     },
     "f226724de65140839498c887ad703681": {
      "model_module": "@jupyter-widgets/base",
      "model_module_version": "2.0.0",
      "model_name": "LayoutModel",
      "state": {
       "_model_module": "@jupyter-widgets/base",
       "_model_module_version": "2.0.0",
       "_model_name": "LayoutModel",
       "_view_count": null,
       "_view_module": "@jupyter-widgets/base",
       "_view_module_version": "2.0.0",
       "_view_name": "LayoutView",
       "align_content": null,
       "align_items": null,
       "align_self": null,
       "border_bottom": null,
       "border_left": null,
       "border_right": null,
       "border_top": null,
       "bottom": null,
       "display": null,
       "flex": null,
       "flex_flow": null,
       "grid_area": null,
       "grid_auto_columns": null,
       "grid_auto_flow": null,
       "grid_auto_rows": null,
       "grid_column": null,
       "grid_gap": null,
       "grid_row": null,
       "grid_template_areas": null,
       "grid_template_columns": null,
       "grid_template_rows": null,
       "height": null,
       "justify_content": null,
       "justify_items": null,
       "left": null,
       "margin": null,
       "max_height": null,
       "max_width": null,
       "min_height": null,
       "min_width": null,
       "object_fit": null,
       "object_position": null,
       "order": null,
       "overflow": null,
       "padding": null,
       "right": null,
       "top": null,
       "visibility": null,
       "width": null
      }
     },
     "f5b12c54de9741359ea24b2d1f8f4cf9": {
      "model_module": "@jupyter-widgets/base",
      "model_module_version": "2.0.0",
      "model_name": "LayoutModel",
      "state": {
       "_model_module": "@jupyter-widgets/base",
       "_model_module_version": "2.0.0",
       "_model_name": "LayoutModel",
       "_view_count": null,
       "_view_module": "@jupyter-widgets/base",
       "_view_module_version": "2.0.0",
       "_view_name": "LayoutView",
       "align_content": null,
       "align_items": null,
       "align_self": null,
       "border_bottom": null,
       "border_left": null,
       "border_right": null,
       "border_top": null,
       "bottom": null,
       "display": null,
       "flex": null,
       "flex_flow": null,
       "grid_area": null,
       "grid_auto_columns": null,
       "grid_auto_flow": null,
       "grid_auto_rows": null,
       "grid_column": null,
       "grid_gap": null,
       "grid_row": null,
       "grid_template_areas": null,
       "grid_template_columns": null,
       "grid_template_rows": null,
       "height": null,
       "justify_content": null,
       "justify_items": null,
       "left": null,
       "margin": null,
       "max_height": null,
       "max_width": null,
       "min_height": null,
       "min_width": null,
       "object_fit": null,
       "object_position": null,
       "order": null,
       "overflow": null,
       "padding": null,
       "right": null,
       "top": null,
       "visibility": null,
       "width": null
      }
     },
     "f85ee868ff9345cfb08f5521aa4643d4": {
      "model_module": "@jupyter-widgets/controls",
      "model_module_version": "2.0.0",
      "model_name": "HTMLStyleModel",
      "state": {
       "_model_module": "@jupyter-widgets/controls",
       "_model_module_version": "2.0.0",
       "_model_name": "HTMLStyleModel",
       "_view_count": null,
       "_view_module": "@jupyter-widgets/base",
       "_view_module_version": "2.0.0",
       "_view_name": "StyleView",
       "background": null,
       "description_width": "",
       "font_size": null,
       "text_color": null
      }
     },
     "f890c71d3a6243a3ac3448e2007a3047": {
      "model_module": "@jupyter-widgets/controls",
      "model_module_version": "2.0.0",
      "model_name": "FloatProgressModel",
      "state": {
       "_dom_classes": [],
       "_model_module": "@jupyter-widgets/controls",
       "_model_module_version": "2.0.0",
       "_model_name": "FloatProgressModel",
       "_view_count": null,
       "_view_module": "@jupyter-widgets/controls",
       "_view_module_version": "2.0.0",
       "_view_name": "ProgressView",
       "bar_style": "success",
       "description": "",
       "description_allow_html": false,
       "layout": "IPY_MODEL_c7078c103f2f41418ca1f76f64b5332c",
       "max": 440449768.0,
       "min": 0.0,
       "orientation": "horizontal",
       "style": "IPY_MODEL_e13668bcecfe43608bbbb13792c0eba1",
       "tabbable": null,
       "tooltip": null,
       "value": 440449768.0
      }
     },
     "fc9ea2e89f1b40b7b3447ac5e7c6841a": {
      "model_module": "@jupyter-widgets/controls",
      "model_module_version": "2.0.0",
      "model_name": "HTMLStyleModel",
      "state": {
       "_model_module": "@jupyter-widgets/controls",
       "_model_module_version": "2.0.0",
       "_model_name": "HTMLStyleModel",
       "_view_count": null,
       "_view_module": "@jupyter-widgets/base",
       "_view_module_version": "2.0.0",
       "_view_name": "StyleView",
       "background": null,
       "description_width": "",
       "font_size": null,
       "text_color": null
      }
     },
     "fe793679d5ab474392a6daaf0dd580dc": {
      "model_module": "@jupyter-widgets/base",
      "model_module_version": "2.0.0",
      "model_name": "LayoutModel",
      "state": {
       "_model_module": "@jupyter-widgets/base",
       "_model_module_version": "2.0.0",
       "_model_name": "LayoutModel",
       "_view_count": null,
       "_view_module": "@jupyter-widgets/base",
       "_view_module_version": "2.0.0",
       "_view_name": "LayoutView",
       "align_content": null,
       "align_items": null,
       "align_self": null,
       "border_bottom": null,
       "border_left": null,
       "border_right": null,
       "border_top": null,
       "bottom": null,
       "display": null,
       "flex": null,
       "flex_flow": null,
       "grid_area": null,
       "grid_auto_columns": null,
       "grid_auto_flow": null,
       "grid_auto_rows": null,
       "grid_column": null,
       "grid_gap": null,
       "grid_row": null,
       "grid_template_areas": null,
       "grid_template_columns": null,
       "grid_template_rows": null,
       "height": null,
       "justify_content": null,
       "justify_items": null,
       "left": null,
       "margin": null,
       "max_height": null,
       "max_width": null,
       "min_height": null,
       "min_width": null,
       "object_fit": null,
       "object_position": null,
       "order": null,
       "overflow": null,
       "padding": null,
       "right": null,
       "top": null,
       "visibility": null,
       "width": null
      }
     }
    },
    "version_major": 2,
    "version_minor": 0
   }
  }
 },
 "nbformat": 4,
 "nbformat_minor": 5
}
