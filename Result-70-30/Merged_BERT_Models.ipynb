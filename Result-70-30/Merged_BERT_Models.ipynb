{
 "cells": [
  {
   "cell_type": "code",
   "execution_count": 1,
   "id": "bfb65fa1",
   "metadata": {},
   "outputs": [],
   "source": [
    "import pandas as pd\n",
    "from sklearn.model_selection import train_test_split\n",
    "from imblearn.under_sampling import RandomUnderSampler\n",
    "\n",
    "# 1. Load dataset\n",
    "df = pd.read_csv(\"ready_fraud_detection_dataset.csv\")\n",
    "\n",
    "# 2. Create numeric label\n",
    "df['label'] = df['fraudulent'].map({'f': 0, 't': 1})\n",
    "\n",
    "# 3. Drop any rows with missing full_text (just in case)\n",
    "df = df.dropna(subset=['full_text'])\n",
    "\n",
    "# 4. Train-test split (70:30)\n",
    "X = df['full_text']\n",
    "y = df['label']\n",
    "X_train, X_test, y_train, y_test = train_test_split(\n",
    "    X, y, test_size=0.3, stratify=y, random_state=42\n",
    ")\n"
   ]
  },
  {
   "cell_type": "code",
   "execution_count": 2,
   "id": "4038ab08",
   "metadata": {},
   "outputs": [
    {
     "name": "stdout",
     "output_type": "stream",
     "text": [
      "🚨 DEBUGGING CHECKS 🚨\n",
      "Total rows in original df: 17880\n",
      "NaNs in full_text: 0\n",
      "Class distribution in full dataset:\n",
      " label\n",
      "0    17014\n",
      "1      866\n",
      "Name: count, dtype: int64\n",
      "Size of X_train: 12516\n",
      "Size of y_train: 12516\n",
      "NaNs in X_train: 0\n",
      "NaNs in y_train: 0\n",
      "Empty string entries in X_train: 0\n"
     ]
    }
   ],
   "source": [
    "# 🔍 Debugging Block\n",
    "\n",
    "print(\"🚨 DEBUGGING CHECKS 🚨\")\n",
    "print(\"Total rows in original df:\", len(df))\n",
    "print(\"NaNs in full_text:\", df['full_text'].isna().sum())\n",
    "print(\"Class distribution in full dataset:\\n\", df['label'].value_counts())\n",
    "print(\"Size of X_train:\", len(X_train))\n",
    "print(\"Size of y_train:\", len(y_train))\n",
    "\n",
    "# Check for NaNs in training data\n",
    "print(\"NaNs in X_train:\", X_train.isna().sum())\n",
    "print(\"NaNs in y_train:\", y_train.isna().sum())\n",
    "\n",
    "# Optional: Check if X_train has any empty strings\n",
    "empty_text_count = (X_train.str.strip() == \"\").sum()\n",
    "print(\"Empty string entries in X_train:\", empty_text_count)\n",
    "\n",
    "# Sanity check: X_train must not be empty\n",
    "assert len(X_train) > 0, \"❌ X_train is EMPTY!\"\n",
    "assert X_train.isna().sum() == 0, \"❌ X_train contains NaNs!\"\n"
   ]
  },
  {
   "cell_type": "code",
   "execution_count": 3,
   "id": "abed56e2",
   "metadata": {},
   "outputs": [],
   "source": [
    "#  5. Convert X_train to DataFrame (required by RandomUnderSampler)\n",
    "X_train_df = pd.DataFrame({'text': X_train.values})\n",
    "\n",
    "# ✅ Check the length before resampling\n",
    "assert len(X_train_df) > 0, \"X_train is empty!\"\n",
    "\n",
    "# 6. Apply Random Undersampling\n",
    "rus = RandomUnderSampler(random_state=42)\n",
    "X_rus, y_rus = rus.fit_resample(X_train_df, y_train)\n",
    "\n",
    "# 7. Manual Oversampling (repeat minority class)\n",
    "df_rus = pd.DataFrame({'text': X_rus['text'], 'label': y_rus})\n",
    "minority = df_rus[df_rus['label'] == 1]\n",
    "majority = df_rus[df_rus['label'] == 0]\n",
    "minority_oversampled = minority.sample(n=len(majority), replace=True, random_state=42)\n",
    "\n",
    "# 8. Combine and shuffle the balanced data\n",
    "df_balanced = pd.concat([majority, minority_oversampled]).sample(frac=1, random_state=42)\n",
    "\n",
    "# Final balanced train data\n",
    "X_train_balanced = df_balanced['text'].tolist()\n",
    "y_train_balanced = df_balanced['label'].tolist()\n"
   ]
  },
  {
   "cell_type": "code",
   "execution_count": 4,
   "id": "5d663b8a",
   "metadata": {},
   "outputs": [
    {
     "name": "stdout",
     "output_type": "stream",
     "text": [
      "✅ Balanced training set label counts: Counter({1: 606, 0: 606})\n"
     ]
    },
    {
     "data": {
      "image/png": "[encoded data removed]",
      "text/plain": [
       "<Figure size 600x400 with 1 Axes>"
      ]
     },
     "metadata": {},
     "output_type": "display_data"
    }
   ],
   "source": [
    "import matplotlib.pyplot as plt\n",
    "from collections import Counter\n",
    "\n",
    "# Print label distribution\n",
    "print(\"✅ Balanced training set label counts:\", Counter(y_train_balanced))\n",
    "\n",
    "# Create a histogram\n",
    "plt.figure(figsize=(6, 4))\n",
    "plt.hist(y_train_balanced, bins=2, rwidth=0.6, color='skyblue')\n",
    "plt.xticks([0, 1], ['Not Fraudulent (0)', 'Fraudulent (1)'])\n",
    "plt.title(\"Balanced Class Distribution (Train Set)\")\n",
    "plt.xlabel(\"Class\")\n",
    "plt.ylabel(\"Count\")\n",
    "plt.grid(axis='y', linestyle='--', alpha=0.7)\n",
    "plt.tight_layout()\n",
    "plt.show()\n"
   ]
  },
  {
   "cell_type": "code",
   "execution_count": 5,
   "id": "87542a35",
   "metadata": {},
   "outputs": [],
   "source": [
    "from transformers import BertTokenizer\n",
    "\n",
    "# Load pre-trained BERT tokenizer\n",
    "tokenizer = BertTokenizer.from_pretrained('bert-base-uncased')\n",
    "\n",
    "# Tokenize balanced training texts\n",
    "train_encodings = tokenizer(\n",
    "    X_train_balanced,\n",
    "    padding='max_length',       # ensures same length for all\n",
    "    truncation=True,\n",
    "    max_length=512,\n",
    "    return_tensors='pt'\n",
    ")\n",
    "\n",
    "# Tokenize original unbalanced test texts\n",
    "test_encodings = tokenizer(\n",
    "    list(X_test),\n",
    "    padding='max_length',\n",
    "    truncation=True,\n",
    "    max_length=512,\n",
    "    return_tensors='pt'\n",
    ")\n",
    "\n"
   ]
  },
  {
   "cell_type": "code",
   "execution_count": 6,
   "id": "f0335ba5",
   "metadata": {},
   "outputs": [
    {
     "name": "stdout",
     "output_type": "stream",
     "text": [
      "🔢 Input IDs: tensor([  101, 14763,  2005, 20066,  4425,  4677,  3208,  2597,  3208,  2449,\n",
      "         7300,  3736,  4523,  6279, 22086,  4677,  5558,  2497,  2828,  2440,\n",
      "         2051,  5558,  2497,  3295,  2142,  2163, 28556,  7853, 25766, 19722,\n",
      "        10600,  2147,  3570,  3223, 19413,  2094,  2665,  4003,  2271,  4480,\n",
      "         3105,  5918, 25300, 27147,  1997,  1020,  2086,  1999,  2019,  2592,\n",
      "         2974,  4105,  2535,  2007,  1996,  2206, 10288,  4842, 13684,  1999,\n",
      "         5147,  4975,  1998, 23448,  5656,  2005,  2877,  1998,  4082, 20066,\n",
      "         9413,  2361,  3001,  1998,  2060,  4425,  4677,  3001,  6494,  3600,\n",
      "         2501,  1997,  3112,  1999,  6605,  4425,  4677,  7300,  1999,  7027,\n",
      "         1998,  2953,  9949,  2578,  6089, 10288,  4842, 13684,  1999,  6605,\n",
      "         6550,  2007,  2449,  2136, 12706,  2012,  5034,  3208,  2472, 21210,\n",
      "         1998, 17917,  2361,  2504, 10288,  4842, 13684,  1999,  4975,  1998,\n",
      "         8498,  4294,  2005, 20066,  1998,  9413,  2361,  3001,  1999, 12139,\n",
      "         2007,  2449,  5656,  6072, 26029,  5332, 14680, 15389,  1998,  9002,\n",
      "         2000,  6143,  3488,  1998,  7552,  4082,  3488,  4355,  7875, 13602,\n",
      "        13797,  2007,  4425,  4677,  2449,  2780,  1998,  6133,  3026, 20414,\n",
      "         2884,  6550,  4355,  7875, 13602, 13797,  2007,  2060,  1041,  4183,\n",
      "         2780,  1998,  6133,  2892,  2136,  6550,  1998, 11598,  5386,  2306,\n",
      "         1041,  4183,  6198,  2007,  2449,  2780,  1998,  2060,  1041,  4183,\n",
      "         2780,  2000, 25705,  2006,  2449, 18402,  1998,  8116,  2114,  2122,\n",
      "        18402, 24844, 18349,  2361,  1998,  5441,  7300,  4294,  2005, 20066,\n",
      "        10488,  3676,  2330, 18209,  1998,  2060,  5097,  3141,  2000,  4013,\n",
      "        23887, 14399,  4710,  1998,  4425,  4677,  7300, 25416, 18908,  2953,\n",
      "         1998,  7949,  4493,  5097,  1998,  4637,  6194,  2000, 13265, 20066,\n",
      "         1998,  3068,  2190,  6078,  1998,  2000, 25705,  2007,  6143,  2933,\n",
      "         6198,  2007,  2009, 10615,  2000, 25705,  2458,  1998,  6515,  3450,\n",
      "         2306, 17371, 15472,  1998,  2490,  7705, 24805,  3351,  2019,  1041,\n",
      "         4183,  4013, 23887, 14399,  4710,  2136,  6709,  9958,  1998,  9279,\n",
      "         3145,  4813,  1998,  9859,  2005,  2023,  2136,   102,     0,     0,\n",
      "            0,     0,     0,     0,     0,     0,     0,     0,     0,     0,\n",
      "            0,     0,     0,     0,     0,     0,     0,     0,     0,     0,\n",
      "            0,     0,     0,     0,     0,     0,     0,     0,     0,     0,\n",
      "            0,     0,     0,     0,     0,     0,     0,     0,     0,     0,\n",
      "            0,     0,     0,     0,     0,     0,     0,     0,     0,     0,\n",
      "            0,     0,     0,     0,     0,     0,     0,     0,     0,     0,\n",
      "            0,     0,     0,     0,     0,     0,     0,     0,     0,     0,\n",
      "            0,     0,     0,     0,     0,     0,     0,     0,     0,     0,\n",
      "            0,     0,     0,     0,     0,     0,     0,     0,     0,     0,\n",
      "            0,     0,     0,     0,     0,     0,     0,     0,     0,     0,\n",
      "            0,     0,     0,     0,     0,     0,     0,     0,     0,     0,\n",
      "            0,     0,     0,     0,     0,     0,     0,     0,     0,     0,\n",
      "            0,     0,     0,     0,     0,     0,     0,     0,     0,     0,\n",
      "            0,     0,     0,     0,     0,     0,     0,     0,     0,     0,\n",
      "            0,     0,     0,     0,     0,     0,     0,     0,     0,     0,\n",
      "            0,     0,     0,     0,     0,     0,     0,     0,     0,     0,\n",
      "            0,     0,     0,     0,     0,     0,     0,     0,     0,     0,\n",
      "            0,     0,     0,     0,     0,     0,     0,     0,     0,     0,\n",
      "            0,     0,     0,     0,     0,     0,     0,     0,     0,     0,\n",
      "            0,     0,     0,     0,     0,     0,     0,     0,     0,     0,\n",
      "            0,     0,     0,     0,     0,     0,     0,     0,     0,     0,\n",
      "            0,     0,     0,     0,     0,     0,     0,     0,     0,     0,\n",
      "            0,     0])\n",
      "🧠 Attention Mask: tensor([1, 1, 1, 1, 1, 1, 1, 1, 1, 1, 1, 1, 1, 1, 1, 1, 1, 1, 1, 1, 1, 1, 1, 1,\n",
      "        1, 1, 1, 1, 1, 1, 1, 1, 1, 1, 1, 1, 1, 1, 1, 1, 1, 1, 1, 1, 1, 1, 1, 1,\n",
      "        1, 1, 1, 1, 1, 1, 1, 1, 1, 1, 1, 1, 1, 1, 1, 1, 1, 1, 1, 1, 1, 1, 1, 1,\n",
      "        1, 1, 1, 1, 1, 1, 1, 1, 1, 1, 1, 1, 1, 1, 1, 1, 1, 1, 1, 1, 1, 1, 1, 1,\n",
      "        1, 1, 1, 1, 1, 1, 1, 1, 1, 1, 1, 1, 1, 1, 1, 1, 1, 1, 1, 1, 1, 1, 1, 1,\n",
      "        1, 1, 1, 1, 1, 1, 1, 1, 1, 1, 1, 1, 1, 1, 1, 1, 1, 1, 1, 1, 1, 1, 1, 1,\n",
      "        1, 1, 1, 1, 1, 1, 1, 1, 1, 1, 1, 1, 1, 1, 1, 1, 1, 1, 1, 1, 1, 1, 1, 1,\n",
      "        1, 1, 1, 1, 1, 1, 1, 1, 1, 1, 1, 1, 1, 1, 1, 1, 1, 1, 1, 1, 1, 1, 1, 1,\n",
      "        1, 1, 1, 1, 1, 1, 1, 1, 1, 1, 1, 1, 1, 1, 1, 1, 1, 1, 1, 1, 1, 1, 1, 1,\n",
      "        1, 1, 1, 1, 1, 1, 1, 1, 1, 1, 1, 1, 1, 1, 1, 1, 1, 1, 1, 1, 1, 1, 1, 1,\n",
      "        1, 1, 1, 1, 1, 1, 1, 1, 1, 1, 1, 1, 1, 1, 1, 1, 1, 1, 1, 1, 1, 1, 1, 1,\n",
      "        1, 1, 1, 1, 1, 1, 1, 1, 1, 1, 1, 1, 1, 1, 1, 1, 1, 1, 1, 1, 1, 1, 1, 1,\n",
      "        0, 0, 0, 0, 0, 0, 0, 0, 0, 0, 0, 0, 0, 0, 0, 0, 0, 0, 0, 0, 0, 0, 0, 0,\n",
      "        0, 0, 0, 0, 0, 0, 0, 0, 0, 0, 0, 0, 0, 0, 0, 0, 0, 0, 0, 0, 0, 0, 0, 0,\n",
      "        0, 0, 0, 0, 0, 0, 0, 0, 0, 0, 0, 0, 0, 0, 0, 0, 0, 0, 0, 0, 0, 0, 0, 0,\n",
      "        0, 0, 0, 0, 0, 0, 0, 0, 0, 0, 0, 0, 0, 0, 0, 0, 0, 0, 0, 0, 0, 0, 0, 0,\n",
      "        0, 0, 0, 0, 0, 0, 0, 0, 0, 0, 0, 0, 0, 0, 0, 0, 0, 0, 0, 0, 0, 0, 0, 0,\n",
      "        0, 0, 0, 0, 0, 0, 0, 0, 0, 0, 0, 0, 0, 0, 0, 0, 0, 0, 0, 0, 0, 0, 0, 0,\n",
      "        0, 0, 0, 0, 0, 0, 0, 0, 0, 0, 0, 0, 0, 0, 0, 0, 0, 0, 0, 0, 0, 0, 0, 0,\n",
      "        0, 0, 0, 0, 0, 0, 0, 0, 0, 0, 0, 0, 0, 0, 0, 0, 0, 0, 0, 0, 0, 0, 0, 0,\n",
      "        0, 0, 0, 0, 0, 0, 0, 0, 0, 0, 0, 0, 0, 0, 0, 0, 0, 0, 0, 0, 0, 0, 0, 0,\n",
      "        0, 0, 0, 0, 0, 0, 0, 0])\n",
      "📝 Decoded Text:\n",
      " hiring for sap supply chain manager position manager business solutionssapsupply chainjob type full timejob location united stateswashingtonbellevueus work status required ead green cardus citizens job requirementsminimum of 6 years in an information technology leadership role with the followingexperience in successfully developing and executing strategy for leading and operating sap erp systems and other supply chain systemstrack record of success in managing supply chain solutions in retail andor wireless services marketsexperience in managing relationships with business team executives at sr manager director vp and svp levelexperience in developing and maintaining architecture for sap and erp systems in alignment with business strategyresponsibilities execute and contribute to strategic plans and ongoing operating plansestablish partnerships with supply chain business teams and manage seniorlevel relationshipsestablish partnerships with other eit teams and manage cross team relationships and enhance partnership within eitwork with business teams and other eit teams to align on business priorities and deliver against these prioritiesdevelop and maintain solutions architecture for sap ariba opentext and other applications related to procuretopay and supply chain solutions refactor and extend existing applications and supporting processes to incorporate sap and industry best practices and to align with strategic planwork with it governance to align development and operational activities within sdlc and support frameworkmanage an eit procuretopay team identify attract and retain key skills and capabilities for this team\n"
     ]
    }
   ],
   "source": [
    "# Sample index to inspect\n",
    "sample_idx = 5\n",
    "\n",
    "# Show token IDs\n",
    "print(\"🔢 Input IDs:\", train_encodings['input_ids'][sample_idx])\n",
    "\n",
    "# Show attention mask\n",
    "print(\"🧠 Attention Mask:\", train_encodings['attention_mask'][sample_idx])\n",
    "\n",
    "# Decode tokens back to text for readability\n",
    "decoded_text = tokenizer.decode(train_encodings['input_ids'][sample_idx], skip_special_tokens=True)\n",
    "print(\"📝 Decoded Text:\\n\", decoded_text)\n"
   ]
  },
  {
   "cell_type": "code",
   "execution_count": 7,
   "id": "3a2fffd6",
   "metadata": {},
   "outputs": [
    {
     "name": "stdout",
     "output_type": "stream",
     "text": [
      "Length of encodings: 1212\n",
      "Length of labels: 1212\n"
     ]
    }
   ],
   "source": [
    "print(f\"Length of encodings: {len(train_encodings['input_ids'])}\")\n",
    "print(f\"Length of labels: {len(y_train_balanced)}\")\n"
   ]
  },
  {
   "cell_type": "code",
   "execution_count": 8,
   "id": "c71dbd55",
   "metadata": {},
   "outputs": [],
   "source": [
    "import torch\n",
    "import torch.nn as nn\n",
    "from torch.utils.data import Dataset, DataLoader\n",
    "from transformers import BertTokenizer, BertModel\n",
    "from torch.optim import Adam\n",
    "from sklearn.metrics import accuracy_score, precision_score, recall_score, f1_score, confusion_matrix\n",
    "import pandas as pd\n",
    "\n",
    "class TextDataset(Dataset):\n",
    "    def __init__(self, encodings, labels):\n",
    "        self.encodings = encodings\n",
    "        self.labels = labels\n",
    "\n",
    "    def __len__(self):\n",
    "        return len(self.labels)\n",
    "\n",
    "    def __getitem__(self, idx):\n",
    "        item = {key: val[idx] for key, val in self.encodings.items()}\n",
    "        if isinstance(self.labels, (list, torch.Tensor)):\n",
    "            item['labels'] = torch.tensor(self.labels[idx], dtype=torch.long)\n",
    "        else:\n",
    "            item['labels'] = torch.tensor(self.labels.iloc[idx], dtype=torch.long)\n",
    "        return item\n"
   ]
  },
  {
   "cell_type": "code",
   "execution_count": 9,
   "id": "e90c9bf9",
   "metadata": {},
   "outputs": [],
   "source": [
    "class BERTCNNClassifier(nn.Module):\n",
    "    def __init__(self, bert_model_name='bert-base-uncased', num_classes=2):\n",
    "        super(BERTCNNClassifier, self).__init__()\n",
    "        self.bert = BertModel.from_pretrained(bert_model_name)\n",
    "        self.conv1 = nn.Conv1d(in_channels=768, out_channels=256, kernel_size=3, padding=1)\n",
    "        self.relu = nn.ReLU()\n",
    "        self.pool = nn.AdaptiveMaxPool1d(1)\n",
    "        self.dropout = nn.Dropout(0.3)\n",
    "        self.fc = nn.Linear(256, num_classes)\n",
    "\n",
    "    def forward(self, input_ids, attention_mask):\n",
    "        x = self.bert(input_ids=input_ids, attention_mask=attention_mask).last_hidden_state\n",
    "        x = x.permute(0, 2, 1)\n",
    "        x = self.relu(self.conv1(x))\n",
    "        x = self.pool(x).squeeze(2)\n",
    "        x = self.dropout(x)\n",
    "        return self.fc(x)\n",
    "\n",
    "\n",
    "class BERTLSTMClassifier(nn.Module):\n",
    "    def __init__(self, bert_model_name='bert-base-uncased', hidden_size=256, num_classes=2, num_layers=1, bidirectional=True):\n",
    "        super(BERTLSTMClassifier, self).__init__()\n",
    "        self.bert = BertModel.from_pretrained(bert_model_name)\n",
    "        self.lstm = nn.LSTM(input_size=768, hidden_size=hidden_size, num_layers=num_layers,\n",
    "                            batch_first=True, bidirectional=bidirectional)\n",
    "        self.dropout = nn.Dropout(0.3)\n",
    "        self.fc = nn.Linear(hidden_size * 2 if bidirectional else hidden_size, num_classes)\n",
    "\n",
    "    def forward(self, input_ids, attention_mask):\n",
    "        x = self.bert(input_ids=input_ids, attention_mask=attention_mask).last_hidden_state\n",
    "        x, _ = self.lstm(x)\n",
    "        x = self.dropout(x[:, -1, :])\n",
    "        return self.fc(x)\n",
    "\n",
    "\n",
    "class BERTCNNLSTMClassifier(nn.Module):\n",
    "    def __init__(self, bert_model_name='bert-base-uncased', cnn_out_channels=256, lstm_hidden_size=128, num_classes=2, num_layers=1, bidirectional=True):\n",
    "        super(BERTCNNLSTMClassifier, self).__init__()\n",
    "        self.bert = BertModel.from_pretrained(bert_model_name)\n",
    "        self.conv1 = nn.Conv1d(in_channels=768, out_channels=cnn_out_channels, kernel_size=3, padding=1)\n",
    "        self.relu = nn.ReLU()\n",
    "        self.lstm = nn.LSTM(input_size=cnn_out_channels, hidden_size=lstm_hidden_size, num_layers=num_layers,\n",
    "                            batch_first=True, bidirectional=bidirectional)\n",
    "        self.dropout = nn.Dropout(0.3)\n",
    "        self.fc = nn.Linear(lstm_hidden_size * 2 if bidirectional else lstm_hidden_size, num_classes)\n",
    "\n",
    "    def forward(self, input_ids, attention_mask):\n",
    "        x = self.bert(input_ids=input_ids, attention_mask=attention_mask).last_hidden_state\n",
    "        x = self.relu(self.conv1(x.permute(0, 2, 1))).permute(0, 2, 1)\n",
    "        x, _ = self.lstm(x)\n",
    "        x = self.dropout(x[:, -1, :])\n",
    "        return self.fc(x)\n"
   ]
  },
  {
   "cell_type": "code",
   "execution_count": 10,
   "id": "cb428385",
   "metadata": {},
   "outputs": [],
   "source": [
    "def train_model(model, train_loader, criterion, optimizer, device, num_epochs=10, save_path='training_metrics.csv'):\n",
    "    model.train()\n",
    "    stats = []\n",
    "\n",
    "    for epoch in range(num_epochs):\n",
    "        epoch_loss, all_preds, all_labels = 0.0, [], []\n",
    "\n",
    "        for batch in train_loader:\n",
    "            input_ids = batch['input_ids'].to(device)\n",
    "            attention_mask = batch['attention_mask'].to(device)\n",
    "            labels = batch['labels'].to(device)\n",
    "\n",
    "            optimizer.zero_grad()\n",
    "            outputs = model(input_ids, attention_mask)\n",
    "            loss = criterion(outputs, labels)\n",
    "            loss.backward()\n",
    "            optimizer.step()\n",
    "\n",
    "            epoch_loss += loss.item()\n",
    "            all_preds.extend(torch.argmax(outputs, dim=1).cpu().numpy())\n",
    "            all_labels.extend(labels.cpu().numpy())\n",
    "\n",
    "        acc = accuracy_score(all_labels, all_preds)\n",
    "        prec = precision_score(all_labels, all_preds, average='macro')\n",
    "        rec = recall_score(all_labels, all_preds, average='macro')\n",
    "        f1 = f1_score(all_labels, all_preds, average='macro')\n",
    "        cm = confusion_matrix(all_labels, all_preds).tolist()\n",
    "\n",
    "        stats.append({\n",
    "            \"Epoch\": epoch + 1, \"Loss\": epoch_loss, \"Accuracy\": acc,\n",
    "            \"Precision\": prec, \"Recall\": rec, \"F1_score\": f1, \"Confusion_Matrix\": cm\n",
    "        })\n",
    "\n",
    "        print(f\"Epoch {epoch+1}/{num_epochs} - Loss: {epoch_loss:.4f}, Acc: {acc:.4f}, Prec: {prec:.4f}, Rec: {rec:.4f}, F1: {f1:.4f}\")\n",
    "\n",
    "    df_stats = pd.DataFrame(stats)\n",
    "    df_stats.to_csv(save_path, index=False)\n",
    "    return df_stats\n"
   ]
  },
  {
   "cell_type": "code",
   "execution_count": 11,
   "id": "bedc00ad",
   "metadata": {},
   "outputs": [],
   "source": [
    "def evaluate_model(model, test_loader, device, save_path='test_metrics.csv'):\n",
    "    model.eval()\n",
    "    all_preds, all_labels = [], []\n",
    "\n",
    "    with torch.no_grad():\n",
    "        for batch in test_loader:\n",
    "            input_ids = batch['input_ids'].to(device)\n",
    "            attention_mask = batch['attention_mask'].to(device)\n",
    "            labels = batch['labels'].to(device)\n",
    "\n",
    "            outputs = model(input_ids, attention_mask)\n",
    "            preds = torch.argmax(outputs, dim=1)\n",
    "            all_preds.extend(preds.cpu().numpy())\n",
    "            all_labels.extend(labels.cpu().numpy())\n",
    "\n",
    "    acc = accuracy_score(all_labels, all_preds)\n",
    "    prec = precision_score(all_labels, all_preds, average='macro')\n",
    "    rec = recall_score(all_labels, all_preds, average='macro')\n",
    "    f1 = f1_score(all_labels, all_preds, average='macro')\n",
    "    cm = confusion_matrix(all_labels, all_preds).tolist()\n",
    "\n",
    "    print(\"\\n📊 Test Set Evaluation:\")\n",
    "    print(f\"Accuracy: {acc:.4f}, Precision: {prec:.4f}, Recall: {rec:.4f}, F1: {f1:.4f}\")\n",
    "    print(\"Confusion Matrix:\\n\", cm)\n",
    "\n",
    "    df = pd.DataFrame([{\n",
    "        \"Dataset\": \"Test\", \"Accuracy\": acc, \"Precision\": prec,\n",
    "        \"Recall\": rec, \"F1_score\": f1, \"Confusion_Matrix\": cm\n",
    "    }])\n",
    "    df.to_csv(save_path, index=False)\n",
    "    return df\n",
    "\n",
    "\n",
    "\n",
    "# Prepare dataset and dataloader\n",
    "train_dataset = TextDataset(train_encodings, y_train_balanced)\n",
    "test_dataset = TextDataset(test_encodings, y_test)\n",
    "\n",
    "train_loader = DataLoader(train_dataset, batch_size=16, shuffle=True)\n",
    "test_loader = DataLoader(test_dataset, batch_size=16)\n",
    "\n",
    "# Setup device, loss function, and example optimizer (you can reuse it or define per model)\n",
    "device = torch.device(\"cuda\" if torch.cuda.is_available() else \"cpu\")\n",
    "criterion = nn.CrossEntropyLoss()\n"
   ]
  },
  {
   "cell_type": "code",
   "execution_count": 12,
   "id": "1ccc2fc3",
   "metadata": {},
   "outputs": [
    {
     "name": "stdout",
     "output_type": "stream",
     "text": [
      "Epoch 1/10 - Loss: 47.3576, Acc: 0.6510, Prec: 0.6511, Rec: 0.6510, F1: 0.6509\n",
      "Epoch 2/10 - Loss: 28.6882, Acc: 0.8474, Prec: 0.8479, Rec: 0.8474, F1: 0.8473\n",
      "Epoch 3/10 - Loss: 17.6968, Acc: 0.9125, Prec: 0.9126, Rec: 0.9125, F1: 0.9125\n",
      "Epoch 4/10 - Loss: 7.2338, Acc: 0.9711, Prec: 0.9712, Rec: 0.9711, F1: 0.9711\n",
      "Epoch 5/10 - Loss: 4.0465, Acc: 0.9851, Prec: 0.9852, Rec: 0.9851, F1: 0.9851\n",
      "Epoch 6/10 - Loss: 1.2592, Acc: 0.9950, Prec: 0.9950, Rec: 0.9950, F1: 0.9950\n",
      "Epoch 7/10 - Loss: 0.8181, Acc: 0.9967, Prec: 0.9967, Rec: 0.9967, F1: 0.9967\n",
      "Epoch 8/10 - Loss: 1.2481, Acc: 0.9959, Prec: 0.9959, Rec: 0.9959, F1: 0.9959\n",
      "Epoch 9/10 - Loss: 0.8471, Acc: 0.9967, Prec: 0.9967, Rec: 0.9967, F1: 0.9967\n",
      "Epoch 10/10 - Loss: 0.1127, Acc: 1.0000, Prec: 1.0000, Rec: 1.0000, F1: 1.0000\n"
     ]
    }
   ],
   "source": [
    "# Example: Using BERT + CNN\n",
    "model = BERTCNNClassifier().to(device)\n",
    "optimizer = Adam(model.parameters(), lr=2e-5)\n",
    "train_stats = train_model(model, train_loader, criterion, optimizer, device, save_path=\"Results/bert_cnn_train.csv\")"
   ]
  },
  {
   "cell_type": "code",
   "execution_count": 13,
   "id": "75fa90bb",
   "metadata": {},
   "outputs": [
    {
     "name": "stdout",
     "output_type": "stream",
     "text": [
      "\n",
      "📊 Test Set Evaluation:\n",
      "Accuracy: 0.9476, Precision: 0.7366, Recall: 0.9250, F1: 0.7983\n",
      "Confusion Matrix:\n",
      " [[4849, 255], [26, 234]]\n"
     ]
    }
   ],
   "source": [
    "test_stats = evaluate_model(model, test_loader, device, save_path=\"Results/bert_cnn_test.csv\")\n"
   ]
  },
  {
   "cell_type": "code",
   "execution_count": 14,
   "id": "dc6030af",
   "metadata": {},
   "outputs": [
    {
     "name": "stdout",
     "output_type": "stream",
     "text": [
      "Epoch 1/10 - Loss: 44.5793, Acc: 0.6741, Prec: 0.6743, Rec: 0.6741, F1: 0.6740\n",
      "Epoch 2/10 - Loss: 26.6159, Acc: 0.8597, Prec: 0.8598, Rec: 0.8597, F1: 0.8597\n",
      "Epoch 3/10 - Loss: 13.2885, Acc: 0.9455, Prec: 0.9457, Rec: 0.9455, F1: 0.9455\n",
      "Epoch 4/10 - Loss: 7.4283, Acc: 0.9719, Prec: 0.9721, Rec: 0.9719, F1: 0.9719\n",
      "Epoch 5/10 - Loss: 4.7228, Acc: 0.9843, Prec: 0.9843, Rec: 0.9843, F1: 0.9843\n",
      "Epoch 6/10 - Loss: 3.7826, Acc: 0.9835, Prec: 0.9835, Rec: 0.9835, F1: 0.9835\n",
      "Epoch 7/10 - Loss: 2.5651, Acc: 0.9893, Prec: 0.9893, Rec: 0.9893, F1: 0.9893\n",
      "Epoch 8/10 - Loss: 1.6511, Acc: 0.9942, Prec: 0.9942, Rec: 0.9942, F1: 0.9942\n",
      "Epoch 9/10 - Loss: 0.5338, Acc: 0.9992, Prec: 0.9992, Rec: 0.9992, F1: 0.9992\n",
      "Epoch 10/10 - Loss: 0.3365, Acc: 0.9992, Prec: 0.9992, Rec: 0.9992, F1: 0.9992\n"
     ]
    }
   ],
   "source": [
    "model = BERTLSTMClassifier().to(device)\n",
    "optimizer = Adam(model.parameters(), lr=2e-5)\n",
    "train_stats = train_model(model, train_loader, criterion, optimizer, device, save_path=\"Results/bert_lstm_train.csv\")"
   ]
  },
  {
   "cell_type": "code",
   "execution_count": 15,
   "id": "83351642",
   "metadata": {},
   "outputs": [
    {
     "name": "stdout",
     "output_type": "stream",
     "text": [
      "\n",
      "📊 Test Set Evaluation:\n",
      "Accuracy: 0.9541, Precision: 0.7547, Recall: 0.9175, F1: 0.8125\n",
      "Confusion Matrix:\n",
      " [[4890, 214], [32, 228]]\n"
     ]
    }
   ],
   "source": [
    "test_stats = evaluate_model(model, test_loader, device, save_path=\"Results/bert_lstm_test.csv\")"
   ]
  },
  {
   "cell_type": "code",
   "execution_count": 16,
   "id": "6a7bbc9c",
   "metadata": {},
   "outputs": [
    {
     "name": "stdout",
     "output_type": "stream",
     "text": [
      "Epoch 1/10 - Loss: 46.6111, Acc: 0.6700, Prec: 0.6760, Rec: 0.6700, F1: 0.6671\n",
      "Epoch 2/10 - Loss: 30.4524, Acc: 0.8358, Prec: 0.8365, Rec: 0.8358, F1: 0.8357\n",
      "Epoch 3/10 - Loss: 18.3756, Acc: 0.9224, Prec: 0.9226, Rec: 0.9224, F1: 0.9224\n",
      "Epoch 4/10 - Loss: 12.3537, Acc: 0.9538, Prec: 0.9538, Rec: 0.9538, F1: 0.9538\n",
      "Epoch 5/10 - Loss: 8.5527, Acc: 0.9662, Prec: 0.9662, Rec: 0.9662, F1: 0.9662\n",
      "Epoch 6/10 - Loss: 4.2922, Acc: 0.9893, Prec: 0.9893, Rec: 0.9893, F1: 0.9893\n",
      "Epoch 7/10 - Loss: 2.8086, Acc: 0.9926, Prec: 0.9926, Rec: 0.9926, F1: 0.9926\n",
      "Epoch 8/10 - Loss: 1.3143, Acc: 0.9975, Prec: 0.9975, Rec: 0.9975, F1: 0.9975\n",
      "Epoch 9/10 - Loss: 3.8355, Acc: 0.9843, Prec: 0.9843, Rec: 0.9843, F1: 0.9843\n",
      "Epoch 10/10 - Loss: 5.1939, Acc: 0.9802, Prec: 0.9802, Rec: 0.9802, F1: 0.9802\n"
     ]
    }
   ],
   "source": [
    "model = BERTCNNLSTMClassifier().to(device)\n",
    "optimizer = Adam(model.parameters(), lr=2e-5)\n",
    "train_stats = train_model(model, train_loader, criterion, optimizer, device, save_path=\"Results/bert_cnn_lstm_train.csv\")"
   ]
  },
  {
   "cell_type": "code",
   "execution_count": 17,
   "id": "7b8cf365",
   "metadata": {},
   "outputs": [
    {
     "name": "stdout",
     "output_type": "stream",
     "text": [
      "\n",
      "📊 Test Set Evaluation:\n",
      "Accuracy: 0.9564, Precision: 0.7621, Recall: 0.9296, F1: 0.8217\n",
      "Confusion Matrix:\n",
      " [[4896, 208], [26, 234]]\n"
     ]
    }
   ],
   "source": [
    "test_stats = evaluate_model(model, test_loader, device, save_path=\"Results/bert_cnn_lstm_test.csv\")"
   ]
  }
 ],
 "metadata": {
  "kernelspec": {
   "display_name": "base",
   "language": "python",
   "name": "python3"
  },
  "language_info": {
   "codemirror_mode": {
    "name": "ipython",
    "version": 3
   },
   "file_extension": ".py",
   "mimetype": "text/x-python",
   "name": "python",
   "nbconvert_exporter": "python",
   "pygments_lexer": "ipython3",
   "version": "3.11.4"
  }
 },
 "nbformat": 4,
 "nbformat_minor": 5
}
