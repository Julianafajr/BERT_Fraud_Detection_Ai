{
 "cells": [
  {
   "cell_type": "code",
   "execution_count": 1,
   "id": "bfb65fa1",
   "metadata": {},
   "outputs": [],
   "source": [
    "import pandas as pd\n",
    "from sklearn.model_selection import train_test_split\n",
    "from imblearn.under_sampling import RandomUnderSampler\n",
    "\n",
    "# 1. Load dataset\n",
    "df = pd.read_csv(\"ready_fraud_detection_dataset.csv\")\n",
    "\n",
    "# 2. Create numeric label\n",
    "df['label'] = df['fraudulent'].map({'f': 0, 't': 1})\n",
    "\n",
    "# 3. Drop any rows with missing full_text (just in case)\n",
    "df = df.dropna(subset=['full_text'])\n",
    "\n",
    "# 4. Train-test split (80:20)\n",
    "X = df['full_text']\n",
    "y = df['label']\n",
    "X_train, X_test, y_train, y_test = train_test_split(\n",
    "    X, y, test_size=0.4, stratify=y, random_state=42\n",
    ")\n"
   ]
  },
  {
   "cell_type": "code",
   "execution_count": 2,
   "id": "4038ab08",
   "metadata": {},
   "outputs": [
    {
     "name": "stdout",
     "output_type": "stream",
     "text": [
      "🚨 DEBUGGING CHECKS 🚨\n",
      "Total rows in original df: 17880\n",
      "NaNs in full_text: 0\n",
      "Class distribution in full dataset:\n",
      " label\n",
      "0    17014\n",
      "1      866\n",
      "Name: count, dtype: int64\n",
      "Size of X_train: 10728\n",
      "Size of y_train: 10728\n",
      "NaNs in X_train: 0\n",
      "NaNs in y_train: 0\n",
      "Empty string entries in X_train: 0\n"
     ]
    }
   ],
   "source": [
    "# 🔍 Debugging Block\n",
    "\n",
    "print(\"🚨 DEBUGGING CHECKS 🚨\")\n",
    "print(\"Total rows in original df:\", len(df))\n",
    "print(\"NaNs in full_text:\", df['full_text'].isna().sum())\n",
    "print(\"Class distribution in full dataset:\\n\", df['label'].value_counts())\n",
    "print(\"Size of X_train:\", len(X_train))\n",
    "print(\"Size of y_train:\", len(y_train))\n",
    "\n",
    "# Check for NaNs in training data\n",
    "print(\"NaNs in X_train:\", X_train.isna().sum())\n",
    "print(\"NaNs in y_train:\", y_train.isna().sum())\n",
    "\n",
    "# Optional: Check if X_train has any empty strings\n",
    "empty_text_count = (X_train.str.strip() == \"\").sum()\n",
    "print(\"Empty string entries in X_train:\", empty_text_count)\n",
    "\n",
    "# Sanity check: X_train must not be empty\n",
    "assert len(X_train) > 0, \"❌ X_train is EMPTY!\"\n",
    "assert X_train.isna().sum() == 0, \"❌ X_train contains NaNs!\"\n"
   ]
  },
  {
   "cell_type": "code",
   "execution_count": 3,
   "id": "abed56e2",
   "metadata": {},
   "outputs": [],
   "source": [
    "#  5. Convert X_train to DataFrame (required by RandomUnderSampler)\n",
    "X_train_df = pd.DataFrame({'text': X_train.values})\n",
    "\n",
    "# ✅ Check the length before resampling\n",
    "assert len(X_train_df) > 0, \"X_train is empty!\"\n",
    "\n",
    "# 6. Apply Random Undersampling\n",
    "rus = RandomUnderSampler(random_state=42)\n",
    "X_rus, y_rus = rus.fit_resample(X_train_df, y_train)\n",
    "\n",
    "# 7. Manual Oversampling (repeat minority class)\n",
    "df_rus = pd.DataFrame({'text': X_rus['text'], 'label': y_rus})\n",
    "minority = df_rus[df_rus['label'] == 1]\n",
    "majority = df_rus[df_rus['label'] == 0]\n",
    "minority_oversampled = minority.sample(n=len(majority), replace=True, random_state=42)\n",
    "\n",
    "# 8. Combine and shuffle the balanced data\n",
    "df_balanced = pd.concat([majority, minority_oversampled]).sample(frac=1, random_state=42)\n",
    "\n",
    "# Final balanced train data\n",
    "X_train_balanced = df_balanced['text'].tolist()\n",
    "y_train_balanced = df_balanced['label'].tolist()\n"
   ]
  },
  {
   "cell_type": "code",
   "execution_count": 4,
   "id": "5d663b8a",
   "metadata": {},
   "outputs": [
    {
     "name": "stdout",
     "output_type": "stream",
     "text": [
      "✅ Balanced training set label counts: Counter({0: 520, 1: 520})\n"
     ]
    },
    {
     "data": {
      "image/png": "[encoded data removed]",
      "text/plain": [
       "<Figure size 600x400 with 1 Axes>"
      ]
     },
     "metadata": {},
     "output_type": "display_data"
    }
   ],
   "source": [
    "import matplotlib.pyplot as plt\n",
    "from collections import Counter\n",
    "\n",
    "# Print label distribution\n",
    "print(\"✅ Balanced training set label counts:\", Counter(y_train_balanced))\n",
    "\n",
    "# Create a histogram\n",
    "plt.figure(figsize=(6, 4))\n",
    "plt.hist(y_train_balanced, bins=2, rwidth=0.6, color='skyblue')\n",
    "plt.xticks([0, 1], ['Not Fraudulent (0)', 'Fraudulent (1)'])\n",
    "plt.title(\"Balanced Class Distribution (Train Set)\")\n",
    "plt.xlabel(\"Class\")\n",
    "plt.ylabel(\"Count\")\n",
    "plt.grid(axis='y', linestyle='--', alpha=0.7)\n",
    "plt.tight_layout()\n",
    "plt.show()\n"
   ]
  },
  {
   "cell_type": "code",
   "execution_count": 5,
   "id": "87542a35",
   "metadata": {},
   "outputs": [],
   "source": [
    "from transformers import BertTokenizer\n",
    "\n",
    "# Load pre-trained BERT tokenizer\n",
    "tokenizer = BertTokenizer.from_pretrained('bert-base-uncased')\n",
    "\n",
    "# Tokenize balanced training texts\n",
    "train_encodings = tokenizer(\n",
    "    X_train_balanced,\n",
    "    padding='max_length',       # ensures same length for all\n",
    "    truncation=True,\n",
    "    max_length=512,\n",
    "    return_tensors='pt'\n",
    ")\n",
    "\n",
    "# Tokenize original unbalanced test texts\n",
    "test_encodings = tokenizer(\n",
    "    list(X_test),\n",
    "    padding='max_length',\n",
    "    truncation=True,\n",
    "    max_length=512,\n",
    "    return_tensors='pt'\n",
    ")\n",
    "\n"
   ]
  },
  {
   "cell_type": "code",
   "execution_count": 6,
   "id": "f0335ba5",
   "metadata": {},
   "outputs": [
    {
     "name": "stdout",
     "output_type": "stream",
     "text": [
      "🔢 Input IDs: tensor([  101, 22816,  2937, 13465, 12502,  4341,  3027,  2146,  2744,  2511,\n",
      "         1998,  9768, 23569, 28993,  3218,  2003,  6224,  1037,  2440,  7292,\n",
      "        22816,  2937,  2005,  2256,  3103,  2103,  5334,  3295,  2023,  2003,\n",
      "         2019,  6581,  4495,  2005,  2619,  2040, 15646,  5094,  2111,  2096,\n",
      "         7414,  1037,  2307,  3318,  2057,  2097, 11361,  5136,  2731,  5347,\n",
      "         2007,  2844,  7027,  4341,  3325,  1996,  3144,  4018,  2097,  2022,\n",
      "         9657,  1998, 12774,  2007,  1037,  6540,  2147,  2381,  1998,  1037,\n",
      "         2326, 10050, 14088,  6180,  2065,  2017,  2024,  3811, 12774,  2031,\n",
      "         1037,  2844,  8426,  2000,  8013,  2326,  2024,  5379,  1998, 18114,\n",
      "         2031,  2844,  4807,  4813,  2024,  1037,  2175, 18150,  3334,  2007,\n",
      "         1037,  2307,  2868, 10760,  2078,  2023,  2003,  1996,  4495,  2005,\n",
      "         2017,  2000,  6611,  2005,  2023,  2597,  3531, 12040,  2115,  4646,\n",
      "         3081,  2023,  4957, 24471,  6392,  2278,  2575,  2050,  2549,  2063,\n",
      "         2620, 20952,  2620,  2278,  2620,  2620,  2278,  2546,  2581, 10322,\n",
      "         2575, 14526,  2278, 22907,  7011, 20952,  2620, 19481,  2497,  2475,\n",
      "         5243,  2575,  2094, 12740,  3401,  2278,  2620, 24434, 21472,  2509,\n",
      "         2497, 23499, 10322,  2575,  3676,  2683,  9818,  2050,  2620, 27531,\n",
      "         2475,  5714,  2102,  2243,  2480,  1998,  7276,  1996, 22816,  2937,\n",
      "        13465, 12502,  4341,  3103,  2103,  5334,  2597,  2013,  1996,  3105,\n",
      "         3098,  4530,  7698, 12183, 10198,  2421, 25088,  1998, 13951,  5022,\n",
      "         1999, 17739,  2037,  7877, 11048,  1998, 15072,  2635,  5776,  7877,\n",
      "         3141, 11702, 10886,  1998,  4487, 13102,  6132,  2075,  7877, 19158,\n",
      "         1998, 26296,  7877,  8498,  7877, 12612,  1998, 20888,  2007,  7435,\n",
      "         3095,  1998,  5022,  2057,  3749,  1037,  2136, 10050, 14088,  2147,\n",
      "         4044,  1998,  6975,  9430,  7427,  2007,  6666,  2164, 22649,  2243,\n",
      "         3825,  2731,  3825, 11938,  1998,  3825,  2051,  2125,  2005,  2440,\n",
      "         7292,  5126,   102,     0,     0,     0,     0,     0,     0,     0,\n",
      "            0,     0,     0,     0,     0,     0,     0,     0,     0,     0,\n",
      "            0,     0,     0,     0,     0,     0,     0,     0,     0,     0,\n",
      "            0,     0,     0,     0,     0,     0,     0,     0,     0,     0,\n",
      "            0,     0,     0,     0,     0,     0,     0,     0,     0,     0,\n",
      "            0,     0,     0,     0,     0,     0,     0,     0,     0,     0,\n",
      "            0,     0,     0,     0,     0,     0,     0,     0,     0,     0,\n",
      "            0,     0,     0,     0,     0,     0,     0,     0,     0,     0,\n",
      "            0,     0,     0,     0,     0,     0,     0,     0,     0,     0,\n",
      "            0,     0,     0,     0,     0,     0,     0,     0,     0,     0,\n",
      "            0,     0,     0,     0,     0,     0,     0,     0,     0,     0,\n",
      "            0,     0,     0,     0,     0,     0,     0,     0,     0,     0,\n",
      "            0,     0,     0,     0,     0,     0,     0,     0,     0,     0,\n",
      "            0,     0,     0,     0,     0,     0,     0,     0,     0,     0,\n",
      "            0,     0,     0,     0,     0,     0,     0,     0,     0,     0,\n",
      "            0,     0,     0,     0,     0,     0,     0,     0,     0,     0,\n",
      "            0,     0,     0,     0,     0,     0,     0,     0,     0,     0,\n",
      "            0,     0,     0,     0,     0,     0,     0,     0,     0,     0,\n",
      "            0,     0,     0,     0,     0,     0,     0,     0,     0,     0,\n",
      "            0,     0,     0,     0,     0,     0,     0,     0,     0,     0,\n",
      "            0,     0,     0,     0,     0,     0,     0,     0,     0,     0,\n",
      "            0,     0,     0,     0,     0,     0,     0,     0,     0,     0,\n",
      "            0,     0,     0,     0,     0,     0,     0,     0,     0,     0,\n",
      "            0,     0,     0,     0,     0,     0,     0,     0,     0,     0,\n",
      "            0,     0,     0,     0,     0,     0,     0,     0,     0,     0,\n",
      "            0,     0])\n",
      "🧠 Attention Mask: tensor([1, 1, 1, 1, 1, 1, 1, 1, 1, 1, 1, 1, 1, 1, 1, 1, 1, 1, 1, 1, 1, 1, 1, 1,\n",
      "        1, 1, 1, 1, 1, 1, 1, 1, 1, 1, 1, 1, 1, 1, 1, 1, 1, 1, 1, 1, 1, 1, 1, 1,\n",
      "        1, 1, 1, 1, 1, 1, 1, 1, 1, 1, 1, 1, 1, 1, 1, 1, 1, 1, 1, 1, 1, 1, 1, 1,\n",
      "        1, 1, 1, 1, 1, 1, 1, 1, 1, 1, 1, 1, 1, 1, 1, 1, 1, 1, 1, 1, 1, 1, 1, 1,\n",
      "        1, 1, 1, 1, 1, 1, 1, 1, 1, 1, 1, 1, 1, 1, 1, 1, 1, 1, 1, 1, 1, 1, 1, 1,\n",
      "        1, 1, 1, 1, 1, 1, 1, 1, 1, 1, 1, 1, 1, 1, 1, 1, 1, 1, 1, 1, 1, 1, 1, 1,\n",
      "        1, 1, 1, 1, 1, 1, 1, 1, 1, 1, 1, 1, 1, 1, 1, 1, 1, 1, 1, 1, 1, 1, 1, 1,\n",
      "        1, 1, 1, 1, 1, 1, 1, 1, 1, 1, 1, 1, 1, 1, 1, 1, 1, 1, 1, 1, 1, 1, 1, 1,\n",
      "        1, 1, 1, 1, 1, 1, 1, 1, 1, 1, 1, 1, 1, 1, 1, 1, 1, 1, 1, 1, 1, 1, 1, 1,\n",
      "        1, 1, 1, 1, 1, 1, 1, 1, 1, 1, 1, 1, 1, 1, 1, 1, 1, 1, 1, 1, 1, 1, 1, 1,\n",
      "        1, 1, 1, 1, 1, 1, 1, 1, 1, 1, 1, 1, 1, 1, 1, 1, 1, 1, 1, 1, 1, 1, 1, 0,\n",
      "        0, 0, 0, 0, 0, 0, 0, 0, 0, 0, 0, 0, 0, 0, 0, 0, 0, 0, 0, 0, 0, 0, 0, 0,\n",
      "        0, 0, 0, 0, 0, 0, 0, 0, 0, 0, 0, 0, 0, 0, 0, 0, 0, 0, 0, 0, 0, 0, 0, 0,\n",
      "        0, 0, 0, 0, 0, 0, 0, 0, 0, 0, 0, 0, 0, 0, 0, 0, 0, 0, 0, 0, 0, 0, 0, 0,\n",
      "        0, 0, 0, 0, 0, 0, 0, 0, 0, 0, 0, 0, 0, 0, 0, 0, 0, 0, 0, 0, 0, 0, 0, 0,\n",
      "        0, 0, 0, 0, 0, 0, 0, 0, 0, 0, 0, 0, 0, 0, 0, 0, 0, 0, 0, 0, 0, 0, 0, 0,\n",
      "        0, 0, 0, 0, 0, 0, 0, 0, 0, 0, 0, 0, 0, 0, 0, 0, 0, 0, 0, 0, 0, 0, 0, 0,\n",
      "        0, 0, 0, 0, 0, 0, 0, 0, 0, 0, 0, 0, 0, 0, 0, 0, 0, 0, 0, 0, 0, 0, 0, 0,\n",
      "        0, 0, 0, 0, 0, 0, 0, 0, 0, 0, 0, 0, 0, 0, 0, 0, 0, 0, 0, 0, 0, 0, 0, 0,\n",
      "        0, 0, 0, 0, 0, 0, 0, 0, 0, 0, 0, 0, 0, 0, 0, 0, 0, 0, 0, 0, 0, 0, 0, 0,\n",
      "        0, 0, 0, 0, 0, 0, 0, 0, 0, 0, 0, 0, 0, 0, 0, 0, 0, 0, 0, 0, 0, 0, 0, 0,\n",
      "        0, 0, 0, 0, 0, 0, 0, 0])\n",
      "📝 Decoded Text:\n",
      " opticianretail sales ft long term established and respected optometric practice is seeking a fulltime optician for our sun city arizona location this is an excellent opportunity for someone who enjoys helping people while earning a great income we will happily consider training candidates with strong retail sales experience the successful candidate will be confident and motivated with a stable work history and a serviceoriented personality if you are highly motivated have a strong commitment to customer service are friendly and energetic have strong communication skills are a gogetter with a great smilethen this is the opportunity for you to apply for this position please submit your application via this link urldc6a4e8df8c88cf7bb611c27fadf835b2ea6d40cec837463b39bb6ba9bca8852imtkz and select the opticianretail sales sun city arizona position from the job opening dropdown menu responsibilities include educating and assisting patients in selecting their glasses frames and lenses taking patient glasses related measurements presenting and dispensing glasses adjusting and repairing glasses maintaining glasses inventory and communicating with doctors staff and patients we offer a teamoriented work environment and competitive compensation package with benefits including 401k paid training paid holidays and paid time off for fulltime employees\n"
     ]
    }
   ],
   "source": [
    "# Sample index to inspect\n",
    "sample_idx = 5\n",
    "\n",
    "# Show token IDs\n",
    "print(\"🔢 Input IDs:\", train_encodings['input_ids'][sample_idx])\n",
    "\n",
    "# Show attention mask\n",
    "print(\"🧠 Attention Mask:\", train_encodings['attention_mask'][sample_idx])\n",
    "\n",
    "# Decode tokens back to text for readability\n",
    "decoded_text = tokenizer.decode(train_encodings['input_ids'][sample_idx], skip_special_tokens=True)\n",
    "print(\"📝 Decoded Text:\\n\", decoded_text)\n"
   ]
  },
  {
   "cell_type": "code",
   "execution_count": 7,
   "id": "3a2fffd6",
   "metadata": {},
   "outputs": [
    {
     "name": "stdout",
     "output_type": "stream",
     "text": [
      "Length of encodings: 1040\n",
      "Length of labels: 1040\n"
     ]
    }
   ],
   "source": [
    "print(f\"Length of encodings: {len(train_encodings['input_ids'])}\")\n",
    "print(f\"Length of labels: {len(y_train_balanced)}\")\n"
   ]
  },
  {
   "cell_type": "code",
   "execution_count": 8,
   "id": "c71dbd55",
   "metadata": {},
   "outputs": [],
   "source": [
    "import torch\n",
    "import torch.nn as nn\n",
    "from torch.utils.data import Dataset, DataLoader\n",
    "from transformers import BertTokenizer, BertModel\n",
    "from torch.optim import Adam\n",
    "from sklearn.metrics import accuracy_score, precision_score, recall_score, f1_score, confusion_matrix\n",
    "import pandas as pd\n",
    "\n",
    "class TextDataset(Dataset):\n",
    "    def __init__(self, encodings, labels):\n",
    "        self.encodings = encodings\n",
    "        self.labels = labels\n",
    "\n",
    "    def __len__(self):\n",
    "        return len(self.labels)\n",
    "\n",
    "    def __getitem__(self, idx):\n",
    "        item = {key: val[idx] for key, val in self.encodings.items()}\n",
    "        if isinstance(self.labels, (list, torch.Tensor)):\n",
    "            item['labels'] = torch.tensor(self.labels[idx], dtype=torch.long)\n",
    "        else:\n",
    "            item['labels'] = torch.tensor(self.labels.iloc[idx], dtype=torch.long)\n",
    "        return item\n"
   ]
  },
  {
   "cell_type": "code",
   "execution_count": 9,
   "id": "e90c9bf9",
   "metadata": {},
   "outputs": [],
   "source": [
    "class BERTCNNClassifier(nn.Module):\n",
    "    def __init__(self, bert_model_name='bert-base-uncased', num_classes=2):\n",
    "        super(BERTCNNClassifier, self).__init__()\n",
    "        self.bert = BertModel.from_pretrained(bert_model_name)\n",
    "        self.conv1 = nn.Conv1d(in_channels=768, out_channels=256, kernel_size=3, padding=1)\n",
    "        self.relu = nn.ReLU()\n",
    "        self.pool = nn.AdaptiveMaxPool1d(1)\n",
    "        self.dropout = nn.Dropout(0.3)\n",
    "        self.fc = nn.Linear(256, num_classes)\n",
    "\n",
    "    def forward(self, input_ids, attention_mask):\n",
    "        x = self.bert(input_ids=input_ids, attention_mask=attention_mask).last_hidden_state\n",
    "        x = x.permute(0, 2, 1)\n",
    "        x = self.relu(self.conv1(x))\n",
    "        x = self.pool(x).squeeze(2)\n",
    "        x = self.dropout(x)\n",
    "        return self.fc(x)\n",
    "\n",
    "\n",
    "class BERTLSTMClassifier(nn.Module):\n",
    "    def __init__(self, bert_model_name='bert-base-uncased', hidden_size=256, num_classes=2, num_layers=1, bidirectional=True):\n",
    "        super(BERTLSTMClassifier, self).__init__()\n",
    "        self.bert = BertModel.from_pretrained(bert_model_name)\n",
    "        self.lstm = nn.LSTM(input_size=768, hidden_size=hidden_size, num_layers=num_layers,\n",
    "                            batch_first=True, bidirectional=bidirectional)\n",
    "        self.dropout = nn.Dropout(0.3)\n",
    "        self.fc = nn.Linear(hidden_size * 2 if bidirectional else hidden_size, num_classes)\n",
    "\n",
    "    def forward(self, input_ids, attention_mask):\n",
    "        x = self.bert(input_ids=input_ids, attention_mask=attention_mask).last_hidden_state\n",
    "        x, _ = self.lstm(x)\n",
    "        x = self.dropout(x[:, -1, :])\n",
    "        return self.fc(x)\n",
    "\n",
    "\n",
    "class BERTCNNLSTMClassifier(nn.Module):\n",
    "    def __init__(self, bert_model_name='bert-base-uncased', cnn_out_channels=256, lstm_hidden_size=128, num_classes=2, num_layers=1, bidirectional=True):\n",
    "        super(BERTCNNLSTMClassifier, self).__init__()\n",
    "        self.bert = BertModel.from_pretrained(bert_model_name)\n",
    "        self.conv1 = nn.Conv1d(in_channels=768, out_channels=cnn_out_channels, kernel_size=3, padding=1)\n",
    "        self.relu = nn.ReLU()\n",
    "        self.lstm = nn.LSTM(input_size=cnn_out_channels, hidden_size=lstm_hidden_size, num_layers=num_layers,\n",
    "                            batch_first=True, bidirectional=bidirectional)\n",
    "        self.dropout = nn.Dropout(0.3)\n",
    "        self.fc = nn.Linear(lstm_hidden_size * 2 if bidirectional else lstm_hidden_size, num_classes)\n",
    "\n",
    "    def forward(self, input_ids, attention_mask):\n",
    "        x = self.bert(input_ids=input_ids, attention_mask=attention_mask).last_hidden_state\n",
    "        x = self.relu(self.conv1(x.permute(0, 2, 1))).permute(0, 2, 1)\n",
    "        x, _ = self.lstm(x)\n",
    "        x = self.dropout(x[:, -1, :])\n",
    "        return self.fc(x)\n"
   ]
  },
  {
   "cell_type": "code",
   "execution_count": 10,
   "id": "cb428385",
   "metadata": {},
   "outputs": [],
   "source": [
    "def train_model(model, train_loader, criterion, optimizer, device, num_epochs=10, save_path='training_metrics.csv'):\n",
    "    model.train()\n",
    "    stats = []\n",
    "\n",
    "    for epoch in range(num_epochs):\n",
    "        epoch_loss, all_preds, all_labels = 0.0, [], []\n",
    "\n",
    "        for batch in train_loader:\n",
    "            input_ids = batch['input_ids'].to(device)\n",
    "            attention_mask = batch['attention_mask'].to(device)\n",
    "            labels = batch['labels'].to(device)\n",
    "\n",
    "            optimizer.zero_grad()\n",
    "            outputs = model(input_ids, attention_mask)\n",
    "            loss = criterion(outputs, labels)\n",
    "            loss.backward()\n",
    "            optimizer.step()\n",
    "\n",
    "            epoch_loss += loss.item()\n",
    "            all_preds.extend(torch.argmax(outputs, dim=1).cpu().numpy())\n",
    "            all_labels.extend(labels.cpu().numpy())\n",
    "\n",
    "        acc = accuracy_score(all_labels, all_preds)\n",
    "        prec = precision_score(all_labels, all_preds, average='macro')\n",
    "        rec = recall_score(all_labels, all_preds, average='macro')\n",
    "        f1 = f1_score(all_labels, all_preds, average='macro')\n",
    "        cm = confusion_matrix(all_labels, all_preds).tolist()\n",
    "\n",
    "        stats.append({\n",
    "            \"Epoch\": epoch + 1, \"Loss\": epoch_loss, \"Accuracy\": acc,\n",
    "            \"Precision\": prec, \"Recall\": rec, \"F1_score\": f1, \"Confusion_Matrix\": cm\n",
    "        })\n",
    "\n",
    "        print(f\"Epoch {epoch+1}/{num_epochs} - Loss: {epoch_loss:.4f}, Acc: {acc:.4f}, Prec: {prec:.4f}, Rec: {rec:.4f}, F1: {f1:.4f}\")\n",
    "\n",
    "    df_stats = pd.DataFrame(stats)\n",
    "    df_stats.to_csv(save_path, index=False)\n",
    "    return df_stats\n"
   ]
  },
  {
   "cell_type": "code",
   "execution_count": 11,
   "id": "bedc00ad",
   "metadata": {},
   "outputs": [],
   "source": [
    "def evaluate_model(model, test_loader, device, save_path='test_metrics.csv'):\n",
    "    model.eval()\n",
    "    all_preds, all_labels = [], []\n",
    "\n",
    "    with torch.no_grad():\n",
    "        for batch in test_loader:\n",
    "            input_ids = batch['input_ids'].to(device)\n",
    "            attention_mask = batch['attention_mask'].to(device)\n",
    "            labels = batch['labels'].to(device)\n",
    "\n",
    "            outputs = model(input_ids, attention_mask)\n",
    "            preds = torch.argmax(outputs, dim=1)\n",
    "            all_preds.extend(preds.cpu().numpy())\n",
    "            all_labels.extend(labels.cpu().numpy())\n",
    "\n",
    "    acc = accuracy_score(all_labels, all_preds)\n",
    "    prec = precision_score(all_labels, all_preds, average='macro')\n",
    "    rec = recall_score(all_labels, all_preds, average='macro')\n",
    "    f1 = f1_score(all_labels, all_preds, average='macro')\n",
    "    cm = confusion_matrix(all_labels, all_preds).tolist()\n",
    "\n",
    "    print(\"\\n📊 Test Set Evaluation:\")\n",
    "    print(f\"Accuracy: {acc:.4f}, Precision: {prec:.4f}, Recall: {rec:.4f}, F1: {f1:.4f}\")\n",
    "    print(\"Confusion Matrix:\\n\", cm)\n",
    "\n",
    "    df = pd.DataFrame([{\n",
    "        \"Dataset\": \"Test\", \"Accuracy\": acc, \"Precision\": prec,\n",
    "        \"Recall\": rec, \"F1_score\": f1, \"Confusion_Matrix\": cm\n",
    "    }])\n",
    "    df.to_csv(save_path, index=False)\n",
    "    return df\n",
    "\n",
    "\n",
    "\n",
    "# Prepare dataset and dataloader\n",
    "train_dataset = TextDataset(train_encodings, y_train_balanced)\n",
    "test_dataset = TextDataset(test_encodings, y_test)\n",
    "\n",
    "train_loader = DataLoader(train_dataset, batch_size=16, shuffle=True)\n",
    "test_loader = DataLoader(test_dataset, batch_size=16)\n",
    "\n",
    "# Setup device, loss function, and example optimizer (you can reuse it or define per model)\n",
    "device = torch.device(\"cuda\" if torch.cuda.is_available() else \"cpu\")\n",
    "criterion = nn.CrossEntropyLoss()\n"
   ]
  },
  {
   "cell_type": "code",
   "execution_count": 12,
   "id": "1ccc2fc3",
   "metadata": {},
   "outputs": [
    {
     "name": "stdout",
     "output_type": "stream",
     "text": [
      "Epoch 1/10 - Loss: 39.6027, Acc: 0.6625, Prec: 0.6640, Rec: 0.6625, F1: 0.6617\n",
      "Epoch 2/10 - Loss: 23.3239, Acc: 0.8615, Prec: 0.8622, Rec: 0.8615, F1: 0.8615\n",
      "Epoch 3/10 - Loss: 13.2469, Acc: 0.9308, Prec: 0.9315, Rec: 0.9308, F1: 0.9307\n",
      "Epoch 4/10 - Loss: 7.2765, Acc: 0.9606, Prec: 0.9613, Rec: 0.9606, F1: 0.9606\n",
      "Epoch 5/10 - Loss: 3.5368, Acc: 0.9865, Prec: 0.9866, Rec: 0.9865, F1: 0.9865\n",
      "Epoch 6/10 - Loss: 0.9406, Acc: 0.9981, Prec: 0.9981, Rec: 0.9981, F1: 0.9981\n",
      "Epoch 7/10 - Loss: 0.2825, Acc: 1.0000, Prec: 1.0000, Rec: 1.0000, F1: 1.0000\n",
      "Epoch 8/10 - Loss: 0.1086, Acc: 1.0000, Prec: 1.0000, Rec: 1.0000, F1: 1.0000\n",
      "Epoch 9/10 - Loss: 0.0636, Acc: 1.0000, Prec: 1.0000, Rec: 1.0000, F1: 1.0000\n",
      "Epoch 10/10 - Loss: 0.0461, Acc: 1.0000, Prec: 1.0000, Rec: 1.0000, F1: 1.0000\n"
     ]
    }
   ],
   "source": [
    "# Example: Using BERT + CNN\n",
    "model = BERTCNNClassifier().to(device)\n",
    "optimizer = Adam(model.parameters(), lr=2e-5)\n",
    "train_stats = train_model(model, train_loader, criterion, optimizer, device, save_path=\"Results/bert_cnn_train.csv\")"
   ]
  },
  {
   "cell_type": "code",
   "execution_count": 13,
   "id": "75fa90bb",
   "metadata": {},
   "outputs": [
    {
     "name": "stdout",
     "output_type": "stream",
     "text": [
      "\n",
      "📊 Test Set Evaluation:\n",
      "Accuracy: 0.9452, Precision: 0.7293, Recall: 0.9150, F1: 0.7897\n",
      "Confusion Matrix:\n",
      " [[6455, 351], [41, 305]]\n"
     ]
    }
   ],
   "source": [
    "test_stats = evaluate_model(model, test_loader, device, save_path=\"Results/bert_cnn_test.csv\")\n"
   ]
  },
  {
   "cell_type": "code",
   "execution_count": 14,
   "id": "dc6030af",
   "metadata": {},
   "outputs": [
    {
     "name": "stdout",
     "output_type": "stream",
     "text": [
      "Epoch 1/10 - Loss: 39.3323, Acc: 0.6981, Prec: 0.6982, Rec: 0.6981, F1: 0.6980\n",
      "Epoch 2/10 - Loss: 23.5708, Acc: 0.8615, Prec: 0.8619, Rec: 0.8615, F1: 0.8615\n",
      "Epoch 3/10 - Loss: 13.8027, Acc: 0.9221, Prec: 0.9223, Rec: 0.9221, F1: 0.9221\n",
      "Epoch 4/10 - Loss: 8.3322, Acc: 0.9548, Prec: 0.9549, Rec: 0.9548, F1: 0.9548\n",
      "Epoch 5/10 - Loss: 4.9718, Acc: 0.9788, Prec: 0.9789, Rec: 0.9788, F1: 0.9788\n",
      "Epoch 6/10 - Loss: 3.1248, Acc: 0.9894, Prec: 0.9894, Rec: 0.9894, F1: 0.9894\n",
      "Epoch 7/10 - Loss: 2.6003, Acc: 0.9894, Prec: 0.9894, Rec: 0.9894, F1: 0.9894\n",
      "Epoch 8/10 - Loss: 2.5145, Acc: 0.9913, Prec: 0.9913, Rec: 0.9913, F1: 0.9913\n",
      "Epoch 9/10 - Loss: 1.3404, Acc: 0.9952, Prec: 0.9952, Rec: 0.9952, F1: 0.9952\n",
      "Epoch 10/10 - Loss: 0.5540, Acc: 0.9990, Prec: 0.9990, Rec: 0.9990, F1: 0.9990\n"
     ]
    }
   ],
   "source": [
    "model = BERTLSTMClassifier().to(device)\n",
    "optimizer = Adam(model.parameters(), lr=2e-5)\n",
    "train_stats = train_model(model, train_loader, criterion, optimizer, device, save_path=\"Results/bert_lstm_train.csv\")"
   ]
  },
  {
   "cell_type": "code",
   "execution_count": 15,
   "id": "83351642",
   "metadata": {},
   "outputs": [
    {
     "name": "stdout",
     "output_type": "stream",
     "text": [
      "\n",
      "📊 Test Set Evaluation:\n",
      "Accuracy: 0.9143, Precision: 0.6736, Recall: 0.9152, F1: 0.7307\n",
      "Confusion Matrix:\n",
      " [[6222, 584], [29, 317]]\n"
     ]
    }
   ],
   "source": [
    "test_stats = evaluate_model(model, test_loader, device, save_path=\"Results/bert_lstm_test.csv\")"
   ]
  },
  {
   "cell_type": "code",
   "execution_count": 16,
   "id": "6a7bbc9c",
   "metadata": {},
   "outputs": [
    {
     "name": "stdout",
     "output_type": "stream",
     "text": [
      "Epoch 1/10 - Loss: 42.4337, Acc: 0.6404, Prec: 0.6405, Rec: 0.6404, F1: 0.6403\n",
      "Epoch 2/10 - Loss: 28.7896, Acc: 0.8260, Prec: 0.8273, Rec: 0.8260, F1: 0.8258\n",
      "Epoch 3/10 - Loss: 17.4792, Acc: 0.9087, Prec: 0.9087, Rec: 0.9087, F1: 0.9087\n",
      "Epoch 4/10 - Loss: 10.6994, Acc: 0.9519, Prec: 0.9521, Rec: 0.9519, F1: 0.9519\n",
      "Epoch 5/10 - Loss: 7.5128, Acc: 0.9673, Prec: 0.9673, Rec: 0.9673, F1: 0.9673\n",
      "Epoch 6/10 - Loss: 6.3709, Acc: 0.9750, Prec: 0.9750, Rec: 0.9750, F1: 0.9750\n",
      "Epoch 7/10 - Loss: 3.1484, Acc: 0.9885, Prec: 0.9885, Rec: 0.9885, F1: 0.9885\n",
      "Epoch 8/10 - Loss: 2.6050, Acc: 0.9913, Prec: 0.9914, Rec: 0.9913, F1: 0.9913\n",
      "Epoch 9/10 - Loss: 2.3720, Acc: 0.9885, Prec: 0.9885, Rec: 0.9885, F1: 0.9885\n",
      "Epoch 10/10 - Loss: 0.5906, Acc: 0.9990, Prec: 0.9990, Rec: 0.9990, F1: 0.9990\n"
     ]
    }
   ],
   "source": [
    "model = BERTCNNLSTMClassifier().to(device)\n",
    "optimizer = Adam(model.parameters(), lr=2e-5)\n",
    "train_stats = train_model(model, train_loader, criterion, optimizer, device, save_path=\"Results/bert_cnn_lstm_train.csv\")"
   ]
  },
  {
   "cell_type": "code",
   "execution_count": 17,
   "id": "7b8cf365",
   "metadata": {},
   "outputs": [
    {
     "name": "stdout",
     "output_type": "stream",
     "text": [
      "\n",
      "📊 Test Set Evaluation:\n",
      "Accuracy: 0.9227, Precision: 0.6848, Recall: 0.9114, F1: 0.7436\n",
      "Confusion Matrix:\n",
      " [[6288, 518], [35, 311]]\n"
     ]
    }
   ],
   "source": [
    "test_stats = evaluate_model(model, test_loader, device, save_path=\"Results/bert_cnn_lstm_test.csv\")"
   ]
  }
 ],
 "metadata": {
  "kernelspec": {
   "display_name": "base",
   "language": "python",
   "name": "python3"
  },
  "language_info": {
   "codemirror_mode": {
    "name": "ipython",
    "version": 3
   },
   "file_extension": ".py",
   "mimetype": "text/x-python",
   "name": "python",
   "nbconvert_exporter": "python",
   "pygments_lexer": "ipython3",
   "version": "3.11.4"
  }
 },
 "nbformat": 4,
 "nbformat_minor": 5
}
