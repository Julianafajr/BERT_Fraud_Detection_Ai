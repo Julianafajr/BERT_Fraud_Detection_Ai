{
 "cells": [
  {
   "cell_type": "code",
   "execution_count": 1,
   "id": "bfb65fa1",
   "metadata": {},
   "outputs": [],
   "source": [
    "import pandas as pd\n",
    "from sklearn.model_selection import train_test_split\n",
    "from imblearn.under_sampling import RandomUnderSampler\n",
    "\n",
    "# 1. Load dataset\n",
    "df = pd.read_csv(\"ready_fraud_detection_dataset.csv\")\n",
    "\n",
    "# 2. Create numeric label\n",
    "df['label'] = df['fraudulent'].map({'f': 0, 't': 1})\n",
    "\n",
    "# 3. Drop any rows with missing full_text (just in case)\n",
    "df = df.dropna(subset=['full_text'])\n",
    "\n",
    "# 4. Train-test split (80:20)\n",
    "X = df['full_text']\n",
    "y = df['label']\n",
    "X_train, X_test, y_train, y_test = train_test_split(\n",
    "    X, y, test_size=0.2, stratify=y, random_state=42\n",
    ")\n"
   ]
  },
  {
   "cell_type": "code",
   "execution_count": 2,
   "id": "4038ab08",
   "metadata": {},
   "outputs": [
    {
     "name": "stdout",
     "output_type": "stream",
     "text": [
      "🚨 DEBUGGING CHECKS 🚨\n",
      "Total rows in original df: 17880\n",
      "NaNs in full_text: 0\n",
      "Class distribution in full dataset:\n",
      " label\n",
      "0    17014\n",
      "1      866\n",
      "Name: count, dtype: int64\n",
      "Size of X_train: 14304\n",
      "Size of y_train: 14304\n",
      "NaNs in X_train: 0\n",
      "NaNs in y_train: 0\n",
      "Empty string entries in X_train: 0\n"
     ]
    }
   ],
   "source": [
    "# 🔍 Debugging Block\n",
    "\n",
    "print(\"🚨 DEBUGGING CHECKS 🚨\")\n",
    "print(\"Total rows in original df:\", len(df))\n",
    "print(\"NaNs in full_text:\", df['full_text'].isna().sum())\n",
    "print(\"Class distribution in full dataset:\\n\", df['label'].value_counts())\n",
    "print(\"Size of X_train:\", len(X_train))\n",
    "print(\"Size of y_train:\", len(y_train))\n",
    "\n",
    "# Check for NaNs in training data\n",
    "print(\"NaNs in X_train:\", X_train.isna().sum())\n",
    "print(\"NaNs in y_train:\", y_train.isna().sum())\n",
    "\n",
    "# Optional: Check if X_train has any empty strings\n",
    "empty_text_count = (X_train.str.strip() == \"\").sum()\n",
    "print(\"Empty string entries in X_train:\", empty_text_count)\n",
    "\n",
    "# Sanity check: X_train must not be empty\n",
    "assert len(X_train) > 0, \"❌ X_train is EMPTY!\"\n",
    "assert X_train.isna().sum() == 0, \"❌ X_train contains NaNs!\"\n"
   ]
  },
  {
   "cell_type": "code",
   "execution_count": 3,
   "id": "abed56e2",
   "metadata": {},
   "outputs": [],
   "source": [
    "#  5. Convert X_train to DataFrame (required by RandomUnderSampler)\n",
    "X_train_df = pd.DataFrame({'text': X_train.values})\n",
    "\n",
    "# ✅ Check the length before resampling\n",
    "assert len(X_train_df) > 0, \"X_train is empty!\"\n",
    "\n",
    "# 6. Apply Random Undersampling\n",
    "rus = RandomUnderSampler(random_state=42)\n",
    "X_rus, y_rus = rus.fit_resample(X_train_df, y_train)\n",
    "\n",
    "# 7. Manual Oversampling (repeat minority class)\n",
    "df_rus = pd.DataFrame({'text': X_rus['text'], 'label': y_rus})\n",
    "minority = df_rus[df_rus['label'] == 1]\n",
    "majority = df_rus[df_rus['label'] == 0]\n",
    "minority_oversampled = minority.sample(n=len(majority), replace=True, random_state=42)\n",
    "\n",
    "# 8. Combine and shuffle the balanced data\n",
    "df_balanced = pd.concat([majority, minority_oversampled]).sample(frac=1, random_state=42)\n",
    "\n",
    "# Final balanced train data\n",
    "X_train_balanced = df_balanced['text'].tolist()\n",
    "y_train_balanced = df_balanced['label'].tolist()\n"
   ]
  },
  {
   "cell_type": "code",
   "execution_count": 4,
   "id": "5d663b8a",
   "metadata": {},
   "outputs": [
    {
     "name": "stdout",
     "output_type": "stream",
     "text": [
      "✅ Balanced training set label counts: Counter({0: 693, 1: 693})\n"
     ]
    },
    {
     "data": {
      "image/png": "[encoded data removed]",
      "text/plain": [
       "<Figure size 600x400 with 1 Axes>"
      ]
     },
     "metadata": {},
     "output_type": "display_data"
    }
   ],
   "source": [
    "import matplotlib.pyplot as plt\n",
    "from collections import Counter\n",
    "\n",
    "# Print label distribution\n",
    "print(\"✅ Balanced training set label counts:\", Counter(y_train_balanced))\n",
    "\n",
    "# Create a histogram\n",
    "plt.figure(figsize=(6, 4))\n",
    "plt.hist(y_train_balanced, bins=2, rwidth=0.6, color='skyblue')\n",
    "plt.xticks([0, 1], ['Not Fraudulent (0)', 'Fraudulent (1)'])\n",
    "plt.title(\"Balanced Class Distribution (Train Set)\")\n",
    "plt.xlabel(\"Class\")\n",
    "plt.ylabel(\"Count\")\n",
    "plt.grid(axis='y', linestyle='--', alpha=0.7)\n",
    "plt.tight_layout()\n",
    "plt.show()\n"
   ]
  },
  {
   "cell_type": "code",
   "execution_count": 5,
   "id": "87542a35",
   "metadata": {},
   "outputs": [],
   "source": [
    "from transformers import BertTokenizer\n",
    "\n",
    "# Load pre-trained BERT tokenizer\n",
    "tokenizer = BertTokenizer.from_pretrained('bert-base-uncased')\n",
    "\n",
    "# Tokenize balanced training texts\n",
    "train_encodings = tokenizer(\n",
    "    X_train_balanced,\n",
    "    padding='max_length',       # ensures same length for all\n",
    "    truncation=True,\n",
    "    max_length=512,\n",
    "    return_tensors='pt'\n",
    ")\n",
    "\n",
    "# Tokenize original unbalanced test texts\n",
    "test_encodings = tokenizer(\n",
    "    list(X_test),\n",
    "    padding='max_length',\n",
    "    truncation=True,\n",
    "    max_length=512,\n",
    "    return_tensors='pt'\n",
    ")\n",
    "\n"
   ]
  },
  {
   "cell_type": "code",
   "execution_count": 6,
   "id": "f0335ba5",
   "metadata": {},
   "outputs": [
    {
     "name": "stdout",
     "output_type": "stream",
     "text": [
      "🔢 Input IDs: tensor([  101,  2708,  4082,  2961,  2522,  2080,  2103, 22345,  7126,  3655,\n",
      "         2000, 10938,  2037,  4279,  2011, 16003,  2037,  8144,  3977,  1998,\n",
      "         6631, 18988,  7300,  1998,  4725,  2057,  2079,  2023,  2011,  5094,\n",
      "         3655,  2000,  8970,  3291, 15058,  2094, 21423,  4725,  2029,  2393,\n",
      "         8526,  1037,  2172,  7289,  2451,  1997, 17088,  1999, 13729,  3923,\n",
      "         1998,  2591,  7860,  2004,  1037,  2765,  3655, 15697,  2625,  2270,\n",
      "         4219,  2000,  3618, 23382,  3466,  1998,  3623,  2334,  3105,  4325,\n",
      "         2083,  2062, 20213, 28681,  3686,  2057,  2031,  2949,  2062,  2084,\n",
      "         3938,  2107,  3454,  2007,  2058,  2753,  3655,  4969, 24471,  2140,\n",
      "        12740, 18939,  2620,  4402, 28311,  2509,  2063,  2629, 10354,  2278,\n",
      "         2620, 17914, 24096,  2575, 21619,  2063,  2620,  9468,  2497,  2692,\n",
      "         2620,  2475,  2278,  2692,  2094, 16147,  7959, 27531,  2549, 29292,\n",
      "         2692, 22407, 20958,  2683, 19317,  2620,  6305,  2497, 22203,  5243,\n",
      "        22119,  2549,  2038,  4961,  2000,  3710,  2877,  3795,  3655,  1998,\n",
      "         7601,  7103,  6591,  2057,  2024,  2559,  2005,  1037,  3260, 14876,\n",
      "         7874,  2098,  6143,  1998,  2832, 23356,  2098,  3003,  2007,  3325,\n",
      "        25169,  2019,  9525,  3029,  2877,  2019,  3237,  2968,  2136,  1998,\n",
      "         4975,  1037,  2836,  3226,  2426,  1037,  2177,  1997,  7578, 10904,\n",
      "         3633,  1996,  2522,  2080,  2442,  2022,  1037,  3003,  2040,  2003,\n",
      "         2583,  2000,  2393,  2500,  2012, 24471,  2140, 12740, 18939,  2620,\n",
      "         4402, 28311,  2509,  2063,  2629, 10354,  2278,  2620, 17914, 24096,\n",
      "         2575, 21619,  2063,  2620,  9468,  2497,  2692,  2620,  2475,  2278,\n",
      "         2692,  2094, 16147,  7959, 27531,  2549, 29292,  2692, 22407, 20958,\n",
      "         2683, 19317,  2620,  6305,  2497, 22203,  5243, 22119,  2549,  8116,\n",
      "         2033, 28329,  3465, 12879, 25969,  3512,  3463,  2008,  2191,  2256,\n",
      "         4432,  1037,  4507, 14780,  1996,  3144,  2522,  2080,  2097,  2031,\n",
      "         1996,  4813, 14639,  1998,  3167,  7023,  2000, 11112,  2046,  1996,\n",
      "         2373,  2008,  2169,  2266,  1997,  1996,  2136,  7545,  2000,  2023,\n",
      "         3260,  2096,  2009,  2003,  6827,  2008,  1996,  2522,  2080,  3288,\n",
      "         8114,  1998,  4621,  3001,  2000,  3623,  1996, 15836,  1997,  1996,\n",
      "         3029,  2003,  2009,  2036,  4187,  2008,  1996,  2136,  9279,  1996,\n",
      "         5541, 12125,  2008,  9297,  1996, 24471,  2140, 12740, 18939,  2620,\n",
      "         4402, 28311,  2509,  2063,  2629, 10354,  2278,  2620, 17914, 24096,\n",
      "         2575, 21619,  2063,  2620,  9468,  2497,  2692,  2620,  2475,  2278,\n",
      "         2692,  2094, 16147,  7959, 27531,  2549, 29292,  2692, 22407, 20958,\n",
      "         2683, 19317,  2620,  6305,  2497, 22203,  5243, 22119,  2549,  4145,\n",
      "        24471,  2140, 12740, 18939,  2620,  4402, 28311,  2509,  2063,  2629,\n",
      "        10354,  2278,  2620, 17914, 24096,  2575, 21619,  2063,  2620,  9468,\n",
      "         2497,  2692,  2620,  2475,  2278,  2692,  2094, 16147,  7959, 27531,\n",
      "         2549, 29292,  2692, 22407, 20958,  2683, 19317,  2620,  6305,  2497,\n",
      "        22203,  5243, 22119,  2549,  2003,  3569,  1999,  2023, 15680,  2011,\n",
      "         2156,  3669,  4590, 24707,  1998, 13378, 20934,  2229,  2080, 10373,\n",
      "         2581, 15136, 27009,  2098,  2549, 11329, 22025, 27009, 27717,  2575,\n",
      "        19841, 17465,  2581,  2487,  2497,  2850, 18827, 14526,  2050, 23833,\n",
      "         2050,  2549,  2278,  2581,  2620,  2475,  2497, 19317,  2629,  6305,\n",
      "         2581,  9468,  2094,  2487, 15878,  2581, 17465, 10354,  2620,  2278,\n",
      "         2581,  2475,  2278, 26187,  1056,  4090,  6205,  5401,  2581,  5585,\n",
      "         6255,  2003,  2800,  2005,  2151,  3622,  4372, 15549,  5134, 10198,\n",
      "         1996,  2522,  2080,  2097,  2599,  2035,  4722,  3136,  1998,  2097,\n",
      "         2031,  1996,  2206, 10198,  2551,  1999,  5386,  2007,  1996,  3237,\n",
      "         2604,  2000,  3443,  1996,  6143,  2933,  1998, 10408,  2047,  6194,\n",
      "         1998,   102])\n",
      "🧠 Attention Mask: tensor([1, 1, 1, 1, 1, 1, 1, 1, 1, 1, 1, 1, 1, 1, 1, 1, 1, 1, 1, 1, 1, 1, 1, 1,\n",
      "        1, 1, 1, 1, 1, 1, 1, 1, 1, 1, 1, 1, 1, 1, 1, 1, 1, 1, 1, 1, 1, 1, 1, 1,\n",
      "        1, 1, 1, 1, 1, 1, 1, 1, 1, 1, 1, 1, 1, 1, 1, 1, 1, 1, 1, 1, 1, 1, 1, 1,\n",
      "        1, 1, 1, 1, 1, 1, 1, 1, 1, 1, 1, 1, 1, 1, 1, 1, 1, 1, 1, 1, 1, 1, 1, 1,\n",
      "        1, 1, 1, 1, 1, 1, 1, 1, 1, 1, 1, 1, 1, 1, 1, 1, 1, 1, 1, 1, 1, 1, 1, 1,\n",
      "        1, 1, 1, 1, 1, 1, 1, 1, 1, 1, 1, 1, 1, 1, 1, 1, 1, 1, 1, 1, 1, 1, 1, 1,\n",
      "        1, 1, 1, 1, 1, 1, 1, 1, 1, 1, 1, 1, 1, 1, 1, 1, 1, 1, 1, 1, 1, 1, 1, 1,\n",
      "        1, 1, 1, 1, 1, 1, 1, 1, 1, 1, 1, 1, 1, 1, 1, 1, 1, 1, 1, 1, 1, 1, 1, 1,\n",
      "        1, 1, 1, 1, 1, 1, 1, 1, 1, 1, 1, 1, 1, 1, 1, 1, 1, 1, 1, 1, 1, 1, 1, 1,\n",
      "        1, 1, 1, 1, 1, 1, 1, 1, 1, 1, 1, 1, 1, 1, 1, 1, 1, 1, 1, 1, 1, 1, 1, 1,\n",
      "        1, 1, 1, 1, 1, 1, 1, 1, 1, 1, 1, 1, 1, 1, 1, 1, 1, 1, 1, 1, 1, 1, 1, 1,\n",
      "        1, 1, 1, 1, 1, 1, 1, 1, 1, 1, 1, 1, 1, 1, 1, 1, 1, 1, 1, 1, 1, 1, 1, 1,\n",
      "        1, 1, 1, 1, 1, 1, 1, 1, 1, 1, 1, 1, 1, 1, 1, 1, 1, 1, 1, 1, 1, 1, 1, 1,\n",
      "        1, 1, 1, 1, 1, 1, 1, 1, 1, 1, 1, 1, 1, 1, 1, 1, 1, 1, 1, 1, 1, 1, 1, 1,\n",
      "        1, 1, 1, 1, 1, 1, 1, 1, 1, 1, 1, 1, 1, 1, 1, 1, 1, 1, 1, 1, 1, 1, 1, 1,\n",
      "        1, 1, 1, 1, 1, 1, 1, 1, 1, 1, 1, 1, 1, 1, 1, 1, 1, 1, 1, 1, 1, 1, 1, 1,\n",
      "        1, 1, 1, 1, 1, 1, 1, 1, 1, 1, 1, 1, 1, 1, 1, 1, 1, 1, 1, 1, 1, 1, 1, 1,\n",
      "        1, 1, 1, 1, 1, 1, 1, 1, 1, 1, 1, 1, 1, 1, 1, 1, 1, 1, 1, 1, 1, 1, 1, 1,\n",
      "        1, 1, 1, 1, 1, 1, 1, 1, 1, 1, 1, 1, 1, 1, 1, 1, 1, 1, 1, 1, 1, 1, 1, 1,\n",
      "        1, 1, 1, 1, 1, 1, 1, 1, 1, 1, 1, 1, 1, 1, 1, 1, 1, 1, 1, 1, 1, 1, 1, 1,\n",
      "        1, 1, 1, 1, 1, 1, 1, 1, 1, 1, 1, 1, 1, 1, 1, 1, 1, 1, 1, 1, 1, 1, 1, 1,\n",
      "        1, 1, 1, 1, 1, 1, 1, 1])\n",
      "📝 Decoded Text:\n",
      " chief operating officer coo citymart helps cities to transform their communities by strengthening their innovation capacity and sharing inspiring solutions and methods we do this by helping cities to introduce problembased procurement methods which help engage a much wider community of vendors in solving urban and social challenges as a result cities invest less public resources to greater societal effect and increase local job creation through more entrepreneurship todate we have completed more than 90 such programs with over 50 cities worldwide url40db8ee573e5afc88001636e8ccb082c0d19fe854bf028429228acb51eacede4 has grown to serve leading global cities and innovators we are looking for a missionfocused strategic and processminded leader with experience scaling an innovative organization leading an executive management team and developing a performance culture among a group of diverse talented individuals the coo must be a leader who is able to help others at url40db8ee573e5afc88001636e8ccb082c0d19fe854bf028429228acb51eacede4 deliver measurable costeffective results that make our vision a reality importantly the successful coo will have the skills sensitivity and personal confidence to tap into the power that each member of the team brings to this mission while it is essential that the coo bring efficient and effective systems to increase the productivity of the organization is it also critical that the team retain the creative spark that drives the url40db8ee573e5afc88001636e8ccb082c0d19fe854bf028429228acb51eacede4 concept url40db8ee573e5afc88001636e8ccb082c0d19fe854bf028429228acb51eacede4 is supported in this recruitment by seeliger conde and sylvia bueso email71854ed4fc3854a16702171bda2411a26a4c782b225ac7ccd1eb721af8c72c65 t 34 91 577 99 77 is available for any direct enquiries responsibilities the coo will lead all internal operations and will have the following responsibilities working in partnership with the executive board to create the strategic plan and implement new processes and\n"
     ]
    }
   ],
   "source": [
    "# Sample index to inspect\n",
    "sample_idx = 5\n",
    "\n",
    "# Show token IDs\n",
    "print(\"🔢 Input IDs:\", train_encodings['input_ids'][sample_idx])\n",
    "\n",
    "# Show attention mask\n",
    "print(\"🧠 Attention Mask:\", train_encodings['attention_mask'][sample_idx])\n",
    "\n",
    "# Decode tokens back to text for readability\n",
    "decoded_text = tokenizer.decode(train_encodings['input_ids'][sample_idx], skip_special_tokens=True)\n",
    "print(\"📝 Decoded Text:\\n\", decoded_text)\n"
   ]
  },
  {
   "cell_type": "code",
   "execution_count": 7,
   "id": "3a2fffd6",
   "metadata": {},
   "outputs": [
    {
     "name": "stdout",
     "output_type": "stream",
     "text": [
      "Length of encodings: 1386\n",
      "Length of labels: 1386\n"
     ]
    }
   ],
   "source": [
    "print(f\"Length of encodings: {len(train_encodings['input_ids'])}\")\n",
    "print(f\"Length of labels: {len(y_train_balanced)}\")\n"
   ]
  },
  {
   "cell_type": "code",
   "execution_count": 8,
   "id": "c71dbd55",
   "metadata": {},
   "outputs": [],
   "source": [
    "import torch\n",
    "import torch.nn as nn\n",
    "from torch.utils.data import Dataset, DataLoader\n",
    "from transformers import BertTokenizer, BertModel\n",
    "from torch.optim import Adam\n",
    "from sklearn.metrics import accuracy_score, precision_score, recall_score, f1_score, confusion_matrix\n",
    "import pandas as pd\n",
    "\n",
    "class TextDataset(Dataset):\n",
    "    def __init__(self, encodings, labels):\n",
    "        self.encodings = encodings\n",
    "        self.labels = labels\n",
    "\n",
    "    def __len__(self):\n",
    "        return len(self.labels)\n",
    "\n",
    "    def __getitem__(self, idx):\n",
    "        item = {key: val[idx] for key, val in self.encodings.items()}\n",
    "        if isinstance(self.labels, (list, torch.Tensor)):\n",
    "            item['labels'] = torch.tensor(self.labels[idx], dtype=torch.long)\n",
    "        else:\n",
    "            item['labels'] = torch.tensor(self.labels.iloc[idx], dtype=torch.long)\n",
    "        return item\n"
   ]
  },
  {
   "cell_type": "code",
   "execution_count": 9,
   "id": "e90c9bf9",
   "metadata": {},
   "outputs": [],
   "source": [
    "class BERTCNNClassifier(nn.Module):\n",
    "    def __init__(self, bert_model_name='bert-base-uncased', num_classes=2):\n",
    "        super(BERTCNNClassifier, self).__init__()\n",
    "        self.bert = BertModel.from_pretrained(bert_model_name)\n",
    "        self.conv1 = nn.Conv1d(in_channels=768, out_channels=256, kernel_size=3, padding=1)\n",
    "        self.relu = nn.ReLU()\n",
    "        self.pool = nn.AdaptiveMaxPool1d(1)\n",
    "        self.dropout = nn.Dropout(0.3)\n",
    "        self.fc = nn.Linear(256, num_classes)\n",
    "\n",
    "    def forward(self, input_ids, attention_mask):\n",
    "        x = self.bert(input_ids=input_ids, attention_mask=attention_mask).last_hidden_state\n",
    "        x = x.permute(0, 2, 1)\n",
    "        x = self.relu(self.conv1(x))\n",
    "        x = self.pool(x).squeeze(2)\n",
    "        x = self.dropout(x)\n",
    "        return self.fc(x)\n",
    "\n",
    "\n",
    "class BERTLSTMClassifier(nn.Module):\n",
    "    def __init__(self, bert_model_name='bert-base-uncased', hidden_size=256, num_classes=2, num_layers=1, bidirectional=True):\n",
    "        super(BERTLSTMClassifier, self).__init__()\n",
    "        self.bert = BertModel.from_pretrained(bert_model_name)\n",
    "        self.lstm = nn.LSTM(input_size=768, hidden_size=hidden_size, num_layers=num_layers,\n",
    "                            batch_first=True, bidirectional=bidirectional)\n",
    "        self.dropout = nn.Dropout(0.3)\n",
    "        self.fc = nn.Linear(hidden_size * 2 if bidirectional else hidden_size, num_classes)\n",
    "\n",
    "    def forward(self, input_ids, attention_mask):\n",
    "        x = self.bert(input_ids=input_ids, attention_mask=attention_mask).last_hidden_state\n",
    "        x, _ = self.lstm(x)\n",
    "        x = self.dropout(x[:, -1, :])\n",
    "        return self.fc(x)\n",
    "\n",
    "\n",
    "class BERTCNNLSTMClassifier(nn.Module):\n",
    "    def __init__(self, bert_model_name='bert-base-uncased', cnn_out_channels=256, lstm_hidden_size=128, num_classes=2, num_layers=1, bidirectional=True):\n",
    "        super(BERTCNNLSTMClassifier, self).__init__()\n",
    "        self.bert = BertModel.from_pretrained(bert_model_name)\n",
    "        self.conv1 = nn.Conv1d(in_channels=768, out_channels=cnn_out_channels, kernel_size=3, padding=1)\n",
    "        self.relu = nn.ReLU()\n",
    "        self.lstm = nn.LSTM(input_size=cnn_out_channels, hidden_size=lstm_hidden_size, num_layers=num_layers,\n",
    "                            batch_first=True, bidirectional=bidirectional)\n",
    "        self.dropout = nn.Dropout(0.3)\n",
    "        self.fc = nn.Linear(lstm_hidden_size * 2 if bidirectional else lstm_hidden_size, num_classes)\n",
    "\n",
    "    def forward(self, input_ids, attention_mask):\n",
    "        x = self.bert(input_ids=input_ids, attention_mask=attention_mask).last_hidden_state\n",
    "        x = self.relu(self.conv1(x.permute(0, 2, 1))).permute(0, 2, 1)\n",
    "        x, _ = self.lstm(x)\n",
    "        x = self.dropout(x[:, -1, :])\n",
    "        return self.fc(x)\n"
   ]
  },
  {
   "cell_type": "code",
   "execution_count": 10,
   "id": "cb428385",
   "metadata": {},
   "outputs": [],
   "source": [
    "def train_model(model, train_loader, criterion, optimizer, device, num_epochs=10, save_path='training_metrics.csv'):\n",
    "    model.train()\n",
    "    stats = []\n",
    "\n",
    "    for epoch in range(num_epochs):\n",
    "        epoch_loss, all_preds, all_labels = 0.0, [], []\n",
    "\n",
    "        for batch in train_loader:\n",
    "            input_ids = batch['input_ids'].to(device)\n",
    "            attention_mask = batch['attention_mask'].to(device)\n",
    "            labels = batch['labels'].to(device)\n",
    "\n",
    "            optimizer.zero_grad()\n",
    "            outputs = model(input_ids, attention_mask)\n",
    "            loss = criterion(outputs, labels)\n",
    "            loss.backward()\n",
    "            optimizer.step()\n",
    "\n",
    "            epoch_loss += loss.item()\n",
    "            all_preds.extend(torch.argmax(outputs, dim=1).cpu().numpy())\n",
    "            all_labels.extend(labels.cpu().numpy())\n",
    "\n",
    "        acc = accuracy_score(all_labels, all_preds)\n",
    "        prec = precision_score(all_labels, all_preds, average='macro')\n",
    "        rec = recall_score(all_labels, all_preds, average='macro')\n",
    "        f1 = f1_score(all_labels, all_preds, average='macro')\n",
    "        cm = confusion_matrix(all_labels, all_preds).tolist()\n",
    "\n",
    "        stats.append({\n",
    "            \"Epoch\": epoch + 1, \"Loss\": epoch_loss, \"Accuracy\": acc,\n",
    "            \"Precision\": prec, \"Recall\": rec, \"F1_score\": f1, \"Confusion_Matrix\": cm\n",
    "        })\n",
    "\n",
    "        print(f\"Epoch {epoch+1}/{num_epochs} - Loss: {epoch_loss:.4f}, Acc: {acc:.4f}, Prec: {prec:.4f}, Rec: {rec:.4f}, F1: {f1:.4f}\")\n",
    "\n",
    "    df_stats = pd.DataFrame(stats)\n",
    "    df_stats.to_csv(save_path, index=False)\n",
    "    return df_stats\n"
   ]
  },
  {
   "cell_type": "code",
   "execution_count": 11,
   "id": "bedc00ad",
   "metadata": {},
   "outputs": [],
   "source": [
    "def evaluate_model(model, test_loader, device, save_path='test_metrics.csv'):\n",
    "    model.eval()\n",
    "    all_preds, all_labels = [], []\n",
    "\n",
    "    with torch.no_grad():\n",
    "        for batch in test_loader:\n",
    "            input_ids = batch['input_ids'].to(device)\n",
    "            attention_mask = batch['attention_mask'].to(device)\n",
    "            labels = batch['labels'].to(device)\n",
    "\n",
    "            outputs = model(input_ids, attention_mask)\n",
    "            preds = torch.argmax(outputs, dim=1)\n",
    "            all_preds.extend(preds.cpu().numpy())\n",
    "            all_labels.extend(labels.cpu().numpy())\n",
    "\n",
    "    acc = accuracy_score(all_labels, all_preds)\n",
    "    prec = precision_score(all_labels, all_preds, average='macro')\n",
    "    rec = recall_score(all_labels, all_preds, average='macro')\n",
    "    f1 = f1_score(all_labels, all_preds, average='macro')\n",
    "    cm = confusion_matrix(all_labels, all_preds).tolist()\n",
    "\n",
    "    print(\"\\n📊 Test Set Evaluation:\")\n",
    "    print(f\"Accuracy: {acc:.4f}, Precision: {prec:.4f}, Recall: {rec:.4f}, F1: {f1:.4f}\")\n",
    "    print(\"Confusion Matrix:\\n\", cm)\n",
    "\n",
    "    df = pd.DataFrame([{\n",
    "        \"Dataset\": \"Test\", \"Accuracy\": acc, \"Precision\": prec,\n",
    "        \"Recall\": rec, \"F1_score\": f1, \"Confusion_Matrix\": cm\n",
    "    }])\n",
    "    df.to_csv(save_path, index=False)\n",
    "    return df\n",
    "\n",
    "\n",
    "\n",
    "# Prepare dataset and dataloader\n",
    "train_dataset = TextDataset(train_encodings, y_train_balanced)\n",
    "test_dataset = TextDataset(test_encodings, y_test)\n",
    "\n",
    "train_loader = DataLoader(train_dataset, batch_size=16, shuffle=True)\n",
    "test_loader = DataLoader(test_dataset, batch_size=16)\n",
    "\n",
    "# Setup device, loss function, and example optimizer (you can reuse it or define per model)\n",
    "device = torch.device(\"cuda\" if torch.cuda.is_available() else \"cpu\")\n",
    "criterion = nn.CrossEntropyLoss()\n"
   ]
  },
  {
   "cell_type": "code",
   "execution_count": 12,
   "id": "1ccc2fc3",
   "metadata": {},
   "outputs": [
    {
     "name": "stdout",
     "output_type": "stream",
     "text": [
      "Epoch 1/10 - Loss: 50.4639, Acc: 0.6905, Prec: 0.6908, Rec: 0.6905, F1: 0.6904\n",
      "Epoch 2/10 - Loss: 27.2049, Acc: 0.8730, Prec: 0.8731, Rec: 0.8730, F1: 0.8730\n",
      "Epoch 3/10 - Loss: 13.3464, Acc: 0.9452, Prec: 0.9452, Rec: 0.9452, F1: 0.9452\n",
      "Epoch 4/10 - Loss: 6.2778, Acc: 0.9827, Prec: 0.9827, Rec: 0.9827, F1: 0.9827\n",
      "Epoch 5/10 - Loss: 3.3748, Acc: 0.9870, Prec: 0.9870, Rec: 0.9870, F1: 0.9870\n",
      "Epoch 6/10 - Loss: 1.0201, Acc: 0.9971, Prec: 0.9971, Rec: 0.9971, F1: 0.9971\n",
      "Epoch 7/10 - Loss: 0.5973, Acc: 0.9986, Prec: 0.9986, Rec: 0.9986, F1: 0.9986\n",
      "Epoch 8/10 - Loss: 0.1273, Acc: 1.0000, Prec: 1.0000, Rec: 1.0000, F1: 1.0000\n",
      "Epoch 9/10 - Loss: 0.0663, Acc: 1.0000, Prec: 1.0000, Rec: 1.0000, F1: 1.0000\n",
      "Epoch 10/10 - Loss: 0.0461, Acc: 1.0000, Prec: 1.0000, Rec: 1.0000, F1: 1.0000\n"
     ]
    }
   ],
   "source": [
    "# Example: Using BERT + CNN\n",
    "model = BERTCNNClassifier().to(device)\n",
    "optimizer = Adam(model.parameters(), lr=2e-5)\n",
    "train_stats = train_model(model, train_loader, criterion, optimizer, device, save_path=\"Results/bert_cnn_train.csv\")"
   ]
  },
  {
   "cell_type": "code",
   "execution_count": 13,
   "id": "75fa90bb",
   "metadata": {},
   "outputs": [
    {
     "name": "stdout",
     "output_type": "stream",
     "text": [
      "\n",
      "📊 Test Set Evaluation:\n",
      "Accuracy: 0.9444, Precision: 0.7287, Recall: 0.9296, F1: 0.7918\n",
      "Confusion Matrix:\n",
      " [[3219, 184], [15, 158]]\n"
     ]
    }
   ],
   "source": [
    "test_stats = evaluate_model(model, test_loader, device, save_path=\"Results/bert_cnn_test.csv\")\n"
   ]
  },
  {
   "cell_type": "code",
   "execution_count": 14,
   "id": "dc6030af",
   "metadata": {},
   "outputs": [
    {
     "name": "stdout",
     "output_type": "stream",
     "text": [
      "Epoch 1/10 - Loss: 45.9871, Acc: 0.7273, Prec: 0.7289, Rec: 0.7273, F1: 0.7268\n",
      "Epoch 2/10 - Loss: 22.2946, Acc: 0.8997, Prec: 0.8999, Rec: 0.8997, F1: 0.8997\n",
      "Epoch 3/10 - Loss: 11.8867, Acc: 0.9509, Prec: 0.9510, Rec: 0.9509, F1: 0.9509\n",
      "Epoch 4/10 - Loss: 8.5415, Acc: 0.9704, Prec: 0.9704, Rec: 0.9704, F1: 0.9704\n",
      "Epoch 5/10 - Loss: 3.7849, Acc: 0.9885, Prec: 0.9885, Rec: 0.9885, F1: 0.9885\n",
      "Epoch 6/10 - Loss: 1.4972, Acc: 0.9957, Prec: 0.9957, Rec: 0.9957, F1: 0.9957\n",
      "Epoch 7/10 - Loss: 0.5625, Acc: 0.9993, Prec: 0.9993, Rec: 0.9993, F1: 0.9993\n",
      "Epoch 8/10 - Loss: 0.2749, Acc: 1.0000, Prec: 1.0000, Rec: 1.0000, F1: 1.0000\n",
      "Epoch 9/10 - Loss: 0.2011, Acc: 1.0000, Prec: 1.0000, Rec: 1.0000, F1: 1.0000\n",
      "Epoch 10/10 - Loss: 0.1547, Acc: 1.0000, Prec: 1.0000, Rec: 1.0000, F1: 1.0000\n"
     ]
    }
   ],
   "source": [
    "model = BERTLSTMClassifier().to(device)\n",
    "optimizer = Adam(model.parameters(), lr=2e-5)\n",
    "train_stats = train_model(model, train_loader, criterion, optimizer, device, save_path=\"Results/bert_lstm_train.csv\")"
   ]
  },
  {
   "cell_type": "code",
   "execution_count": 15,
   "id": "83351642",
   "metadata": {},
   "outputs": [
    {
     "name": "stdout",
     "output_type": "stream",
     "text": [
      "\n",
      "📊 Test Set Evaluation:\n",
      "Accuracy: 0.9371, Precision: 0.7116, Recall: 0.9203, F1: 0.7735\n",
      "Confusion Matrix:\n",
      " [[3195, 208], [17, 156]]\n"
     ]
    }
   ],
   "source": [
    "test_stats = evaluate_model(model, test_loader, device, save_path=\"Results/bert_lstm_test.csv\")"
   ]
  },
  {
   "cell_type": "code",
   "execution_count": 16,
   "id": "6a7bbc9c",
   "metadata": {},
   "outputs": [
    {
     "name": "stdout",
     "output_type": "stream",
     "text": [
      "Epoch 1/10 - Loss: 53.5396, Acc: 0.6609, Prec: 0.6620, Rec: 0.6609, F1: 0.6603\n",
      "Epoch 2/10 - Loss: 35.4373, Acc: 0.8405, Prec: 0.8406, Rec: 0.8405, F1: 0.8405\n",
      "Epoch 3/10 - Loss: 22.2903, Acc: 0.9206, Prec: 0.9208, Rec: 0.9206, F1: 0.9206\n",
      "Epoch 4/10 - Loss: 14.3863, Acc: 0.9531, Prec: 0.9531, Rec: 0.9531, F1: 0.9531\n",
      "Epoch 5/10 - Loss: 9.8507, Acc: 0.9704, Prec: 0.9704, Rec: 0.9704, F1: 0.9704\n",
      "Epoch 6/10 - Loss: 8.4736, Acc: 0.9733, Prec: 0.9735, Rec: 0.9733, F1: 0.9733\n",
      "Epoch 7/10 - Loss: 5.3086, Acc: 0.9848, Prec: 0.9849, Rec: 0.9848, F1: 0.9848\n",
      "Epoch 8/10 - Loss: 3.4705, Acc: 0.9935, Prec: 0.9935, Rec: 0.9935, F1: 0.9935\n",
      "Epoch 9/10 - Loss: 3.3103, Acc: 0.9928, Prec: 0.9928, Rec: 0.9928, F1: 0.9928\n",
      "Epoch 10/10 - Loss: 2.0778, Acc: 0.9964, Prec: 0.9964, Rec: 0.9964, F1: 0.9964\n"
     ]
    }
   ],
   "source": [
    "model = BERTCNNLSTMClassifier().to(device)\n",
    "optimizer = Adam(model.parameters(), lr=2e-5)\n",
    "train_stats = train_model(model, train_loader, criterion, optimizer, device, save_path=\"Results/bert_cnn_lstm_train.csv\")"
   ]
  },
  {
   "cell_type": "code",
   "execution_count": 17,
   "id": "7b8cf365",
   "metadata": {},
   "outputs": [
    {
     "name": "stdout",
     "output_type": "stream",
     "text": [
      "\n",
      "📊 Test Set Evaluation:\n",
      "Accuracy: 0.9379, Precision: 0.7138, Recall: 0.9235, F1: 0.7761\n",
      "Confusion Matrix:\n",
      " [[3197, 206], [16, 157]]\n"
     ]
    }
   ],
   "source": [
    "test_stats = evaluate_model(model, test_loader, device, save_path=\"Results/bert_cnn_lstm_test.csv\")"
   ]
  }
 ],
 "metadata": {
  "kernelspec": {
   "display_name": "base",
   "language": "python",
   "name": "python3"
  },
  "language_info": {
   "codemirror_mode": {
    "name": "ipython",
    "version": 3
   },
   "file_extension": ".py",
   "mimetype": "text/x-python",
   "name": "python",
   "nbconvert_exporter": "python",
   "pygments_lexer": "ipython3",
   "version": "3.11.4"
  }
 },
 "nbformat": 4,
 "nbformat_minor": 5
}
